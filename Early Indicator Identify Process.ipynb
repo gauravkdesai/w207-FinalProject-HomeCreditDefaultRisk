{
 "cells": [
  {
   "cell_type": "code",
   "execution_count": 128,
   "metadata": {},
   "outputs": [],
   "source": [
    "import numpy as np\n",
    "import pandas as pd\n",
    "import matplotlib.pyplot as plt\n",
    "import warnings\n",
    "import os\n",
    "import pprint\n",
    "import zipfile\n",
    "import seaborn as sns;sns.set(color_codes=True)\n",
    "from sklearn.preprocessing import LabelEncoder\n",
    "from sklearn.preprocessing import Imputer"
   ]
  },
  {
   "cell_type": "code",
   "execution_count": 76,
   "metadata": {},
   "outputs": [],
   "source": [
    "#Notebook lavel configurations\n",
    "warnings.filterwarnings('ignore')\n",
    "pp = pprint.PrettyPrinter(indent=4)"
   ]
  },
  {
   "cell_type": "code",
   "execution_count": 77,
   "metadata": {},
   "outputs": [],
   "source": [
    "input_dir = 'input.nosync'"
   ]
  },
  {
   "cell_type": "code",
   "execution_count": 78,
   "metadata": {},
   "outputs": [
    {
     "name": "stdout",
     "output_type": "stream",
     "text": [
      "Training data shape:  (307511, 122)\n",
      "Test data shape:  (48744, 121)\n"
     ]
    },
    {
     "data": {
      "text/html": [
       "<div>\n",
       "<style scoped>\n",
       "    .dataframe tbody tr th:only-of-type {\n",
       "        vertical-align: middle;\n",
       "    }\n",
       "\n",
       "    .dataframe tbody tr th {\n",
       "        vertical-align: top;\n",
       "    }\n",
       "\n",
       "    .dataframe thead th {\n",
       "        text-align: right;\n",
       "    }\n",
       "</style>\n",
       "<table border=\"1\" class=\"dataframe\">\n",
       "  <thead>\n",
       "    <tr style=\"text-align: right;\">\n",
       "      <th></th>\n",
       "      <th>SK_ID_CURR</th>\n",
       "      <th>TARGET</th>\n",
       "      <th>NAME_CONTRACT_TYPE</th>\n",
       "      <th>CODE_GENDER</th>\n",
       "      <th>FLAG_OWN_CAR</th>\n",
       "      <th>FLAG_OWN_REALTY</th>\n",
       "      <th>CNT_CHILDREN</th>\n",
       "      <th>AMT_INCOME_TOTAL</th>\n",
       "      <th>AMT_CREDIT</th>\n",
       "      <th>AMT_ANNUITY</th>\n",
       "      <th>...</th>\n",
       "      <th>FLAG_DOCUMENT_18</th>\n",
       "      <th>FLAG_DOCUMENT_19</th>\n",
       "      <th>FLAG_DOCUMENT_20</th>\n",
       "      <th>FLAG_DOCUMENT_21</th>\n",
       "      <th>AMT_REQ_CREDIT_BUREAU_HOUR</th>\n",
       "      <th>AMT_REQ_CREDIT_BUREAU_DAY</th>\n",
       "      <th>AMT_REQ_CREDIT_BUREAU_WEEK</th>\n",
       "      <th>AMT_REQ_CREDIT_BUREAU_MON</th>\n",
       "      <th>AMT_REQ_CREDIT_BUREAU_QRT</th>\n",
       "      <th>AMT_REQ_CREDIT_BUREAU_YEAR</th>\n",
       "    </tr>\n",
       "  </thead>\n",
       "  <tbody>\n",
       "    <tr>\n",
       "      <th>0</th>\n",
       "      <td>100002</td>\n",
       "      <td>1</td>\n",
       "      <td>Cash loans</td>\n",
       "      <td>M</td>\n",
       "      <td>N</td>\n",
       "      <td>Y</td>\n",
       "      <td>0</td>\n",
       "      <td>202500.0</td>\n",
       "      <td>406597.5</td>\n",
       "      <td>24700.5</td>\n",
       "      <td>...</td>\n",
       "      <td>0</td>\n",
       "      <td>0</td>\n",
       "      <td>0</td>\n",
       "      <td>0</td>\n",
       "      <td>0.0</td>\n",
       "      <td>0.0</td>\n",
       "      <td>0.0</td>\n",
       "      <td>0.0</td>\n",
       "      <td>0.0</td>\n",
       "      <td>1.0</td>\n",
       "    </tr>\n",
       "    <tr>\n",
       "      <th>1</th>\n",
       "      <td>100003</td>\n",
       "      <td>0</td>\n",
       "      <td>Cash loans</td>\n",
       "      <td>F</td>\n",
       "      <td>N</td>\n",
       "      <td>N</td>\n",
       "      <td>0</td>\n",
       "      <td>270000.0</td>\n",
       "      <td>1293502.5</td>\n",
       "      <td>35698.5</td>\n",
       "      <td>...</td>\n",
       "      <td>0</td>\n",
       "      <td>0</td>\n",
       "      <td>0</td>\n",
       "      <td>0</td>\n",
       "      <td>0.0</td>\n",
       "      <td>0.0</td>\n",
       "      <td>0.0</td>\n",
       "      <td>0.0</td>\n",
       "      <td>0.0</td>\n",
       "      <td>0.0</td>\n",
       "    </tr>\n",
       "    <tr>\n",
       "      <th>2</th>\n",
       "      <td>100004</td>\n",
       "      <td>0</td>\n",
       "      <td>Revolving loans</td>\n",
       "      <td>M</td>\n",
       "      <td>Y</td>\n",
       "      <td>Y</td>\n",
       "      <td>0</td>\n",
       "      <td>67500.0</td>\n",
       "      <td>135000.0</td>\n",
       "      <td>6750.0</td>\n",
       "      <td>...</td>\n",
       "      <td>0</td>\n",
       "      <td>0</td>\n",
       "      <td>0</td>\n",
       "      <td>0</td>\n",
       "      <td>0.0</td>\n",
       "      <td>0.0</td>\n",
       "      <td>0.0</td>\n",
       "      <td>0.0</td>\n",
       "      <td>0.0</td>\n",
       "      <td>0.0</td>\n",
       "    </tr>\n",
       "    <tr>\n",
       "      <th>3</th>\n",
       "      <td>100006</td>\n",
       "      <td>0</td>\n",
       "      <td>Cash loans</td>\n",
       "      <td>F</td>\n",
       "      <td>N</td>\n",
       "      <td>Y</td>\n",
       "      <td>0</td>\n",
       "      <td>135000.0</td>\n",
       "      <td>312682.5</td>\n",
       "      <td>29686.5</td>\n",
       "      <td>...</td>\n",
       "      <td>0</td>\n",
       "      <td>0</td>\n",
       "      <td>0</td>\n",
       "      <td>0</td>\n",
       "      <td>NaN</td>\n",
       "      <td>NaN</td>\n",
       "      <td>NaN</td>\n",
       "      <td>NaN</td>\n",
       "      <td>NaN</td>\n",
       "      <td>NaN</td>\n",
       "    </tr>\n",
       "    <tr>\n",
       "      <th>4</th>\n",
       "      <td>100007</td>\n",
       "      <td>0</td>\n",
       "      <td>Cash loans</td>\n",
       "      <td>M</td>\n",
       "      <td>N</td>\n",
       "      <td>Y</td>\n",
       "      <td>0</td>\n",
       "      <td>121500.0</td>\n",
       "      <td>513000.0</td>\n",
       "      <td>21865.5</td>\n",
       "      <td>...</td>\n",
       "      <td>0</td>\n",
       "      <td>0</td>\n",
       "      <td>0</td>\n",
       "      <td>0</td>\n",
       "      <td>0.0</td>\n",
       "      <td>0.0</td>\n",
       "      <td>0.0</td>\n",
       "      <td>0.0</td>\n",
       "      <td>0.0</td>\n",
       "      <td>0.0</td>\n",
       "    </tr>\n",
       "  </tbody>\n",
       "</table>\n",
       "<p>5 rows × 122 columns</p>\n",
       "</div>"
      ],
      "text/plain": [
       "   SK_ID_CURR  TARGET NAME_CONTRACT_TYPE CODE_GENDER FLAG_OWN_CAR  \\\n",
       "0      100002       1         Cash loans           M            N   \n",
       "1      100003       0         Cash loans           F            N   \n",
       "2      100004       0    Revolving loans           M            Y   \n",
       "3      100006       0         Cash loans           F            N   \n",
       "4      100007       0         Cash loans           M            N   \n",
       "\n",
       "  FLAG_OWN_REALTY  CNT_CHILDREN  AMT_INCOME_TOTAL  AMT_CREDIT  AMT_ANNUITY  \\\n",
       "0               Y             0          202500.0    406597.5      24700.5   \n",
       "1               N             0          270000.0   1293502.5      35698.5   \n",
       "2               Y             0           67500.0    135000.0       6750.0   \n",
       "3               Y             0          135000.0    312682.5      29686.5   \n",
       "4               Y             0          121500.0    513000.0      21865.5   \n",
       "\n",
       "              ...              FLAG_DOCUMENT_18 FLAG_DOCUMENT_19  \\\n",
       "0             ...                             0                0   \n",
       "1             ...                             0                0   \n",
       "2             ...                             0                0   \n",
       "3             ...                             0                0   \n",
       "4             ...                             0                0   \n",
       "\n",
       "  FLAG_DOCUMENT_20 FLAG_DOCUMENT_21 AMT_REQ_CREDIT_BUREAU_HOUR  \\\n",
       "0                0                0                        0.0   \n",
       "1                0                0                        0.0   \n",
       "2                0                0                        0.0   \n",
       "3                0                0                        NaN   \n",
       "4                0                0                        0.0   \n",
       "\n",
       "  AMT_REQ_CREDIT_BUREAU_DAY  AMT_REQ_CREDIT_BUREAU_WEEK  \\\n",
       "0                       0.0                         0.0   \n",
       "1                       0.0                         0.0   \n",
       "2                       0.0                         0.0   \n",
       "3                       NaN                         NaN   \n",
       "4                       0.0                         0.0   \n",
       "\n",
       "   AMT_REQ_CREDIT_BUREAU_MON  AMT_REQ_CREDIT_BUREAU_QRT  \\\n",
       "0                        0.0                        0.0   \n",
       "1                        0.0                        0.0   \n",
       "2                        0.0                        0.0   \n",
       "3                        NaN                        NaN   \n",
       "4                        0.0                        0.0   \n",
       "\n",
       "   AMT_REQ_CREDIT_BUREAU_YEAR  \n",
       "0                         1.0  \n",
       "1                         0.0  \n",
       "2                         0.0  \n",
       "3                         NaN  \n",
       "4                         0.0  \n",
       "\n",
       "[5 rows x 122 columns]"
      ]
     },
     "execution_count": 78,
     "metadata": {},
     "output_type": "execute_result"
    }
   ],
   "source": [
    "# Read application_train.csv\n",
    "app_train = pd.read_csv(input_dir+'/application_train.csv')\n",
    "app_test = pd.read_csv(input_dir+'/application_test.csv')\n",
    "print('Training data shape: ', app_train.shape)\n",
    "print('Test data shape: ', app_test.shape)\n",
    "app_train.head()"
   ]
  },
  {
   "cell_type": "code",
   "execution_count": 79,
   "metadata": {},
   "outputs": [
    {
     "data": {
      "text/plain": [
       "<matplotlib.axes._subplots.AxesSubplot at 0x1b05adf3c8>"
      ]
     },
     "execution_count": 79,
     "metadata": {},
     "output_type": "execute_result"
    },
    {
     "data": {
      "image/png": "[encoded data removed]",
      "text/plain": [
       "<matplotlib.figure.Figure at 0x11b2a28d0>"
      ]
     },
     "metadata": {},
     "output_type": "display_data"
    }
   ],
   "source": [
    "app_train['TARGET'].value_counts()\n",
    "app_train['TARGET'].plot.hist()"
   ]
  },
  {
   "cell_type": "code",
   "execution_count": 80,
   "metadata": {},
   "outputs": [],
   "source": [
    "# function to calculate missing values by column\n",
    "def missing_value_df(df):\n",
    "    # total missing values\n",
    "    mis_val = df.isnull().sum()\n",
    "    \n",
    "    # percentage of missing values\n",
    "    mis_val_percent = 100*mis_val/len(df)\n",
    "    \n",
    "    # make a table with results\n",
    "    mis_val_df = pd.concat([mis_val, mis_val_percent], axis = 1)\n",
    "    \n",
    "    #rename the columns\n",
    "    mis_val_df_rename = mis_val_df.rename(columns = {0: 'Missing Data', 1: '% of Total Data'})\n",
    "    \n",
    "    #sort the table in descending order of percentage\n",
    "    mis_val_df_rename = mis_val_df_rename[mis_val_df_rename.iloc[:,1]\n",
    "    != 0].sort_values('% of Total Data', ascending=False).round(1)\n",
    "    print (f\"Total DataFrame Columns is {df.shape[1]}\")\n",
    "    print(f\"Number of Columns missing data{mis_val_df_rename.shape[0]}\")\n",
    "    return mis_val_df_rename\n",
    "                                "
   ]
  },
  {
   "cell_type": "code",
   "execution_count": 81,
   "metadata": {},
   "outputs": [
    {
     "name": "stdout",
     "output_type": "stream",
     "text": [
      "Total DataFrame Columns is 122\n",
      "Number of Columns missing data67\n"
     ]
    },
    {
     "data": {
      "text/html": [
       "<div>\n",
       "<style scoped>\n",
       "    .dataframe tbody tr th:only-of-type {\n",
       "        vertical-align: middle;\n",
       "    }\n",
       "\n",
       "    .dataframe tbody tr th {\n",
       "        vertical-align: top;\n",
       "    }\n",
       "\n",
       "    .dataframe thead th {\n",
       "        text-align: right;\n",
       "    }\n",
       "</style>\n",
       "<table border=\"1\" class=\"dataframe\">\n",
       "  <thead>\n",
       "    <tr style=\"text-align: right;\">\n",
       "      <th></th>\n",
       "      <th>Missing Data</th>\n",
       "      <th>% of Total Data</th>\n",
       "    </tr>\n",
       "  </thead>\n",
       "  <tbody>\n",
       "    <tr>\n",
       "      <th>COMMONAREA_MEDI</th>\n",
       "      <td>214865</td>\n",
       "      <td>69.9</td>\n",
       "    </tr>\n",
       "    <tr>\n",
       "      <th>COMMONAREA_AVG</th>\n",
       "      <td>214865</td>\n",
       "      <td>69.9</td>\n",
       "    </tr>\n",
       "    <tr>\n",
       "      <th>COMMONAREA_MODE</th>\n",
       "      <td>214865</td>\n",
       "      <td>69.9</td>\n",
       "    </tr>\n",
       "    <tr>\n",
       "      <th>NONLIVINGAPARTMENTS_MEDI</th>\n",
       "      <td>213514</td>\n",
       "      <td>69.4</td>\n",
       "    </tr>\n",
       "    <tr>\n",
       "      <th>NONLIVINGAPARTMENTS_MODE</th>\n",
       "      <td>213514</td>\n",
       "      <td>69.4</td>\n",
       "    </tr>\n",
       "  </tbody>\n",
       "</table>\n",
       "</div>"
      ],
      "text/plain": [
       "                          Missing Data  % of Total Data\n",
       "COMMONAREA_MEDI                 214865             69.9\n",
       "COMMONAREA_AVG                  214865             69.9\n",
       "COMMONAREA_MODE                 214865             69.9\n",
       "NONLIVINGAPARTMENTS_MEDI        213514             69.4\n",
       "NONLIVINGAPARTMENTS_MODE        213514             69.4"
      ]
     },
     "execution_count": 81,
     "metadata": {},
     "output_type": "execute_result"
    }
   ],
   "source": [
    "#missing value stats\n",
    "missing_val_column = missing_value_df(app_train)\n",
    "missing_val_column.head(5)"
   ]
  },
  {
   "cell_type": "code",
   "execution_count": 82,
   "metadata": {},
   "outputs": [
    {
     "data": {
      "text/plain": [
       "float64    65\n",
       "int64      41\n",
       "object     16\n",
       "dtype: int64"
      ]
     },
     "execution_count": 82,
     "metadata": {},
     "output_type": "execute_result"
    }
   ],
   "source": [
    "# inspecting data types of columns\n",
    "app_train.dtypes.value_counts()"
   ]
  },
  {
   "cell_type": "code",
   "execution_count": 83,
   "metadata": {},
   "outputs": [
    {
     "name": "stdout",
     "output_type": "stream",
     "text": [
      "Training Features shape: {app_train.shape}\n",
      "Testing Features shape:{app_test.shape}\n"
     ]
    }
   ],
   "source": [
    "# one hot-encoding of categorical variables\n",
    "app_train = pd.get_dummies(app_train)\n",
    "app_test = pd.get_dummies(app_test)\n",
    "\n",
    "print('Training Features shape: {app_train.shape}')\n",
    "print('Testing Features shape:{app_test.shape}')"
   ]
  },
  {
   "cell_type": "code",
   "execution_count": 175,
   "metadata": {},
   "outputs": [
    {
     "name": "stdout",
     "output_type": "stream",
     "text": [
      "count    307511.000000\n",
      "mean        -43.936973\n",
      "std          11.956133\n",
      "min         -69.120548\n",
      "25%         -53.923288\n",
      "50%         -43.150685\n",
      "75%         -34.008219\n",
      "max         -20.517808\n",
      "Name: DAYS_BIRTH, dtype: float64\n",
      "count    252137.000000\n",
      "mean       2384.169325\n",
      "std        2338.360162\n",
      "min           0.000000\n",
      "25%         767.000000\n",
      "50%        1648.000000\n",
      "75%        3175.000000\n",
      "max       17912.000000\n",
      "Name: DAYS_EMPLOYED, dtype: float64\n"
     ]
    }
   ],
   "source": [
    "# since in the DAYS_BIRTH and DAYS_EMPLOYED column days are calculated realtive to loan\n",
    "print((app_train['DAYS_BIRTH']/-365).describe())\n",
    "\n",
    "\n",
    "print((app_train['DAYS_EMPLOYED']).describe())"
   ]
  },
  {
   "cell_type": "markdown",
   "metadata": {},
   "source": [
    "The Max amount for DAYS_EMPLOYED is 365243 which is incorrect and should be a outlier as the histgoram shows below"
   ]
  },
  {
   "cell_type": "code",
   "execution_count": 85,
   "metadata": {},
   "outputs": [
    {
     "data": {
      "text/plain": [
       "Text(0.5,0,'Days Employment')"
      ]
     },
     "execution_count": 85,
     "metadata": {},
     "output_type": "execute_result"
    },
    {
     "data": {
      "image/png": "[encoded data removed]",
      "text/plain": [
       "<matplotlib.figure.Figure at 0x11accb7b8>"
      ]
     },
     "metadata": {},
     "output_type": "display_data"
    }
   ],
   "source": [
    "app_train['DAYS_EMPLOYED'].plot.hist(title = 'Days Employment Histogram')\n",
    "plt.xlabel('Days Employment')"
   ]
  },
  {
   "cell_type": "markdown",
   "metadata": {},
   "source": [
    "for deeper understand the DAYS_EMPLOYED information, we need to check \n",
    "the \"normal\"vs\"non-normal\" people's default rate"
   ]
  },
  {
   "cell_type": "code",
   "execution_count": 86,
   "metadata": {},
   "outputs": [
    {
     "name": "stdout",
     "output_type": "stream",
     "text": [
      "the normal client default rate is 8.65997453765215%\n",
      "the non-normal client default rate is 5.399646043269405%\n"
     ]
    }
   ],
   "source": [
    "non_nom = app_train[app_train[\"DAYS_EMPLOYED\"] == 365243]\n",
    "nom = app_train[app_train['DAYS_EMPLOYED'] != 365243]\n",
    "print(f\"the normal client default rate is {nom['TARGET'].mean()*100}%\")\n",
    "print(f\"the non-normal client default rate is {non_nom['TARGET'].mean()*100}%\")\n",
    "\n"
   ]
  },
  {
   "cell_type": "code",
   "execution_count": 87,
   "metadata": {},
   "outputs": [
    {
     "name": "stdout",
     "output_type": "stream",
     "text": [
      "307511 total entry\n",
      "55374 non-norm\n"
     ]
    },
    {
     "data": {
      "image/png": "[encoded data removed]",
      "text/plain": [
       "<matplotlib.figure.Figure at 0x11accb198>"
      ]
     },
     "metadata": {},
     "output_type": "display_data"
    }
   ],
   "source": [
    "# Replacing non-nom values to NA and assign two new variable to differienciate non-normal vs normal.\n",
    "app_train['DAYS_EMPLOYED_N_NOM'] = app_train['DAYS_EMPLOYED'] == 365243\n",
    "app_train['DAYS_EMPLOYED'].replace({365243 : np.nan}, inplace = True)\n",
    "app_train['DAYS_EMPLOYED'].plot.hist(title = 'Days Employment Histogram')\n",
    "plt.xlabel('Days Employment')\n",
    "print(f\"{len(app_train)} total entry\")\n",
    "print(f\"{len(non_nom)} non-norm\")"
   ]
  },
  {
   "cell_type": "code",
   "execution_count": 89,
   "metadata": {},
   "outputs": [
    {
     "name": "stdout",
     "output_type": "stream",
     "text": [
      "positive correlationREGION_RATING_CLIENT           0.058899\n",
      "REGION_RATING_CLIENT_W_CITY    0.060893\n",
      "DAYS_EMPLOYED                  0.074958\n",
      "DAYS_BIRTH                     0.078239\n",
      "TARGET                         1.000000\n",
      "Name: TARGET, dtype: float64\n",
      "negative correlationEXT_SOURCE_3                           -0.178919\n",
      "EXT_SOURCE_2                           -0.160472\n",
      "EXT_SOURCE_1                           -0.155317\n",
      "NAME_EDUCATION_TYPE_Higher education   -0.056593\n",
      "CODE_GENDER_F                          -0.054704\n",
      "Name: TARGET, dtype: float64\n"
     ]
    }
   ],
   "source": [
    "# Analyze Coorelations\n",
    "\n",
    "correlations = app_train.corr()['TARGET'].sort_values()\n",
    "\n",
    "# displaying the correlations \n",
    "\n",
    "print (f\"positive correlation{correlations.tail(5)}\")\n",
    "print (f\"negative correlation{correlations.head(5)}\")"
   ]
  },
  {
   "cell_type": "code",
   "execution_count": 197,
   "metadata": {},
   "outputs": [
    {
     "data": {
      "image/png": "[encoded data removed]",
      "text/plain": [
       "<matplotlib.figure.Figure at 0x1a64a94710>"
      ]
     },
     "metadata": {},
     "output_type": "display_data"
    }
   ],
   "source": [
    "# DAYS_BIRTHS has the highest positive correlations score\n",
    "app_train['DAYS_BIRTH'] = abs(app_train['DAYS_BIRTH'])\n",
    "app_train['DAYS_BIRTH'].corr(app_train['TARGET'])\n",
    "plt.hist(app_train['DAYS_BIRTH']/365, edgecolor = 'r', bins = 25)\n",
    "plt.title('Age of Client'); plt.xlabel('Age in years');\n",
    "plt.ylabel('Count');"
   ]
  },
  {
   "cell_type": "markdown",
   "metadata": {},
   "source": [
    "The older age people are, the default chance decreased."
   ]
  },
  {
   "cell_type": "code",
   "execution_count": 198,
   "metadata": {},
   "outputs": [
    {
     "data": {
      "text/plain": [
       "Text(0.5,1,'Age Distribution')"
      ]
     },
     "execution_count": 198,
     "metadata": {},
     "output_type": "execute_result"
    },
    {
     "data": {
      "image/png": "[encoded data removed]",
      "text/plain": [
       "<matplotlib.figure.Figure at 0x1a69c2dda0>"
      ]
     },
     "metadata": {},
     "output_type": "display_data"
    }
   ],
   "source": [
    "plt.figure(figsize = (10, 10))\n",
    "sns.kdeplot(app_train.loc[app_train['TARGET'] == 0, 'DAYS_BIRTH']/365,label = 'Target: 0')\n",
    "sns.kdeplot(app_train.loc[app_train['TARGET'] == 1, 'DAYS_BIRTH']/365,label = 'Target: 1')\n",
    "plt.xlabel('Age in years'); plt.ylabel('Density'); plt.title('Age Distribution')"
   ]
  },
  {
   "cell_type": "markdown",
   "metadata": {},
   "source": [
    "the chart above shows that young generation especially at 20-30, have high chance to default replay loan. \n",
    "Now we set 2 years range to analysis the average of fail every three year.\n"
   ]
  },
  {
   "cell_type": "code",
   "execution_count": 133,
   "metadata": {},
   "outputs": [
    {
     "data": {
      "text/html": [
       "<div>\n",
       "<style scoped>\n",
       "    .dataframe tbody tr th:only-of-type {\n",
       "        vertical-align: middle;\n",
       "    }\n",
       "\n",
       "    .dataframe tbody tr th {\n",
       "        vertical-align: top;\n",
       "    }\n",
       "\n",
       "    .dataframe thead th {\n",
       "        text-align: right;\n",
       "    }\n",
       "</style>\n",
       "<table border=\"1\" class=\"dataframe\">\n",
       "  <thead>\n",
       "    <tr style=\"text-align: right;\">\n",
       "      <th></th>\n",
       "      <th>TARGET</th>\n",
       "      <th>DAYS_BIRTH</th>\n",
       "      <th>YEARS_BIRTH</th>\n",
       "      <th>YEARS_BINNED</th>\n",
       "    </tr>\n",
       "  </thead>\n",
       "  <tbody>\n",
       "    <tr>\n",
       "      <th>0</th>\n",
       "      <td>1</td>\n",
       "      <td>9461</td>\n",
       "      <td>25.920548</td>\n",
       "      <td>(24.0, 26.0]</td>\n",
       "    </tr>\n",
       "    <tr>\n",
       "      <th>1</th>\n",
       "      <td>0</td>\n",
       "      <td>16765</td>\n",
       "      <td>45.931507</td>\n",
       "      <td>(44.0, 46.0]</td>\n",
       "    </tr>\n",
       "    <tr>\n",
       "      <th>2</th>\n",
       "      <td>0</td>\n",
       "      <td>19046</td>\n",
       "      <td>52.180822</td>\n",
       "      <td>(52.0, 54.0]</td>\n",
       "    </tr>\n",
       "    <tr>\n",
       "      <th>3</th>\n",
       "      <td>0</td>\n",
       "      <td>19005</td>\n",
       "      <td>52.068493</td>\n",
       "      <td>(52.0, 54.0]</td>\n",
       "    </tr>\n",
       "    <tr>\n",
       "      <th>4</th>\n",
       "      <td>0</td>\n",
       "      <td>19932</td>\n",
       "      <td>54.608219</td>\n",
       "      <td>(54.0, 56.0]</td>\n",
       "    </tr>\n",
       "    <tr>\n",
       "      <th>5</th>\n",
       "      <td>0</td>\n",
       "      <td>16941</td>\n",
       "      <td>46.413699</td>\n",
       "      <td>(46.0, 48.0]</td>\n",
       "    </tr>\n",
       "    <tr>\n",
       "      <th>6</th>\n",
       "      <td>0</td>\n",
       "      <td>13778</td>\n",
       "      <td>37.747945</td>\n",
       "      <td>(36.0, 38.0]</td>\n",
       "    </tr>\n",
       "    <tr>\n",
       "      <th>7</th>\n",
       "      <td>0</td>\n",
       "      <td>18850</td>\n",
       "      <td>51.643836</td>\n",
       "      <td>(50.0, 52.0]</td>\n",
       "    </tr>\n",
       "    <tr>\n",
       "      <th>8</th>\n",
       "      <td>0</td>\n",
       "      <td>20099</td>\n",
       "      <td>55.065753</td>\n",
       "      <td>(54.0, 56.0]</td>\n",
       "    </tr>\n",
       "    <tr>\n",
       "      <th>9</th>\n",
       "      <td>0</td>\n",
       "      <td>14469</td>\n",
       "      <td>39.641096</td>\n",
       "      <td>(38.0, 40.0]</td>\n",
       "    </tr>\n",
       "  </tbody>\n",
       "</table>\n",
       "</div>"
      ],
      "text/plain": [
       "   TARGET  DAYS_BIRTH  YEARS_BIRTH  YEARS_BINNED\n",
       "0       1        9461    25.920548  (24.0, 26.0]\n",
       "1       0       16765    45.931507  (44.0, 46.0]\n",
       "2       0       19046    52.180822  (52.0, 54.0]\n",
       "3       0       19005    52.068493  (52.0, 54.0]\n",
       "4       0       19932    54.608219  (54.0, 56.0]\n",
       "5       0       16941    46.413699  (46.0, 48.0]\n",
       "6       0       13778    37.747945  (36.0, 38.0]\n",
       "7       0       18850    51.643836  (50.0, 52.0]\n",
       "8       0       20099    55.065753  (54.0, 56.0]\n",
       "9       0       14469    39.641096  (38.0, 40.0]"
      ]
     },
     "execution_count": 133,
     "metadata": {},
     "output_type": "execute_result"
    }
   ],
   "source": [
    "age_data = app_train[['TARGET', 'DAYS_BIRTH']]\n",
    "age_data['YEARS_BIRTH'] = age_data['DAYS_BIRTH']/365\n",
    "\n",
    "# making age categories\n",
    "age_data['YEARS_BINNED'] = pd.cut(age_data['YEARS_BIRTH'], bins = np.linspace(20,70, num = 26))\n",
    "age_data.head(10)"
   ]
  },
  {
   "cell_type": "code",
   "execution_count": 144,
   "metadata": {},
   "outputs": [
    {
     "data": {
      "text/html": [
       "<div>\n",
       "<style scoped>\n",
       "    .dataframe tbody tr th:only-of-type {\n",
       "        vertical-align: middle;\n",
       "    }\n",
       "\n",
       "    .dataframe tbody tr th {\n",
       "        vertical-align: top;\n",
       "    }\n",
       "\n",
       "    .dataframe thead th {\n",
       "        text-align: right;\n",
       "    }\n",
       "</style>\n",
       "<table border=\"1\" class=\"dataframe\">\n",
       "  <thead>\n",
       "    <tr style=\"text-align: right;\">\n",
       "      <th></th>\n",
       "      <th>TARGET</th>\n",
       "      <th>DAYS_BIRTH</th>\n",
       "      <th>YEARS_BIRTH</th>\n",
       "    </tr>\n",
       "    <tr>\n",
       "      <th>YEARS_BINNED</th>\n",
       "      <th></th>\n",
       "      <th></th>\n",
       "      <th></th>\n",
       "    </tr>\n",
       "  </thead>\n",
       "  <tbody>\n",
       "    <tr>\n",
       "      <th>(20.0, 22.0]</th>\n",
       "      <td>0.113312</td>\n",
       "      <td>7846.982567</td>\n",
       "      <td>21.498582</td>\n",
       "    </tr>\n",
       "    <tr>\n",
       "      <th>(22.0, 24.0]</th>\n",
       "      <td>0.131922</td>\n",
       "      <td>8425.124195</td>\n",
       "      <td>23.082532</td>\n",
       "    </tr>\n",
       "    <tr>\n",
       "      <th>(24.0, 26.0]</th>\n",
       "      <td>0.105543</td>\n",
       "      <td>9133.629052</td>\n",
       "      <td>25.023641</td>\n",
       "    </tr>\n",
       "    <tr>\n",
       "      <th>(26.0, 28.0]</th>\n",
       "      <td>0.113922</td>\n",
       "      <td>9914.086630</td>\n",
       "      <td>27.161881</td>\n",
       "    </tr>\n",
       "    <tr>\n",
       "      <th>(28.0, 30.0]</th>\n",
       "      <td>0.112120</td>\n",
       "      <td>10582.182051</td>\n",
       "      <td>28.992280</td>\n",
       "    </tr>\n",
       "    <tr>\n",
       "      <th>(30.0, 32.0]</th>\n",
       "      <td>0.108475</td>\n",
       "      <td>11324.765938</td>\n",
       "      <td>31.026756</td>\n",
       "    </tr>\n",
       "    <tr>\n",
       "      <th>(32.0, 34.0]</th>\n",
       "      <td>0.098246</td>\n",
       "      <td>12042.948285</td>\n",
       "      <td>32.994379</td>\n",
       "    </tr>\n",
       "    <tr>\n",
       "      <th>(34.0, 36.0]</th>\n",
       "      <td>0.097640</td>\n",
       "      <td>12778.407806</td>\n",
       "      <td>35.009336</td>\n",
       "    </tr>\n",
       "    <tr>\n",
       "      <th>(36.0, 38.0]</th>\n",
       "      <td>0.092130</td>\n",
       "      <td>13509.500488</td>\n",
       "      <td>37.012330</td>\n",
       "    </tr>\n",
       "    <tr>\n",
       "      <th>(38.0, 40.0]</th>\n",
       "      <td>0.084188</td>\n",
       "      <td>14234.792703</td>\n",
       "      <td>38.999432</td>\n",
       "    </tr>\n",
       "    <tr>\n",
       "      <th>(40.0, 42.0]</th>\n",
       "      <td>0.081181</td>\n",
       "      <td>14964.109471</td>\n",
       "      <td>40.997560</td>\n",
       "    </tr>\n",
       "    <tr>\n",
       "      <th>(42.0, 44.0]</th>\n",
       "      <td>0.074236</td>\n",
       "      <td>15696.883015</td>\n",
       "      <td>43.005159</td>\n",
       "    </tr>\n",
       "    <tr>\n",
       "      <th>(44.0, 46.0]</th>\n",
       "      <td>0.079263</td>\n",
       "      <td>16419.824571</td>\n",
       "      <td>44.985821</td>\n",
       "    </tr>\n",
       "    <tr>\n",
       "      <th>(46.0, 48.0]</th>\n",
       "      <td>0.073683</td>\n",
       "      <td>17150.608186</td>\n",
       "      <td>46.987968</td>\n",
       "    </tr>\n",
       "    <tr>\n",
       "      <th>(48.0, 50.0]</th>\n",
       "      <td>0.073334</td>\n",
       "      <td>17882.904475</td>\n",
       "      <td>48.994259</td>\n",
       "    </tr>\n",
       "    <tr>\n",
       "      <th>(50.0, 52.0]</th>\n",
       "      <td>0.069854</td>\n",
       "      <td>18620.153922</td>\n",
       "      <td>51.014120</td>\n",
       "    </tr>\n",
       "    <tr>\n",
       "      <th>(52.0, 54.0]</th>\n",
       "      <td>0.066592</td>\n",
       "      <td>19357.265945</td>\n",
       "      <td>53.033605</td>\n",
       "    </tr>\n",
       "    <tr>\n",
       "      <th>(54.0, 56.0]</th>\n",
       "      <td>0.059126</td>\n",
       "      <td>20065.756166</td>\n",
       "      <td>54.974674</td>\n",
       "    </tr>\n",
       "    <tr>\n",
       "      <th>(56.0, 58.0]</th>\n",
       "      <td>0.056009</td>\n",
       "      <td>20806.069974</td>\n",
       "      <td>57.002931</td>\n",
       "    </tr>\n",
       "    <tr>\n",
       "      <th>(58.0, 60.0]</th>\n",
       "      <td>0.054694</td>\n",
       "      <td>21545.121567</td>\n",
       "      <td>59.027730</td>\n",
       "    </tr>\n",
       "    <tr>\n",
       "      <th>(60.0, 62.0]</th>\n",
       "      <td>0.052546</td>\n",
       "      <td>22250.777625</td>\n",
       "      <td>60.961035</td>\n",
       "    </tr>\n",
       "    <tr>\n",
       "      <th>(62.0, 64.0]</th>\n",
       "      <td>0.053728</td>\n",
       "      <td>22989.735377</td>\n",
       "      <td>62.985576</td>\n",
       "    </tr>\n",
       "    <tr>\n",
       "      <th>(64.0, 66.0]</th>\n",
       "      <td>0.048128</td>\n",
       "      <td>23678.588357</td>\n",
       "      <td>64.872845</td>\n",
       "    </tr>\n",
       "    <tr>\n",
       "      <th>(66.0, 68.0]</th>\n",
       "      <td>0.035610</td>\n",
       "      <td>24448.185562</td>\n",
       "      <td>66.981330</td>\n",
       "    </tr>\n",
       "    <tr>\n",
       "      <th>(68.0, 70.0]</th>\n",
       "      <td>0.024027</td>\n",
       "      <td>24966.688787</td>\n",
       "      <td>68.401887</td>\n",
       "    </tr>\n",
       "  </tbody>\n",
       "</table>\n",
       "</div>"
      ],
      "text/plain": [
       "                TARGET    DAYS_BIRTH  YEARS_BIRTH\n",
       "YEARS_BINNED                                     \n",
       "(20.0, 22.0]  0.113312   7846.982567    21.498582\n",
       "(22.0, 24.0]  0.131922   8425.124195    23.082532\n",
       "(24.0, 26.0]  0.105543   9133.629052    25.023641\n",
       "(26.0, 28.0]  0.113922   9914.086630    27.161881\n",
       "(28.0, 30.0]  0.112120  10582.182051    28.992280\n",
       "(30.0, 32.0]  0.108475  11324.765938    31.026756\n",
       "(32.0, 34.0]  0.098246  12042.948285    32.994379\n",
       "(34.0, 36.0]  0.097640  12778.407806    35.009336\n",
       "(36.0, 38.0]  0.092130  13509.500488    37.012330\n",
       "(38.0, 40.0]  0.084188  14234.792703    38.999432\n",
       "(40.0, 42.0]  0.081181  14964.109471    40.997560\n",
       "(42.0, 44.0]  0.074236  15696.883015    43.005159\n",
       "(44.0, 46.0]  0.079263  16419.824571    44.985821\n",
       "(46.0, 48.0]  0.073683  17150.608186    46.987968\n",
       "(48.0, 50.0]  0.073334  17882.904475    48.994259\n",
       "(50.0, 52.0]  0.069854  18620.153922    51.014120\n",
       "(52.0, 54.0]  0.066592  19357.265945    53.033605\n",
       "(54.0, 56.0]  0.059126  20065.756166    54.974674\n",
       "(56.0, 58.0]  0.056009  20806.069974    57.002931\n",
       "(58.0, 60.0]  0.054694  21545.121567    59.027730\n",
       "(60.0, 62.0]  0.052546  22250.777625    60.961035\n",
       "(62.0, 64.0]  0.053728  22989.735377    62.985576\n",
       "(64.0, 66.0]  0.048128  23678.588357    64.872845\n",
       "(66.0, 68.0]  0.035610  24448.185562    66.981330\n",
       "(68.0, 70.0]  0.024027  24966.688787    68.401887"
      ]
     },
     "execution_count": 144,
     "metadata": {},
     "output_type": "execute_result"
    }
   ],
   "source": [
    "age_groups = age_data.groupby('YEARS_BINNED').mean()\n",
    "age_groups"
   ]
  },
  {
   "cell_type": "code",
   "execution_count": 156,
   "metadata": {},
   "outputs": [
    {
     "data": {
      "image/png": "[encoded data removed]",
      "text/plain": [
       "<matplotlib.figure.Figure at 0x1a73f112e8>"
      ]
     },
     "metadata": {},
     "output_type": "display_data"
    }
   ],
   "source": [
    "# create plot based on age group\n",
    "plt.figure(figsize = (5,5)) \n",
    "plt.bar(age_groups.index.astype(str), 100*age_groups['TARGET'])\n",
    "plt.xlabel('Age Group(2Year GAP)');\n",
    "plt.ylabel('Percent Failure to Repay')\n",
    "plt.xticks([])\n",
    "plt.title('Failure to repay by Age group');"
   ]
  },
  {
   "cell_type": "code",
   "execution_count": 157,
   "metadata": {},
   "outputs": [
    {
     "data": {
      "text/html": [
       "<div>\n",
       "<style scoped>\n",
       "    .dataframe tbody tr th:only-of-type {\n",
       "        vertical-align: middle;\n",
       "    }\n",
       "\n",
       "    .dataframe tbody tr th {\n",
       "        vertical-align: top;\n",
       "    }\n",
       "\n",
       "    .dataframe thead th {\n",
       "        text-align: right;\n",
       "    }\n",
       "</style>\n",
       "<table border=\"1\" class=\"dataframe\">\n",
       "  <thead>\n",
       "    <tr style=\"text-align: right;\">\n",
       "      <th></th>\n",
       "      <th>TARGET</th>\n",
       "      <th>EXT_SOURCE_3</th>\n",
       "      <th>DAYS_BIRTH</th>\n",
       "    </tr>\n",
       "  </thead>\n",
       "  <tbody>\n",
       "    <tr>\n",
       "      <th>TARGET</th>\n",
       "      <td>1.000000</td>\n",
       "      <td>-0.178919</td>\n",
       "      <td>-0.078239</td>\n",
       "    </tr>\n",
       "    <tr>\n",
       "      <th>EXT_SOURCE_3</th>\n",
       "      <td>-0.178919</td>\n",
       "      <td>1.000000</td>\n",
       "      <td>0.205478</td>\n",
       "    </tr>\n",
       "    <tr>\n",
       "      <th>DAYS_BIRTH</th>\n",
       "      <td>-0.078239</td>\n",
       "      <td>0.205478</td>\n",
       "      <td>1.000000</td>\n",
       "    </tr>\n",
       "  </tbody>\n",
       "</table>\n",
       "</div>"
      ],
      "text/plain": [
       "                TARGET  EXT_SOURCE_3  DAYS_BIRTH\n",
       "TARGET        1.000000     -0.178919   -0.078239\n",
       "EXT_SOURCE_3 -0.178919      1.000000    0.205478\n",
       "DAYS_BIRTH   -0.078239      0.205478    1.000000"
      ]
     },
     "execution_count": 157,
     "metadata": {},
     "output_type": "execute_result"
    }
   ],
   "source": [
    "# EXT_SOURCE_3 has the highest negative correlations. \n",
    "# However, we do not know the meaning.\n",
    "ext_data = app_train[['TARGET','EXT_SOURCE_3', 'DAYS_BIRTH']]\n",
    "ext_data_corrs = ext_data.corr()\n",
    "ext_data_corrs"
   ]
  },
  {
   "cell_type": "markdown",
   "metadata": {},
   "source": [
    "EXR_SOURCE_3 has negative correlation with Target means people are more like to pay  loans when EXT_SOURCE_3 increase."
   ]
  },
  {
   "cell_type": "code",
   "execution_count": 163,
   "metadata": {},
   "outputs": [
    {
     "data": {
      "text/plain": [
       "Text(0.5,1,'Distribution of Target by EXT_SOURCE_3')"
      ]
     },
     "execution_count": 163,
     "metadata": {},
     "output_type": "execute_result"
    },
    {
     "data": {
      "image/png": "[encoded data removed]",
      "text/plain": [
       "<matplotlib.figure.Figure at 0x1a74e05b70>"
      ]
     },
     "metadata": {},
     "output_type": "display_data"
    }
   ],
   "source": [
    "plt.figure(figsize = (10, 10))\n",
    "sns.kdeplot(app_train.loc[app_train['TARGET'] == 0, 'EXT_SOURCE_3'], label = 'Target: 0')\n",
    "sns.kdeplot(app_train.loc[app_train['TARGET'] == 1, 'EXT_SOURCE_3'], label = 'Target: 1')\n",
    "plt.xlabel('EXT_SOURCE_3'); plt.ylabel('Density'); plt.title(\"Distribution of Target by EXT_SOURCE_3\")"
   ]
  },
  {
   "cell_type": "markdown",
   "metadata": {},
   "source": [
    "the chart above shows that EXT_SOURCE_3 score in especially at 0.6-0.8, people are more likey to pay loans\n",
    "Now we set 0.25 score range to analyze"
   ]
  },
  {
   "cell_type": "code",
   "execution_count": 169,
   "metadata": {},
   "outputs": [
    {
     "data": {
      "text/html": [
       "<div>\n",
       "<style scoped>\n",
       "    .dataframe tbody tr th:only-of-type {\n",
       "        vertical-align: middle;\n",
       "    }\n",
       "\n",
       "    .dataframe tbody tr th {\n",
       "        vertical-align: top;\n",
       "    }\n",
       "\n",
       "    .dataframe thead th {\n",
       "        text-align: right;\n",
       "    }\n",
       "</style>\n",
       "<table border=\"1\" class=\"dataframe\">\n",
       "  <thead>\n",
       "    <tr style=\"text-align: right;\">\n",
       "      <th></th>\n",
       "      <th>TARGET</th>\n",
       "      <th>EXT_SOURCE_3</th>\n",
       "      <th>EXT_SOURCE_3_BINED</th>\n",
       "    </tr>\n",
       "  </thead>\n",
       "  <tbody>\n",
       "    <tr>\n",
       "      <th>0</th>\n",
       "      <td>1</td>\n",
       "      <td>0.139376</td>\n",
       "      <td>(0.0, 0.25]</td>\n",
       "    </tr>\n",
       "    <tr>\n",
       "      <th>1</th>\n",
       "      <td>0</td>\n",
       "      <td>NaN</td>\n",
       "      <td>NaN</td>\n",
       "    </tr>\n",
       "    <tr>\n",
       "      <th>2</th>\n",
       "      <td>0</td>\n",
       "      <td>0.729567</td>\n",
       "      <td>(0.5, 0.75]</td>\n",
       "    </tr>\n",
       "    <tr>\n",
       "      <th>3</th>\n",
       "      <td>0</td>\n",
       "      <td>NaN</td>\n",
       "      <td>NaN</td>\n",
       "    </tr>\n",
       "    <tr>\n",
       "      <th>4</th>\n",
       "      <td>0</td>\n",
       "      <td>NaN</td>\n",
       "      <td>NaN</td>\n",
       "    </tr>\n",
       "    <tr>\n",
       "      <th>5</th>\n",
       "      <td>0</td>\n",
       "      <td>0.621226</td>\n",
       "      <td>(0.5, 0.75]</td>\n",
       "    </tr>\n",
       "    <tr>\n",
       "      <th>6</th>\n",
       "      <td>0</td>\n",
       "      <td>0.492060</td>\n",
       "      <td>(0.25, 0.5]</td>\n",
       "    </tr>\n",
       "    <tr>\n",
       "      <th>7</th>\n",
       "      <td>0</td>\n",
       "      <td>0.540654</td>\n",
       "      <td>(0.5, 0.75]</td>\n",
       "    </tr>\n",
       "    <tr>\n",
       "      <th>8</th>\n",
       "      <td>0</td>\n",
       "      <td>0.751724</td>\n",
       "      <td>(0.75, 1.0]</td>\n",
       "    </tr>\n",
       "    <tr>\n",
       "      <th>9</th>\n",
       "      <td>0</td>\n",
       "      <td>NaN</td>\n",
       "      <td>NaN</td>\n",
       "    </tr>\n",
       "  </tbody>\n",
       "</table>\n",
       "</div>"
      ],
      "text/plain": [
       "   TARGET  EXT_SOURCE_3 EXT_SOURCE_3_BINED\n",
       "0       1      0.139376        (0.0, 0.25]\n",
       "1       0           NaN                NaN\n",
       "2       0      0.729567        (0.5, 0.75]\n",
       "3       0           NaN                NaN\n",
       "4       0           NaN                NaN\n",
       "5       0      0.621226        (0.5, 0.75]\n",
       "6       0      0.492060        (0.25, 0.5]\n",
       "7       0      0.540654        (0.5, 0.75]\n",
       "8       0      0.751724        (0.75, 1.0]\n",
       "9       0           NaN                NaN"
      ]
     },
     "execution_count": 169,
     "metadata": {},
     "output_type": "execute_result"
    }
   ],
   "source": [
    "EXT_data = app_train[['TARGET', 'EXT_SOURCE_3']]\n",
    "# making age categories\n",
    "EXT_data['EXT_SOURCE_3_BINED'] = pd.cut(EXT_data['EXT_SOURCE_3'], bins = np.linspace(0,1.0, num = 5))\n",
    "EXT_data.head(10)"
   ]
  },
  {
   "cell_type": "code",
   "execution_count": 170,
   "metadata": {},
   "outputs": [
    {
     "data": {
      "text/html": [
       "<div>\n",
       "<style scoped>\n",
       "    .dataframe tbody tr th:only-of-type {\n",
       "        vertical-align: middle;\n",
       "    }\n",
       "\n",
       "    .dataframe tbody tr th {\n",
       "        vertical-align: top;\n",
       "    }\n",
       "\n",
       "    .dataframe thead th {\n",
       "        text-align: right;\n",
       "    }\n",
       "</style>\n",
       "<table border=\"1\" class=\"dataframe\">\n",
       "  <thead>\n",
       "    <tr style=\"text-align: right;\">\n",
       "      <th></th>\n",
       "      <th>TARGET</th>\n",
       "      <th>EXT_SOURCE_3</th>\n",
       "    </tr>\n",
       "    <tr>\n",
       "      <th>EXT_SOURCE_3_BINED</th>\n",
       "      <th></th>\n",
       "      <th></th>\n",
       "    </tr>\n",
       "  </thead>\n",
       "  <tbody>\n",
       "    <tr>\n",
       "      <th>(0.0, 0.25]</th>\n",
       "      <td>0.191070</td>\n",
       "      <td>0.160973</td>\n",
       "    </tr>\n",
       "    <tr>\n",
       "      <th>(0.25, 0.5]</th>\n",
       "      <td>0.094359</td>\n",
       "      <td>0.387068</td>\n",
       "    </tr>\n",
       "    <tr>\n",
       "      <th>(0.5, 0.75]</th>\n",
       "      <td>0.046665</td>\n",
       "      <td>0.625815</td>\n",
       "    </tr>\n",
       "    <tr>\n",
       "      <th>(0.75, 1.0]</th>\n",
       "      <td>0.032275</td>\n",
       "      <td>0.792841</td>\n",
       "    </tr>\n",
       "  </tbody>\n",
       "</table>\n",
       "</div>"
      ],
      "text/plain": [
       "                      TARGET  EXT_SOURCE_3\n",
       "EXT_SOURCE_3_BINED                        \n",
       "(0.0, 0.25]         0.191070      0.160973\n",
       "(0.25, 0.5]         0.094359      0.387068\n",
       "(0.5, 0.75]         0.046665      0.625815\n",
       "(0.75, 1.0]         0.032275      0.792841"
      ]
     },
     "execution_count": 170,
     "metadata": {},
     "output_type": "execute_result"
    }
   ],
   "source": [
    "EXT_groups = EXT_data.groupby('EXT_SOURCE_3_BINED').mean()\n",
    "EXT_groups"
   ]
  },
  {
   "cell_type": "code",
   "execution_count": 174,
   "metadata": {},
   "outputs": [
    {
     "data": {
      "image/png": "[encoded data removed]",
      "text/plain": [
       "<matplotlib.figure.Figure at 0x1a740d10b8>"
      ]
     },
     "metadata": {},
     "output_type": "display_data"
    }
   ],
   "source": [
    "# create plot based on age group\n",
    "plt.figure(figsize = (5,5)) \n",
    "plt.bar(EXT_groups.index.astype(str), 100*EXT_groups['TARGET'])\n",
    "plt.xlabel('EXT_SOURCE_3');\n",
    "plt.ylabel('Percent Failure to Repay')\n",
    "plt.title('Failure to repay by EXT_SCORE');"
   ]
  },
  {
   "cell_type": "markdown",
   "metadata": {},
   "source": [
    "Above all, the earlier identifier for default is DAYS of Birth, when people are 22-24 years old, they has the highest risk. The earlier identifier for non default is EXT_SOURCE_3 value, when it located in 0.75 range, people has the lowest risk to default."
   ]
  }
 ],
 "metadata": {
  "kernelspec": {
   "display_name": "Python 3",
   "language": "python",
   "name": "python3"
  }
 },
 "nbformat": 4,
 "nbformat_minor": 2
}
