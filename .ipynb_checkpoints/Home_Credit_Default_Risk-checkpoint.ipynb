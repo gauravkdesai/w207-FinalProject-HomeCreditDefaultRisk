{
 "cells": [
  {
   "cell_type": "markdown",
   "metadata": {},
   "source": [
    "This notebook is starting point for Home Credit Default Risk Kaggle Problem Solution\n",
    "Primary objective of this notbook is to load data from /input.nosync folder and perform basic EDA.\n",
    "Detailed modelling and prediction should be done in separate notebook based on EDA results that we get here"
   ]
  },
  {
   "cell_type": "code",
   "execution_count": 1,
   "metadata": {},
   "outputs": [
    {
     "name": "stderr",
     "output_type": "stream",
     "text": [
      "/Users/gauravdesai/anaconda3/lib/python3.6/site-packages/sklearn/cross_validation.py:41: DeprecationWarning: This module was deprecated in version 0.18 in favor of the model_selection module into which all the refactored classes and functions are moved. Also note that the interface of the new CV iterators are different from that of this module. This module will be removed in 0.20.\n",
      "  \"This module will be removed in 0.20.\", DeprecationWarning)\n",
      "/Users/gauravdesai/anaconda3/lib/python3.6/site-packages/sklearn/grid_search.py:42: DeprecationWarning: This module was deprecated in version 0.18 in favor of the model_selection module into which all the refactored classes and functions are moved. This module will be removed in 0.20.\n",
      "  DeprecationWarning)\n"
     ]
    }
   ],
   "source": [
    "# all the imports\n",
    "import numpy as np\n",
    "import pandas as pd\n",
    "import matplotlib.pyplot as plt\n",
    "import warnings\n",
    "import os\n",
    "import pprint\n",
    "import copy\n",
    "\n",
    "from sklearn.preprocessing import LabelEncoder\n",
    "from sklearn.preprocessing import MinMaxScaler,Imputer\n",
    "from sklearn.model_selection import train_test_split\n",
    "from sklearn.tree import DecisionTreeClassifier\n",
    "from sklearn.decomposition import PCA\n",
    "from sklearn import metrics\n",
    "from sklearn.ensemble import RandomForestClassifier\n",
    "from sklearn.ensemble import ExtraTreesClassifier\n",
    "from sklearn.cluster import KMeans\n",
    "from sklearn.mixture import GaussianMixture\n",
    "from sklearn.neighbors import KNeighborsClassifier\n",
    "from sklearn.linear_model import LogisticRegression\n",
    "from sklearn.ensemble import GradientBoostingClassifier\n",
    "from sklearn.grid_search import GridSearchCV\n",
    "from sklearn.metrics import classification_report"
   ]
  },
  {
   "cell_type": "code",
   "execution_count": 2,
   "metadata": {},
   "outputs": [],
   "source": [
    "#Notebook lavel configurations\n",
    "warnings.filterwarnings('ignore')\n",
    "pp = pprint.PrettyPrinter(indent=4)"
   ]
  },
  {
   "cell_type": "code",
   "execution_count": 3,
   "metadata": {},
   "outputs": [
    {
     "name": "stdout",
     "output_type": "stream",
     "text": [
      "You have all the input files listed below\n",
      "[   'application_test.csv',\n",
      "    '.DS_Store',\n",
      "    'HomeCredit_columns_description.csv',\n",
      "    'POS_CASH_balance.csv',\n",
      "    'credit_card_balance.csv',\n",
      "    'installments_payments.csv',\n",
      "    'application_train.csv',\n",
      "    'bureau.csv',\n",
      "    'previous_application.csv',\n",
      "    'bureau_balance.csv',\n",
      "    'sample_submission.csv']\n"
     ]
    }
   ],
   "source": [
    "# List input files, if not available please download from below url inot a /input.nosync folder\n",
    "input_dir = 'input.nosync'\n",
    "input_files = os.listdir(input_dir)\n",
    "if input_files is None or len(input_files) < 11 :\n",
    "    raise Exception('You do not have all the files in {} directory'.format(input_dir))\n",
    "\n",
    "print('You have all the input files listed below')\n",
    "pp.pprint(input_files)"
   ]
  },
  {
   "cell_type": "markdown",
   "metadata": {},
   "source": [
    "Read in application_train and application test, note any changes to train need to be made to test as well"
   ]
  },
  {
   "cell_type": "code",
   "execution_count": 4,
   "metadata": {},
   "outputs": [
    {
     "name": "stdout",
     "output_type": "stream",
     "text": [
      "Training data shape:  (307511, 122)\n"
     ]
    },
    {
     "data": {
      "text/html": [
       "<div>\n",
       "<style scoped>\n",
       "    .dataframe tbody tr th:only-of-type {\n",
       "        vertical-align: middle;\n",
       "    }\n",
       "\n",
       "    .dataframe tbody tr th {\n",
       "        vertical-align: top;\n",
       "    }\n",
       "\n",
       "    .dataframe thead th {\n",
       "        text-align: right;\n",
       "    }\n",
       "</style>\n",
       "<table border=\"1\" class=\"dataframe\">\n",
       "  <thead>\n",
       "    <tr style=\"text-align: right;\">\n",
       "      <th></th>\n",
       "      <th>SK_ID_CURR</th>\n",
       "      <th>TARGET</th>\n",
       "      <th>NAME_CONTRACT_TYPE</th>\n",
       "      <th>CODE_GENDER</th>\n",
       "      <th>FLAG_OWN_CAR</th>\n",
       "      <th>FLAG_OWN_REALTY</th>\n",
       "      <th>CNT_CHILDREN</th>\n",
       "      <th>AMT_INCOME_TOTAL</th>\n",
       "      <th>AMT_CREDIT</th>\n",
       "      <th>AMT_ANNUITY</th>\n",
       "      <th>...</th>\n",
       "      <th>FLAG_DOCUMENT_18</th>\n",
       "      <th>FLAG_DOCUMENT_19</th>\n",
       "      <th>FLAG_DOCUMENT_20</th>\n",
       "      <th>FLAG_DOCUMENT_21</th>\n",
       "      <th>AMT_REQ_CREDIT_BUREAU_HOUR</th>\n",
       "      <th>AMT_REQ_CREDIT_BUREAU_DAY</th>\n",
       "      <th>AMT_REQ_CREDIT_BUREAU_WEEK</th>\n",
       "      <th>AMT_REQ_CREDIT_BUREAU_MON</th>\n",
       "      <th>AMT_REQ_CREDIT_BUREAU_QRT</th>\n",
       "      <th>AMT_REQ_CREDIT_BUREAU_YEAR</th>\n",
       "    </tr>\n",
       "  </thead>\n",
       "  <tbody>\n",
       "    <tr>\n",
       "      <th>0</th>\n",
       "      <td>100002</td>\n",
       "      <td>1</td>\n",
       "      <td>Cash loans</td>\n",
       "      <td>M</td>\n",
       "      <td>N</td>\n",
       "      <td>Y</td>\n",
       "      <td>0</td>\n",
       "      <td>202500.0</td>\n",
       "      <td>406597.5</td>\n",
       "      <td>24700.5</td>\n",
       "      <td>...</td>\n",
       "      <td>0</td>\n",
       "      <td>0</td>\n",
       "      <td>0</td>\n",
       "      <td>0</td>\n",
       "      <td>0.0</td>\n",
       "      <td>0.0</td>\n",
       "      <td>0.0</td>\n",
       "      <td>0.0</td>\n",
       "      <td>0.0</td>\n",
       "      <td>1.0</td>\n",
       "    </tr>\n",
       "    <tr>\n",
       "      <th>1</th>\n",
       "      <td>100003</td>\n",
       "      <td>0</td>\n",
       "      <td>Cash loans</td>\n",
       "      <td>F</td>\n",
       "      <td>N</td>\n",
       "      <td>N</td>\n",
       "      <td>0</td>\n",
       "      <td>270000.0</td>\n",
       "      <td>1293502.5</td>\n",
       "      <td>35698.5</td>\n",
       "      <td>...</td>\n",
       "      <td>0</td>\n",
       "      <td>0</td>\n",
       "      <td>0</td>\n",
       "      <td>0</td>\n",
       "      <td>0.0</td>\n",
       "      <td>0.0</td>\n",
       "      <td>0.0</td>\n",
       "      <td>0.0</td>\n",
       "      <td>0.0</td>\n",
       "      <td>0.0</td>\n",
       "    </tr>\n",
       "    <tr>\n",
       "      <th>2</th>\n",
       "      <td>100004</td>\n",
       "      <td>0</td>\n",
       "      <td>Revolving loans</td>\n",
       "      <td>M</td>\n",
       "      <td>Y</td>\n",
       "      <td>Y</td>\n",
       "      <td>0</td>\n",
       "      <td>67500.0</td>\n",
       "      <td>135000.0</td>\n",
       "      <td>6750.0</td>\n",
       "      <td>...</td>\n",
       "      <td>0</td>\n",
       "      <td>0</td>\n",
       "      <td>0</td>\n",
       "      <td>0</td>\n",
       "      <td>0.0</td>\n",
       "      <td>0.0</td>\n",
       "      <td>0.0</td>\n",
       "      <td>0.0</td>\n",
       "      <td>0.0</td>\n",
       "      <td>0.0</td>\n",
       "    </tr>\n",
       "    <tr>\n",
       "      <th>3</th>\n",
       "      <td>100006</td>\n",
       "      <td>0</td>\n",
       "      <td>Cash loans</td>\n",
       "      <td>F</td>\n",
       "      <td>N</td>\n",
       "      <td>Y</td>\n",
       "      <td>0</td>\n",
       "      <td>135000.0</td>\n",
       "      <td>312682.5</td>\n",
       "      <td>29686.5</td>\n",
       "      <td>...</td>\n",
       "      <td>0</td>\n",
       "      <td>0</td>\n",
       "      <td>0</td>\n",
       "      <td>0</td>\n",
       "      <td>NaN</td>\n",
       "      <td>NaN</td>\n",
       "      <td>NaN</td>\n",
       "      <td>NaN</td>\n",
       "      <td>NaN</td>\n",
       "      <td>NaN</td>\n",
       "    </tr>\n",
       "    <tr>\n",
       "      <th>4</th>\n",
       "      <td>100007</td>\n",
       "      <td>0</td>\n",
       "      <td>Cash loans</td>\n",
       "      <td>M</td>\n",
       "      <td>N</td>\n",
       "      <td>Y</td>\n",
       "      <td>0</td>\n",
       "      <td>121500.0</td>\n",
       "      <td>513000.0</td>\n",
       "      <td>21865.5</td>\n",
       "      <td>...</td>\n",
       "      <td>0</td>\n",
       "      <td>0</td>\n",
       "      <td>0</td>\n",
       "      <td>0</td>\n",
       "      <td>0.0</td>\n",
       "      <td>0.0</td>\n",
       "      <td>0.0</td>\n",
       "      <td>0.0</td>\n",
       "      <td>0.0</td>\n",
       "      <td>0.0</td>\n",
       "    </tr>\n",
       "  </tbody>\n",
       "</table>\n",
       "<p>5 rows × 122 columns</p>\n",
       "</div>"
      ],
      "text/plain": [
       "   SK_ID_CURR  TARGET NAME_CONTRACT_TYPE CODE_GENDER FLAG_OWN_CAR  \\\n",
       "0      100002       1         Cash loans           M            N   \n",
       "1      100003       0         Cash loans           F            N   \n",
       "2      100004       0    Revolving loans           M            Y   \n",
       "3      100006       0         Cash loans           F            N   \n",
       "4      100007       0         Cash loans           M            N   \n",
       "\n",
       "  FLAG_OWN_REALTY  CNT_CHILDREN  AMT_INCOME_TOTAL  AMT_CREDIT  AMT_ANNUITY  \\\n",
       "0               Y             0          202500.0    406597.5      24700.5   \n",
       "1               N             0          270000.0   1293502.5      35698.5   \n",
       "2               Y             0           67500.0    135000.0       6750.0   \n",
       "3               Y             0          135000.0    312682.5      29686.5   \n",
       "4               Y             0          121500.0    513000.0      21865.5   \n",
       "\n",
       "              ...              FLAG_DOCUMENT_18 FLAG_DOCUMENT_19  \\\n",
       "0             ...                             0                0   \n",
       "1             ...                             0                0   \n",
       "2             ...                             0                0   \n",
       "3             ...                             0                0   \n",
       "4             ...                             0                0   \n",
       "\n",
       "  FLAG_DOCUMENT_20 FLAG_DOCUMENT_21 AMT_REQ_CREDIT_BUREAU_HOUR  \\\n",
       "0                0                0                        0.0   \n",
       "1                0                0                        0.0   \n",
       "2                0                0                        0.0   \n",
       "3                0                0                        NaN   \n",
       "4                0                0                        0.0   \n",
       "\n",
       "  AMT_REQ_CREDIT_BUREAU_DAY  AMT_REQ_CREDIT_BUREAU_WEEK  \\\n",
       "0                       0.0                         0.0   \n",
       "1                       0.0                         0.0   \n",
       "2                       0.0                         0.0   \n",
       "3                       NaN                         NaN   \n",
       "4                       0.0                         0.0   \n",
       "\n",
       "   AMT_REQ_CREDIT_BUREAU_MON  AMT_REQ_CREDIT_BUREAU_QRT  \\\n",
       "0                        0.0                        0.0   \n",
       "1                        0.0                        0.0   \n",
       "2                        0.0                        0.0   \n",
       "3                        NaN                        NaN   \n",
       "4                        0.0                        0.0   \n",
       "\n",
       "   AMT_REQ_CREDIT_BUREAU_YEAR  \n",
       "0                         1.0  \n",
       "1                         0.0  \n",
       "2                         0.0  \n",
       "3                         NaN  \n",
       "4                         0.0  \n",
       "\n",
       "[5 rows x 122 columns]"
      ]
     },
     "execution_count": 4,
     "metadata": {},
     "output_type": "execute_result"
    }
   ],
   "source": [
    "# Read application_train.csv\n",
    "app_train = pd.read_csv(input_dir+'/application_train.csv')\n",
    "#app_test = pd.read_csv(input_dir+'/application_test.csv')\n",
    "print('Training data shape: ', app_train.shape)\n",
    "#print('Test data shape: ', app_test.shape)\n",
    "app_train.head()"
   ]
  },
  {
   "cell_type": "markdown",
   "metadata": {},
   "source": [
    "Now lets crate test data by splitting training set"
   ]
  },
  {
   "cell_type": "code",
   "execution_count": 5,
   "metadata": {},
   "outputs": [
    {
     "name": "stdout",
     "output_type": "stream",
     "text": [
      "Training data shape:  (246008, 120) (246008,)\n",
      "Test data shape:  (61503, 120) (61503,)\n"
     ]
    }
   ],
   "source": [
    "app_train_labels = app_train['TARGET']\n",
    "app_train=app_train.drop('TARGET', axis=1)\n",
    "\n",
    "# remove SK_ID_CURR for now since this column does not give any info about defaults\n",
    "app_train=app_train.drop('SK_ID_CURR', axis=1)\n",
    "\n",
    "\n",
    "app_train_data, app_test_data, train_labels, test_labels = train_test_split(\n",
    "    app_train,app_train_labels,test_size = .2, random_state = 23 )\n",
    "\n",
    "print('Training data shape: ', app_train_data.shape, train_labels.shape)\n",
    "print('Test data shape: ', app_test_data.shape, test_labels.shape)"
   ]
  },
  {
   "cell_type": "markdown",
   "metadata": {},
   "source": [
    "Convert categorical columns to numeric using One Hot Encoding"
   ]
  },
  {
   "cell_type": "code",
   "execution_count": 6,
   "metadata": {},
   "outputs": [
    {
     "name": "stdout",
     "output_type": "stream",
     "text": [
      "Training Features shape:  (246008, 244)\n",
      "Testing Features shape:  (61503, 243)\n"
     ]
    }
   ],
   "source": [
    "app_train_data = pd.get_dummies(app_train_data)\n",
    "app_test_data = pd.get_dummies(app_test_data)\n",
    "\n",
    "print('Training Features shape: ', app_train_data.shape)\n",
    "print('Testing Features shape: ', app_test_data.shape)"
   ]
  },
  {
   "cell_type": "markdown",
   "metadata": {},
   "source": [
    "Align train and test so clumns match"
   ]
  },
  {
   "cell_type": "code",
   "execution_count": 7,
   "metadata": {},
   "outputs": [],
   "source": [
    "app_train_data, app_test_data = app_train_data.align(app_test_data, join = 'inner', axis = 1)"
   ]
  },
  {
   "cell_type": "code",
   "execution_count": 8,
   "metadata": {},
   "outputs": [
    {
     "name": "stdout",
     "output_type": "stream",
     "text": [
      "(246008, 243)\n",
      "(61503, 243)\n"
     ]
    }
   ],
   "source": [
    "print(app_train_data.shape)\n",
    "print(app_test_data.shape)"
   ]
  },
  {
   "cell_type": "markdown",
   "metadata": {},
   "source": [
    "Impute missing values, using the column mean"
   ]
  },
  {
   "cell_type": "code",
   "execution_count": 9,
   "metadata": {},
   "outputs": [],
   "source": [
    "imputer = Imputer(strategy = 'median')\n",
    "\n",
    "app_train_data = imputer.fit_transform(app_train_data)\n",
    "app_test_data = imputer.transform(app_test_data)"
   ]
  },
  {
   "cell_type": "code",
   "execution_count": 10,
   "metadata": {},
   "outputs": [],
   "source": [
    "scaler = MinMaxScaler(feature_range = (0, 1))\n",
    "app_train_data = scaler.fit_transform(app_train_data)\n",
    "app_test_data = scaler.transform(app_test_data)"
   ]
  },
  {
   "cell_type": "code",
   "execution_count": 11,
   "metadata": {},
   "outputs": [],
   "source": [
    "class Stat_Holder:\n",
    "    \n",
    "    def __init__(self, pca_component_no, classifier_name, classifier_params\n",
    "                 , accurancy): \n",
    "        self.pca_component_no = pca_component_no\n",
    "        self.classifier_name = classifier_name\n",
    "        self.classifier_params = classifier_params\n",
    "        self.accurancy = accurancy\n",
    "        \n",
    "    def __str__(self):\n",
    "        return '{pca_component_no='+ str(self.pca_component_no) +\\\n",
    "                ' classifier_name=' + str(self.classifier_name) +\\\n",
    "                ' classifier_params=' + str(self.classifier_params) +\\\n",
    "                ' accurancy=' + str(self.accurancy) +\\\n",
    "                '}'\n",
    "        \n",
    "    def __lt__(self, other):\n",
    "\n",
    "        \n",
    "        # sort decending by accurancy\n",
    "        return self.accurancy > other.accurancy \n",
    "# End of class Stat_Hlder   \n",
    "\n",
    "def sort_print_stats(stats,top=10):    \n",
    "    stats=sorted(stats)\n",
    "    print_stats(stats,top)\n",
    "\n",
    "def print_stats(stats,top=10):\n",
    "    print('\\n')\n",
    "    print('{:^6}{:^12}{:^50}{:^10}{:^30}'\n",
    "          .format('Sr. No.','No. of PCA','Classifier','Accuracy','Classifier Params'))\n",
    "    print('_'*80)\n",
    "    for index,stat in enumerate(stats[:top]):\n",
    "        print('{:^6}{:^12}{:^50}{:>10.5}{:^30}'\n",
    "              .format(index+1,stat.pca_component_no,stat.classifier_name\n",
    "                      ,stat.accurancy,stat.classifier_params))"
   ]
  },
  {
   "cell_type": "markdown",
   "metadata": {},
   "source": [
    "Now lets use various combinations of PCA and Random Forest to get baseline predictions"
   ]
  },
  {
   "cell_type": "code",
   "execution_count": 12,
   "metadata": {},
   "outputs": [],
   "source": [
    "def get_estimater_name(clf):\n",
    "    if type(clf).__name__ == 'GridSearchCV':\n",
    "        estimater_name = 'GridSearchCV:'+ type(clf.estimator).__name__\n",
    "    else:\n",
    "        estimater_name = type(clf).__name__\n",
    "    return estimater_name\n",
    "\n",
    "def get_estimater_param(clf,clf_params):\n",
    "    if type(clf).__name__ == 'GridSearchCV':\n",
    "        for i,param in enumerate(clf_params.split(',')):\n",
    "            if i > 0:\n",
    "                parameters = parameters + ','\n",
    "            parameters = param + '=' + str(clf.best_params_[param])    \n",
    "    else:\n",
    "        parameters = clf_params\n",
    "\n",
    "    return parameters\n",
    "\n",
    "def run_classifier(clf, train_data,train_labels,test_data,test_labels,pca_no,clf_params):\n",
    "    clf.fit(train_data,train_labels)\n",
    "    test_labels_predicted = clf.predict(test_data)\n",
    "    #print(test_labels_predicted[:10])\n",
    "    #print(test_labels[:10])\n",
    "    accurancy = metrics.roc_auc_score(test_labels,test_labels_predicted)\n",
    "   \n",
    "    st = Stat_Holder(pca_no,get_estimater_name(clf),get_estimater_param(clf,clf_params),accurancy)\n",
    "    return st\n",
    "\n",
    "def run_classifiers(min_PCA, max_PCA, classifier_list):\n",
    "    stats = []\n",
    "    for classifier in classifier_list:\n",
    "        clf = classifier.get('clf')\n",
    "        clf_params = classifier.get('params')\n",
    "        print('{} started with params {}'.format(get_estimater_name(clf),clf_params))\n",
    "        #print(clf)\n",
    "        \n",
    "        #print(clf_params)\n",
    "        if min_PCA is None:\n",
    "            st = run_classifier(clf, app_train_data[:limit_data,],train_labels[:limit_data]\n",
    "                                        ,app_test_data[:limit_data,],test_labels[:limit_data]\n",
    "                                ,'NA',clf_params)\n",
    "            print(st)\n",
    "            stats.append(st)\n",
    "        else:\n",
    "            pca_range = range(min_PCA,max_PCA+1)\n",
    "            for pca_no in pca_range:\n",
    "                    print('\\tPCA {} started'.format(pca_no), end=\" \")\n",
    "                    pca = PCA(n_components = pca_no,copy = True)\n",
    "                    train_data_pca = pca.fit_transform(app_train_data) \n",
    "                    test_data_pca = pca.transform(app_test_data) \n",
    "\n",
    "                    st = run_classifier(clf, train_data_pca[:limit_data,],train_labels[:limit_data]\n",
    "                                        ,test_data_pca[:limit_data,],test_labels[:limit_data]\n",
    "                                        ,pca_no,clf_params)\n",
    "                    stats.append(st)\n",
    "                    print('\\tPCA {} completed'.format(pca_no))\n",
    "                    #print_stats([st])\n",
    "        print('{} completed'.format(get_estimater_name(clf)))\n",
    "    return stats\n",
    "    \n"
   ]
  },
  {
   "cell_type": "code",
   "execution_count": 13,
   "metadata": {},
   "outputs": [
    {
     "name": "stdout",
     "output_type": "stream",
     "text": [
      "DecisionTreeClassifier started with params max_depth=5\n",
      "\tPCA 1 started \tPCA 1 completed\n",
      "\n",
      "\n",
      "Sr. No. No. of PCA                     Classifier                     Accuracy       Classifier Params       \n",
      "________________________________________________________________________________\n",
      "  1        1                    DecisionTreeClassifier                 0.49996         max_depth=5          \n",
      "\tPCA 2 started \tPCA 2 completed\n",
      "\n",
      "\n",
      "Sr. No. No. of PCA                     Classifier                     Accuracy       Classifier Params       \n",
      "________________________________________________________________________________\n",
      "  1        2                    DecisionTreeClassifier                 0.49998         max_depth=5          \n",
      "\tPCA 3 started \tPCA 3 completed\n",
      "\n",
      "\n",
      "Sr. No. No. of PCA                     Classifier                     Accuracy       Classifier Params       \n",
      "________________________________________________________________________________\n",
      "  1        3                    DecisionTreeClassifier                 0.49999         max_depth=5          \n",
      "\tPCA 4 started \tPCA 4 completed\n",
      "\n",
      "\n",
      "Sr. No. No. of PCA                     Classifier                     Accuracy       Classifier Params       \n",
      "________________________________________________________________________________\n",
      "  1        4                    DecisionTreeClassifier                 0.49999         max_depth=5          \n",
      "\tPCA 5 started \tPCA 5 completed\n",
      "\n",
      "\n",
      "Sr. No. No. of PCA                     Classifier                     Accuracy       Classifier Params       \n",
      "________________________________________________________________________________\n",
      "  1        5                    DecisionTreeClassifier                 0.49999         max_depth=5          \n",
      "DecisionTreeClassifier completed\n",
      "KMeans started with params n_clusters=5\n",
      "\tPCA 1 started \tPCA 1 completed\n",
      "\n",
      "\n",
      "Sr. No. No. of PCA                     Classifier                     Accuracy       Classifier Params       \n",
      "________________________________________________________________________________\n",
      "  1        1                            KMeans                         0.51052         n_clusters=5         \n",
      "\tPCA 2 started \tPCA 2 completed\n",
      "\n",
      "\n",
      "Sr. No. No. of PCA                     Classifier                     Accuracy       Classifier Params       \n",
      "________________________________________________________________________________\n",
      "  1        2                            KMeans                         0.51545         n_clusters=5         \n",
      "\tPCA 3 started \tPCA 3 completed\n",
      "\n",
      "\n",
      "Sr. No. No. of PCA                     Classifier                     Accuracy       Classifier Params       \n",
      "________________________________________________________________________________\n",
      "  1        3                            KMeans                         0.51974         n_clusters=5         \n",
      "\tPCA 4 started "
     ]
    },
    {
     "ename": "KeyboardInterrupt",
     "evalue": "",
     "output_type": "error",
     "traceback": [
      "\u001b[0;31m---------------------------------------------------------------------------\u001b[0m",
      "\u001b[0;31mKeyboardInterrupt\u001b[0m                         Traceback (most recent call last)",
      "\u001b[0;32m<ipython-input-13-940415ea74b7>\u001b[0m in \u001b[0;36m<module>\u001b[0;34m()\u001b[0m\n\u001b[1;32m     11\u001b[0m \u001b[0mclassifiers\u001b[0m\u001b[0;34m.\u001b[0m\u001b[0mappend\u001b[0m\u001b[0;34m(\u001b[0m\u001b[0;34m{\u001b[0m\u001b[0;34m'clf'\u001b[0m\u001b[0;34m:\u001b[0m\u001b[0mKNeighborsClassifier\u001b[0m\u001b[0;34m(\u001b[0m\u001b[0mn_neighbors\u001b[0m\u001b[0;34m=\u001b[0m\u001b[0;36m3\u001b[0m\u001b[0;34m)\u001b[0m\u001b[0;34m,\u001b[0m \u001b[0;34m'params'\u001b[0m\u001b[0;34m:\u001b[0m\u001b[0;34m'n_neighbors=3'\u001b[0m\u001b[0;34m}\u001b[0m \u001b[0;34m)\u001b[0m\u001b[0;34m\u001b[0m\u001b[0m\n\u001b[1;32m     12\u001b[0m \u001b[0;31m#classifiers\u001b[0m\u001b[0;34m\u001b[0m\u001b[0;34m\u001b[0m\u001b[0m\n\u001b[0;32m---> 13\u001b[0;31m \u001b[0mstats\u001b[0m\u001b[0;34m=\u001b[0m\u001b[0mrun_classifiers\u001b[0m\u001b[0;34m(\u001b[0m\u001b[0mminPCA\u001b[0m\u001b[0;34m,\u001b[0m\u001b[0mmaxPCA\u001b[0m\u001b[0;34m,\u001b[0m\u001b[0mclassifiers\u001b[0m\u001b[0;34m)\u001b[0m\u001b[0;34m\u001b[0m\u001b[0m\n\u001b[0m\u001b[1;32m     14\u001b[0m \u001b[0mall_stats\u001b[0m\u001b[0;34m.\u001b[0m\u001b[0mextend\u001b[0m\u001b[0;34m(\u001b[0m\u001b[0mstats\u001b[0m\u001b[0;34m)\u001b[0m\u001b[0;34m\u001b[0m\u001b[0m\n",
      "\u001b[0;32m<ipython-input-12-ca026804956d>\u001b[0m in \u001b[0;36mrun_classifiers\u001b[0;34m(min_PCA, max_PCA, classifier_list)\u001b[0m\n\u001b[1;32m     52\u001b[0m                     st = run_classifier(clf, train_data_pca[:limit_data,],train_labels[:limit_data]\n\u001b[1;32m     53\u001b[0m                                         \u001b[0;34m,\u001b[0m\u001b[0mtest_data_pca\u001b[0m\u001b[0;34m[\u001b[0m\u001b[0;34m:\u001b[0m\u001b[0mlimit_data\u001b[0m\u001b[0;34m,\u001b[0m\u001b[0;34m]\u001b[0m\u001b[0;34m,\u001b[0m\u001b[0mtest_labels\u001b[0m\u001b[0;34m[\u001b[0m\u001b[0;34m:\u001b[0m\u001b[0mlimit_data\u001b[0m\u001b[0;34m]\u001b[0m\u001b[0;34m\u001b[0m\u001b[0m\n\u001b[0;32m---> 54\u001b[0;31m                                         ,pca_no,clf_params)\n\u001b[0m\u001b[1;32m     55\u001b[0m                     \u001b[0mstats\u001b[0m\u001b[0;34m.\u001b[0m\u001b[0mappend\u001b[0m\u001b[0;34m(\u001b[0m\u001b[0mst\u001b[0m\u001b[0;34m)\u001b[0m\u001b[0;34m\u001b[0m\u001b[0m\n\u001b[1;32m     56\u001b[0m                     \u001b[0mprint\u001b[0m\u001b[0;34m(\u001b[0m\u001b[0;34m'\\tPCA {} completed'\u001b[0m\u001b[0;34m.\u001b[0m\u001b[0mformat\u001b[0m\u001b[0;34m(\u001b[0m\u001b[0mpca_no\u001b[0m\u001b[0;34m)\u001b[0m\u001b[0;34m)\u001b[0m\u001b[0;34m\u001b[0m\u001b[0m\n",
      "\u001b[0;32m<ipython-input-12-ca026804956d>\u001b[0m in \u001b[0;36mrun_classifier\u001b[0;34m(clf, train_data, train_labels, test_data, test_labels, pca_no, clf_params)\u001b[0m\n\u001b[1;32m     18\u001b[0m \u001b[0;34m\u001b[0m\u001b[0m\n\u001b[1;32m     19\u001b[0m \u001b[0;32mdef\u001b[0m \u001b[0mrun_classifier\u001b[0m\u001b[0;34m(\u001b[0m\u001b[0mclf\u001b[0m\u001b[0;34m,\u001b[0m \u001b[0mtrain_data\u001b[0m\u001b[0;34m,\u001b[0m\u001b[0mtrain_labels\u001b[0m\u001b[0;34m,\u001b[0m\u001b[0mtest_data\u001b[0m\u001b[0;34m,\u001b[0m\u001b[0mtest_labels\u001b[0m\u001b[0;34m,\u001b[0m\u001b[0mpca_no\u001b[0m\u001b[0;34m,\u001b[0m\u001b[0mclf_params\u001b[0m\u001b[0;34m)\u001b[0m\u001b[0;34m:\u001b[0m\u001b[0;34m\u001b[0m\u001b[0m\n\u001b[0;32m---> 20\u001b[0;31m     \u001b[0mclf\u001b[0m\u001b[0;34m.\u001b[0m\u001b[0mfit\u001b[0m\u001b[0;34m(\u001b[0m\u001b[0mtrain_data\u001b[0m\u001b[0;34m,\u001b[0m\u001b[0mtrain_labels\u001b[0m\u001b[0;34m)\u001b[0m\u001b[0;34m\u001b[0m\u001b[0m\n\u001b[0m\u001b[1;32m     21\u001b[0m     \u001b[0mtest_labels_predicted\u001b[0m \u001b[0;34m=\u001b[0m \u001b[0mclf\u001b[0m\u001b[0;34m.\u001b[0m\u001b[0mpredict\u001b[0m\u001b[0;34m(\u001b[0m\u001b[0mtest_data\u001b[0m\u001b[0;34m)\u001b[0m\u001b[0;34m\u001b[0m\u001b[0m\n\u001b[1;32m     22\u001b[0m     \u001b[0;31m#print(test_labels_predicted[:10])\u001b[0m\u001b[0;34m\u001b[0m\u001b[0;34m\u001b[0m\u001b[0m\n",
      "\u001b[0;32m~/anaconda3/lib/python3.6/site-packages/sklearn/cluster/k_means_.py\u001b[0m in \u001b[0;36mfit\u001b[0;34m(self, X, y)\u001b[0m\n\u001b[1;32m    894\u001b[0m                 \u001b[0mtol\u001b[0m\u001b[0;34m=\u001b[0m\u001b[0mself\u001b[0m\u001b[0;34m.\u001b[0m\u001b[0mtol\u001b[0m\u001b[0;34m,\u001b[0m \u001b[0mrandom_state\u001b[0m\u001b[0;34m=\u001b[0m\u001b[0mrandom_state\u001b[0m\u001b[0;34m,\u001b[0m \u001b[0mcopy_x\u001b[0m\u001b[0;34m=\u001b[0m\u001b[0mself\u001b[0m\u001b[0;34m.\u001b[0m\u001b[0mcopy_x\u001b[0m\u001b[0;34m,\u001b[0m\u001b[0;34m\u001b[0m\u001b[0m\n\u001b[1;32m    895\u001b[0m                 \u001b[0mn_jobs\u001b[0m\u001b[0;34m=\u001b[0m\u001b[0mself\u001b[0m\u001b[0;34m.\u001b[0m\u001b[0mn_jobs\u001b[0m\u001b[0;34m,\u001b[0m \u001b[0malgorithm\u001b[0m\u001b[0;34m=\u001b[0m\u001b[0mself\u001b[0m\u001b[0;34m.\u001b[0m\u001b[0malgorithm\u001b[0m\u001b[0;34m,\u001b[0m\u001b[0;34m\u001b[0m\u001b[0m\n\u001b[0;32m--> 896\u001b[0;31m                 return_n_iter=True)\n\u001b[0m\u001b[1;32m    897\u001b[0m         \u001b[0;32mreturn\u001b[0m \u001b[0mself\u001b[0m\u001b[0;34m\u001b[0m\u001b[0m\n\u001b[1;32m    898\u001b[0m \u001b[0;34m\u001b[0m\u001b[0m\n",
      "\u001b[0;32m~/anaconda3/lib/python3.6/site-packages/sklearn/cluster/k_means_.py\u001b[0m in \u001b[0;36mk_means\u001b[0;34m(X, n_clusters, init, precompute_distances, n_init, max_iter, verbose, tol, random_state, copy_x, n_jobs, algorithm, return_n_iter)\u001b[0m\n\u001b[1;32m    344\u001b[0m                 \u001b[0mX\u001b[0m\u001b[0;34m,\u001b[0m \u001b[0mn_clusters\u001b[0m\u001b[0;34m,\u001b[0m \u001b[0mmax_iter\u001b[0m\u001b[0;34m=\u001b[0m\u001b[0mmax_iter\u001b[0m\u001b[0;34m,\u001b[0m \u001b[0minit\u001b[0m\u001b[0;34m=\u001b[0m\u001b[0minit\u001b[0m\u001b[0;34m,\u001b[0m \u001b[0mverbose\u001b[0m\u001b[0;34m=\u001b[0m\u001b[0mverbose\u001b[0m\u001b[0;34m,\u001b[0m\u001b[0;34m\u001b[0m\u001b[0m\n\u001b[1;32m    345\u001b[0m                 \u001b[0mprecompute_distances\u001b[0m\u001b[0;34m=\u001b[0m\u001b[0mprecompute_distances\u001b[0m\u001b[0;34m,\u001b[0m \u001b[0mtol\u001b[0m\u001b[0;34m=\u001b[0m\u001b[0mtol\u001b[0m\u001b[0;34m,\u001b[0m\u001b[0;34m\u001b[0m\u001b[0m\n\u001b[0;32m--> 346\u001b[0;31m                 x_squared_norms=x_squared_norms, random_state=random_state)\n\u001b[0m\u001b[1;32m    347\u001b[0m             \u001b[0;31m# determine if these results are the best so far\u001b[0m\u001b[0;34m\u001b[0m\u001b[0;34m\u001b[0m\u001b[0m\n\u001b[1;32m    348\u001b[0m             \u001b[0;32mif\u001b[0m \u001b[0mbest_inertia\u001b[0m \u001b[0;32mis\u001b[0m \u001b[0;32mNone\u001b[0m \u001b[0;32mor\u001b[0m \u001b[0minertia\u001b[0m \u001b[0;34m<\u001b[0m \u001b[0mbest_inertia\u001b[0m\u001b[0;34m:\u001b[0m\u001b[0;34m\u001b[0m\u001b[0m\n",
      "\u001b[0;32m~/anaconda3/lib/python3.6/site-packages/sklearn/cluster/k_means_.py\u001b[0m in \u001b[0;36m_kmeans_single_elkan\u001b[0;34m(X, n_clusters, max_iter, init, verbose, x_squared_norms, random_state, tol, precompute_distances)\u001b[0m\n\u001b[1;32m    398\u001b[0m         \u001b[0mprint\u001b[0m\u001b[0;34m(\u001b[0m\u001b[0;34m'Initialization complete'\u001b[0m\u001b[0;34m)\u001b[0m\u001b[0;34m\u001b[0m\u001b[0m\n\u001b[1;32m    399\u001b[0m     centers, labels, n_iter = k_means_elkan(X, n_clusters, centers, tol=tol,\n\u001b[0;32m--> 400\u001b[0;31m                                             max_iter=max_iter, verbose=verbose)\n\u001b[0m\u001b[1;32m    401\u001b[0m     \u001b[0minertia\u001b[0m \u001b[0;34m=\u001b[0m \u001b[0mnp\u001b[0m\u001b[0;34m.\u001b[0m\u001b[0msum\u001b[0m\u001b[0;34m(\u001b[0m\u001b[0;34m(\u001b[0m\u001b[0mX\u001b[0m \u001b[0;34m-\u001b[0m \u001b[0mcenters\u001b[0m\u001b[0;34m[\u001b[0m\u001b[0mlabels\u001b[0m\u001b[0;34m]\u001b[0m\u001b[0;34m)\u001b[0m \u001b[0;34m**\u001b[0m \u001b[0;36m2\u001b[0m\u001b[0;34m,\u001b[0m \u001b[0mdtype\u001b[0m\u001b[0;34m=\u001b[0m\u001b[0mnp\u001b[0m\u001b[0;34m.\u001b[0m\u001b[0mfloat64\u001b[0m\u001b[0;34m)\u001b[0m\u001b[0;34m\u001b[0m\u001b[0m\n\u001b[1;32m    402\u001b[0m     \u001b[0;32mreturn\u001b[0m \u001b[0mlabels\u001b[0m\u001b[0;34m,\u001b[0m \u001b[0minertia\u001b[0m\u001b[0;34m,\u001b[0m \u001b[0mcenters\u001b[0m\u001b[0;34m,\u001b[0m \u001b[0mn_iter\u001b[0m\u001b[0;34m\u001b[0m\u001b[0m\n",
      "\u001b[0;32msklearn/cluster/_k_means_elkan.pyx\u001b[0m in \u001b[0;36msklearn.cluster._k_means_elkan.k_means_elkan\u001b[0;34m()\u001b[0m\n",
      "\u001b[0;32m~/anaconda3/lib/python3.6/site-packages/sklearn/metrics/pairwise.py\u001b[0m in \u001b[0;36meuclidean_distances\u001b[0;34m(X, Y, Y_norm_squared, squared, X_norm_squared)\u001b[0m\n\u001b[1;32m    161\u001b[0m \u001b[0;34m\u001b[0m\u001b[0m\n\u001b[1;32m    162\u001b[0m \u001b[0;31m# Pairwise distances\u001b[0m\u001b[0;34m\u001b[0m\u001b[0;34m\u001b[0m\u001b[0m\n\u001b[0;32m--> 163\u001b[0;31m def euclidean_distances(X, Y=None, Y_norm_squared=None, squared=False,\n\u001b[0m\u001b[1;32m    164\u001b[0m                         X_norm_squared=None):\n\u001b[1;32m    165\u001b[0m     \"\"\"\n",
      "\u001b[0;31mKeyboardInterrupt\u001b[0m: "
     ]
    }
   ],
   "source": [
    "all_stats=[] #stats across all algo, never overridden\n",
    "stats = [] #stats for specific group, overridden for each group\n",
    "\n",
    "minPCA = 1\n",
    "maxPCA = 5\n",
    "limit_data = None\n",
    "classifiers = []\n",
    "classifiers.append({'clf':DecisionTreeClassifier(max_depth=5), 'params':'max_depth=5'} )\n",
    "classifiers.append({'clf':KMeans(n_clusters=5), 'params':'n_clusters=5'} )\n",
    "classifiers.append({'clf':GaussianMixture(n_components=3), 'params':'n_components=3'} )\n",
    "classifiers.append({'clf':KNeighborsClassifier(n_neighbors=3), 'params':'n_neighbors=3'} )\n",
    "#classifiers\n",
    "stats=run_classifiers(minPCA,maxPCA,classifiers)\n",
    "all_stats.extend(stats)"
   ]
  },
  {
   "cell_type": "code",
   "execution_count": null,
   "metadata": {},
   "outputs": [],
   "source": [
    "sort_print_stats(stats,top=15)"
   ]
  },
  {
   "cell_type": "code",
   "execution_count": null,
   "metadata": {},
   "outputs": [],
   "source": [
    "classifiers = []\n",
    "classifiers.append({'clf':LogisticRegression(C = 0.1), 'params':'C = 0.1'} )\n",
    "classifiers.append({'clf':LogisticRegression(C = 0.01), 'params':'C = 0.01'} )\n",
    "classifiers.append({'clf':LogisticRegression(C = 0.001), 'params':'C = 0.001'} )\n",
    "classifiers.append({'clf':LogisticRegression(C = 0.0001), 'params':'C = 0.0001'} )\n",
    "classifiers.append({'clf':RandomForestClassifier(n_estimators = 50), 'params':'n_estimators = 50'} )\n",
    "classifiers.append({'clf':RandomForestClassifier(n_estimators = 100), 'params':'n_estimators = 100'} )\n",
    "classifiers.append({'clf':GradientBoostingClassifier(n_estimators = 100), 'params':'n_estimators = 100'} )\n",
    "\n",
    "stats=run_classifiers(None,None,classifiers)\n",
    "all_stats.extend(stats)\n",
    "sort_print_stats(stats)"
   ]
  },
  {
   "cell_type": "code",
   "execution_count": null,
   "metadata": {},
   "outputs": [],
   "source": [
    "# Summary of top 15 execution. \n",
    "sort_print_stats(all_stats,top=15)"
   ]
  },
  {
   "cell_type": "code",
   "execution_count": null,
   "metadata": {},
   "outputs": [],
   "source": [
    "limit_data = None\n",
    "clusters = {'n_clusters':list(range(1,15))}\n",
    "depths = {'max_depth':list(range(1,15))}\n",
    "components = {'n_components':list(range(1,15))}\n",
    "neighbors = {'n_neighbors':list(range(1,15))}\n",
    "\n",
    "classifiers = []\n",
    "classifiers.append({'clf':GridSearchCV(estimator=KMeans(), param_grid=clusters), 'params':'n_clusters'} )\n",
    "classifiers.append({'clf':GridSearchCV(estimator=DecisionTreeClassifier(), param_grid=depths), 'params':'max_depth'} )\n",
    "classifiers.append({'clf':GridSearchCV(estimator=GaussianMixture(), param_grid=components), 'params':'n_components'} )\n",
    "classifiers.append({'clf':GridSearchCV(estimator=KNeighborsClassifier(), param_grid=neighbors), 'params':'n_neighbors'} )\n",
    "stats=run_classifiers(None,None,classifiers)\n",
    "all_stats.extend(stats) #commented temp\n",
    "sort_print_stats(stats)"
   ]
  },
  {
   "cell_type": "code",
   "execution_count": null,
   "metadata": {},
   "outputs": [],
   "source": [
    "limit_data = None\n",
    "Cs = {'C':[.1,.01,.001,.0001]}\n",
    "estimators = {'n_estimators':[50,100,150]}\n",
    "\n",
    "classifiers = []\n",
    "classifiers.append({'clf':GridSearchCV(estimator=LogisticRegression(), param_grid=Cs), 'params':'C'} )\n",
    "classifiers.append({'clf':GridSearchCV(estimator=RandomForestClassifier(), param_grid=estimators), 'params':'n_estimators'} )\n",
    "classifiers.append({'clf':GridSearchCV(estimator=GradientBoostingClassifier(), param_grid=estimators), 'params':'n_estimators'} )\n",
    "\n",
    "stats=run_classifiers(None,None,classifiers)\n",
    "all_stats.extend(stats)\n",
    "sort_print_stats(stats)"
   ]
  },
  {
   "cell_type": "code",
   "execution_count": null,
   "metadata": {},
   "outputs": [],
   "source": [
    "# Summary of top 15 execution. \n",
    "sort_print_stats(all_stats,top=15)"
   ]
  }
 ],
 "metadata": {
  "kernelspec": {
   "display_name": "Python 3",
   "language": "python",
   "name": "python3"
  },
  "language_info": {
   "codemirror_mode": {
    "name": "ipython",
    "version": 3
   },
   "file_extension": ".py",
   "mimetype": "text/x-python",
   "name": "python",
   "nbconvert_exporter": "python",
   "pygments_lexer": "ipython3",
   "version": "3.6.4"
  }
 },
 "nbformat": 4,
 "nbformat_minor": 2
}
