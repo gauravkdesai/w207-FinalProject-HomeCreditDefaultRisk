{
 "cells": [
  {
   "cell_type": "markdown",
   "metadata": {},
   "source": [
    "This notebook addresses the Home Credit Default Risk Kaggle Problem. The primary objective is to predict, with the greatest accuracy possible, whether a loan will default. To address the question presented, we evaluate a dataset with dimensions: rows - 307,522 and columns - 122. For are problem set we set a target accuracy of .65 with the ROC AUC score as our target metric. We also evaluate precision and recall, because the dataset demonstrates relatively low richness. We begin our prediction task by importing our relevant libraries."
   ]
  },
  {
   "cell_type": "code",
   "execution_count": 44,
   "metadata": {},
   "outputs": [],
   "source": [
    "# all the imports\n",
    "import numpy as np\n",
    "import pandas as pd\n",
    "import matplotlib.pyplot as plt\n",
    "import warnings\n",
    "import os\n",
    "import pprint\n",
    "import copy\n",
    "import seaborn as sns\n",
    "\n",
    "from sklearn.preprocessing import LabelEncoder\n",
    "from sklearn.preprocessing import MinMaxScaler,Imputer\n",
    "from sklearn.model_selection import train_test_split\n",
    "from sklearn.tree import DecisionTreeClassifier\n",
    "from sklearn.decomposition import PCA\n",
    "from sklearn import metrics\n",
    "from sklearn.ensemble import RandomForestClassifier\n",
    "from sklearn.ensemble import ExtraTreesClassifier\n",
    "from sklearn.cluster import KMeans\n",
    "from sklearn.mixture import GaussianMixture\n",
    "from sklearn.neighbors import KNeighborsClassifier\n",
    "from sklearn.linear_model import LogisticRegression\n",
    "from sklearn.ensemble import GradientBoostingClassifier\n",
    "from sklearn.grid_search import GridSearchCV\n",
<<<<<<< HEAD
    "from sklearn.metrics import classification_report, roc_auc_score, roc_curve, auc, precision_score, recall_score, f1_score"
=======
    "from sklearn.metrics import classification_report\n",
    "from sklearn.preprocessing import PolynomialFeatures"
>>>>>>> master
   ]
  },
  {
   "cell_type": "code",
<<<<<<< HEAD
   "execution_count": 9,
   "metadata": {
    "collapsed": true
   },
=======
   "execution_count": 2,
   "metadata": {},
>>>>>>> master
   "outputs": [],
   "source": [
    "#Notebook lavel configurations\n",
    "warnings.filterwarnings('ignore')\n",
    "pp = pprint.PrettyPrinter(indent=4)"
   ]
  },
  {
   "cell_type": "code",
   "execution_count": 11,
   "metadata": {},
   "outputs": [
    {
     "name": "stdout",
     "output_type": "stream",
     "text": [
      "You have all the input files listed below\n",
      "[   'application_test.csv',\n",
      "    'application_train.csv',\n",
      "    'bureau.csv',\n",
      "    'bureau_balance.csv',\n",
      "    'credit_card_balance.csv',\n",
      "    'HomeCredit_columns_description.csv',\n",
      "    'installments_payments.csv',\n",
      "    'POS_CASH_balance.csv',\n",
      "    'previous_application.csv',\n",
      "    'sample_submission.csv']\n"
     ]
    }
   ],
   "source": [
    "# List input files, if not available please download from below url inot a /input.nosync folder\n",
    "input_dir = 'input.nosync'\n",
    "input_files = os.listdir(input_dir)\n",
    "if input_files is None or len(input_files) < 10 :\n",
    "    raise Exception('You do not have all the files in {} directory'.format(input_dir))\n",
    "\n",
    "print('You have all the input files listed below')\n",
    "pp.pprint(input_files)"
   ]
  },
  {
   "cell_type": "markdown",
   "metadata": {},
   "source": [
    "Here, we read in our primary dataset. As noted above and shown below, the dataset is of moderate size with 307,511 samples. The data is relatively wide with 122 features presented. Notably, we use the pandas library to handle reading our csv, as the data contains a mixute of numerical and categorical data. Using the pd.head() function we provide a view into the data, which demonstrate these features. It is also notable that some null/Nan values are present. We evaluated methods of handling Nan features including automatic handling/dropping and mean imputation. The presence of the Nan values did not prevent us from reaching our goal of .65 as we will see."
   ]
  },
  {
   "cell_type": "code",
   "execution_count": 53,
   "metadata": {},
   "outputs": [
    {
     "name": "stdout",
     "output_type": "stream",
     "text": [
      "Training data shape (Before Split):  (307511, 122)\n"
     ]
    },
    {
     "data": {
      "text/html": [
       "<div>\n",
       "<style>\n",
       "    .dataframe thead tr:only-child th {\n",
       "        text-align: right;\n",
       "    }\n",
       "\n",
       "    .dataframe thead th {\n",
       "        text-align: left;\n",
       "    }\n",
       "\n",
       "    .dataframe tbody tr th {\n",
       "        vertical-align: top;\n",
       "    }\n",
       "</style>\n",
       "<table border=\"1\" class=\"dataframe\">\n",
       "  <thead>\n",
       "    <tr style=\"text-align: right;\">\n",
       "      <th></th>\n",
       "      <th>SK_ID_CURR</th>\n",
       "      <th>TARGET</th>\n",
       "      <th>NAME_CONTRACT_TYPE</th>\n",
       "      <th>CODE_GENDER</th>\n",
       "      <th>FLAG_OWN_CAR</th>\n",
       "      <th>FLAG_OWN_REALTY</th>\n",
       "      <th>CNT_CHILDREN</th>\n",
       "      <th>AMT_INCOME_TOTAL</th>\n",
       "      <th>AMT_CREDIT</th>\n",
       "      <th>AMT_ANNUITY</th>\n",
       "      <th>...</th>\n",
       "      <th>FLAG_DOCUMENT_18</th>\n",
       "      <th>FLAG_DOCUMENT_19</th>\n",
       "      <th>FLAG_DOCUMENT_20</th>\n",
       "      <th>FLAG_DOCUMENT_21</th>\n",
       "      <th>AMT_REQ_CREDIT_BUREAU_HOUR</th>\n",
       "      <th>AMT_REQ_CREDIT_BUREAU_DAY</th>\n",
       "      <th>AMT_REQ_CREDIT_BUREAU_WEEK</th>\n",
       "      <th>AMT_REQ_CREDIT_BUREAU_MON</th>\n",
       "      <th>AMT_REQ_CREDIT_BUREAU_QRT</th>\n",
       "      <th>AMT_REQ_CREDIT_BUREAU_YEAR</th>\n",
       "    </tr>\n",
       "  </thead>\n",
       "  <tbody>\n",
       "    <tr>\n",
       "      <th>0</th>\n",
       "      <td>100002</td>\n",
       "      <td>1</td>\n",
       "      <td>Cash loans</td>\n",
       "      <td>M</td>\n",
       "      <td>N</td>\n",
       "      <td>Y</td>\n",
       "      <td>0</td>\n",
       "      <td>202500.0</td>\n",
       "      <td>406597.5</td>\n",
       "      <td>24700.5</td>\n",
       "      <td>...</td>\n",
       "      <td>0</td>\n",
       "      <td>0</td>\n",
       "      <td>0</td>\n",
       "      <td>0</td>\n",
       "      <td>0.0</td>\n",
       "      <td>0.0</td>\n",
       "      <td>0.0</td>\n",
       "      <td>0.0</td>\n",
       "      <td>0.0</td>\n",
       "      <td>1.0</td>\n",
       "    </tr>\n",
       "    <tr>\n",
       "      <th>1</th>\n",
       "      <td>100003</td>\n",
       "      <td>0</td>\n",
       "      <td>Cash loans</td>\n",
       "      <td>F</td>\n",
       "      <td>N</td>\n",
       "      <td>N</td>\n",
       "      <td>0</td>\n",
       "      <td>270000.0</td>\n",
       "      <td>1293502.5</td>\n",
       "      <td>35698.5</td>\n",
       "      <td>...</td>\n",
       "      <td>0</td>\n",
       "      <td>0</td>\n",
       "      <td>0</td>\n",
       "      <td>0</td>\n",
       "      <td>0.0</td>\n",
       "      <td>0.0</td>\n",
       "      <td>0.0</td>\n",
       "      <td>0.0</td>\n",
       "      <td>0.0</td>\n",
       "      <td>0.0</td>\n",
       "    </tr>\n",
       "    <tr>\n",
       "      <th>2</th>\n",
       "      <td>100004</td>\n",
       "      <td>0</td>\n",
       "      <td>Revolving loans</td>\n",
       "      <td>M</td>\n",
       "      <td>Y</td>\n",
       "      <td>Y</td>\n",
       "      <td>0</td>\n",
       "      <td>67500.0</td>\n",
       "      <td>135000.0</td>\n",
       "      <td>6750.0</td>\n",
       "      <td>...</td>\n",
       "      <td>0</td>\n",
       "      <td>0</td>\n",
       "      <td>0</td>\n",
       "      <td>0</td>\n",
       "      <td>0.0</td>\n",
       "      <td>0.0</td>\n",
       "      <td>0.0</td>\n",
       "      <td>0.0</td>\n",
       "      <td>0.0</td>\n",
       "      <td>0.0</td>\n",
       "    </tr>\n",
       "    <tr>\n",
       "      <th>3</th>\n",
       "      <td>100006</td>\n",
       "      <td>0</td>\n",
       "      <td>Cash loans</td>\n",
       "      <td>F</td>\n",
       "      <td>N</td>\n",
       "      <td>Y</td>\n",
       "      <td>0</td>\n",
       "      <td>135000.0</td>\n",
       "      <td>312682.5</td>\n",
       "      <td>29686.5</td>\n",
       "      <td>...</td>\n",
       "      <td>0</td>\n",
       "      <td>0</td>\n",
       "      <td>0</td>\n",
       "      <td>0</td>\n",
       "      <td>NaN</td>\n",
       "      <td>NaN</td>\n",
       "      <td>NaN</td>\n",
       "      <td>NaN</td>\n",
       "      <td>NaN</td>\n",
       "      <td>NaN</td>\n",
       "    </tr>\n",
       "    <tr>\n",
       "      <th>4</th>\n",
       "      <td>100007</td>\n",
       "      <td>0</td>\n",
       "      <td>Cash loans</td>\n",
       "      <td>M</td>\n",
       "      <td>N</td>\n",
       "      <td>Y</td>\n",
       "      <td>0</td>\n",
       "      <td>121500.0</td>\n",
       "      <td>513000.0</td>\n",
       "      <td>21865.5</td>\n",
       "      <td>...</td>\n",
       "      <td>0</td>\n",
       "      <td>0</td>\n",
       "      <td>0</td>\n",
       "      <td>0</td>\n",
       "      <td>0.0</td>\n",
       "      <td>0.0</td>\n",
       "      <td>0.0</td>\n",
       "      <td>0.0</td>\n",
       "      <td>0.0</td>\n",
       "      <td>0.0</td>\n",
       "    </tr>\n",
       "  </tbody>\n",
       "</table>\n",
       "<p>5 rows × 122 columns</p>\n",
       "</div>"
      ],
      "text/plain": [
       "   SK_ID_CURR  TARGET NAME_CONTRACT_TYPE CODE_GENDER FLAG_OWN_CAR  \\\n",
       "0      100002       1         Cash loans           M            N   \n",
       "1      100003       0         Cash loans           F            N   \n",
       "2      100004       0    Revolving loans           M            Y   \n",
       "3      100006       0         Cash loans           F            N   \n",
       "4      100007       0         Cash loans           M            N   \n",
       "\n",
       "  FLAG_OWN_REALTY  CNT_CHILDREN  AMT_INCOME_TOTAL  AMT_CREDIT  AMT_ANNUITY  \\\n",
       "0               Y             0          202500.0    406597.5      24700.5   \n",
       "1               N             0          270000.0   1293502.5      35698.5   \n",
       "2               Y             0           67500.0    135000.0       6750.0   \n",
       "3               Y             0          135000.0    312682.5      29686.5   \n",
       "4               Y             0          121500.0    513000.0      21865.5   \n",
       "\n",
       "              ...              FLAG_DOCUMENT_18 FLAG_DOCUMENT_19  \\\n",
       "0             ...                             0                0   \n",
       "1             ...                             0                0   \n",
       "2             ...                             0                0   \n",
       "3             ...                             0                0   \n",
       "4             ...                             0                0   \n",
       "\n",
       "  FLAG_DOCUMENT_20 FLAG_DOCUMENT_21 AMT_REQ_CREDIT_BUREAU_HOUR  \\\n",
       "0                0                0                        0.0   \n",
       "1                0                0                        0.0   \n",
       "2                0                0                        0.0   \n",
       "3                0                0                        NaN   \n",
       "4                0                0                        0.0   \n",
       "\n",
       "  AMT_REQ_CREDIT_BUREAU_DAY  AMT_REQ_CREDIT_BUREAU_WEEK  \\\n",
       "0                       0.0                         0.0   \n",
       "1                       0.0                         0.0   \n",
       "2                       0.0                         0.0   \n",
       "3                       NaN                         NaN   \n",
       "4                       0.0                         0.0   \n",
       "\n",
       "   AMT_REQ_CREDIT_BUREAU_MON  AMT_REQ_CREDIT_BUREAU_QRT  \\\n",
       "0                        0.0                        0.0   \n",
       "1                        0.0                        0.0   \n",
       "2                        0.0                        0.0   \n",
       "3                        NaN                        NaN   \n",
       "4                        0.0                        0.0   \n",
       "\n",
       "   AMT_REQ_CREDIT_BUREAU_YEAR  \n",
       "0                         1.0  \n",
       "1                         0.0  \n",
       "2                         0.0  \n",
       "3                         NaN  \n",
       "4                         0.0  \n",
       "\n",
       "[5 rows x 122 columns]"
      ]
     },
     "execution_count": 53,
     "metadata": {},
     "output_type": "execute_result"
    }
   ],
   "source": [
    "# Read application_train.csv\n",
    "app_train = pd.read_csv(input_dir+'/application_train.csv')\n",
    "print('Training data shape (Before Split): ', app_train.shape)\n",
    "app_train.head()"
   ]
  },
  {
   "cell_type": "code",
   "execution_count": null,
   "metadata": {},
   "outputs": [],
   "source": []
  },
  {
   "cell_type": "markdown",
   "metadata": {},
   "source": [
<<<<<<< HEAD
    "Below we allocate a training and testing split and set the random state to ensure repeatability. To accomplish this, we use the built-in train_test_split function. We reserve 20% of the data for testing, which results in training and test sets of the size printed. We also remove the target feature, and remove the ID feature because it is not pertinent to the analysis."
=======
    "Now lets create test data by splitting training set into 80:20 ration for training and testing data.\n",
    "We also separate Target column into seperate object so that Target does not influence our classifier models"
>>>>>>> master
   ]
  },
  {
   "cell_type": "code",
   "execution_count": 13,
   "metadata": {},
   "outputs": [],
   "source": [
    "# Move Target column to seperate object\n",
    "app_train_labels = app_train['TARGET']\n",
    "app_train = app_train.drop('TARGET', axis=1)\n",
    "\n",
    "# split the training dataset into training (80%) and testing (20%)\n",
    "split_ratio = 0.20\n",
    "app_train_data, app_test_data, train_labels, test_labels = train_test_split(\n",
    "    app_train, app_train_labels, test_size = split_ratio, random_state = 23 )\n",
    "\n",
    "# Move SK_ID_CURR to different object so that it does not interfer with classifier\n",
    "app_train_data_skid_curr = app_train_data['SK_ID_CURR']\n",
    "#app_train_data = app_train_data.drop('SK_ID_CURR', axis=1)\n",
    "app_test_data_skid_curr = app_test_data['SK_ID_CURR']\n",
    "#app_test_data = app_test_data.drop('SK_ID_CURR', axis=1)"
   ]
  },
  {
   "cell_type": "code",
   "execution_count": null,
   "metadata": {},
<<<<<<< HEAD
   "source": [
    "As a first measure of data reshaping, we convert our categorical variables using one-hot encoding. For this, we again rely on pandas functionality. The process works on categorical variables and extends our datasets width to 243. features. Note that we align the data to ensure that the columns match withion the testing and training sets."
   ]
=======
   "outputs": [],
   "source": []
>>>>>>> master
  },
  {
   "cell_type": "code",
   "execution_count": 14,
   "metadata": {},
   "outputs": [
    {
     "name": "stdout",
     "output_type": "stream",
     "text": [
      "Training data shape:  (246008, 121)\n",
      "Training label shape:  (246008,)\n",
      "Test data shape:  (61503, 121)\n",
      "Test label shape:  (61503,)\n",
      "Training SK ID data shape:  (246008,)\n",
      "Test SK ID data shape:  (61503,)\n"
     ]
    }
   ],
   "source": [
    "print('Training data shape: ', app_train_data.shape)\n",
    "print('Training label shape: ', train_labels.shape)\n",
    "print('Test data shape: ', app_test_data.shape)\n",
    "print('Test label shape: ', test_labels.shape)\n",
    "\n",
<<<<<<< HEAD
    "print('Training Features shape: ', app_train_data.shape)\n",
    "print('Testing Features shape: ', app_test_data.shape)"
=======
    "print('Training SK ID data shape: ', app_train_data_skid_curr.shape)\n",
    "print('Test SK ID data shape: ', app_test_data_skid_curr.shape)"
>>>>>>> master
   ]
  },
  {
   "cell_type": "code",
<<<<<<< HEAD
   "execution_count": 15,
   "metadata": {
    "collapsed": true
   },
   "outputs": [],
   "source": [
    "app_train_data, app_test_data = app_train_data.align(app_test_data, join = 'inner', axis = 1)"
   ]
  },
  {
   "cell_type": "code",
   "execution_count": 16,
=======
   "execution_count": 7,
>>>>>>> master
   "metadata": {},
   "outputs": [
    {
     "name": "stdout",
     "output_type": "stream",
     "text": [
      "['SK_ID_CURR', 'NAME_CONTRACT_TYPE', 'CODE_GENDER', 'FLAG_OWN_CAR', 'FLAG_OWN_REALTY', 'CNT_CHILDREN', 'AMT_INCOME_TOTAL', 'AMT_CREDIT', 'AMT_ANNUITY', 'AMT_GOODS_PRICE', 'NAME_TYPE_SUITE', 'NAME_INCOME_TYPE', 'NAME_EDUCATION_TYPE', 'NAME_FAMILY_STATUS', 'NAME_HOUSING_TYPE', 'REGION_POPULATION_RELATIVE', 'DAYS_BIRTH', 'DAYS_EMPLOYED', 'DAYS_REGISTRATION', 'DAYS_ID_PUBLISH', 'OWN_CAR_AGE', 'FLAG_MOBIL', 'FLAG_EMP_PHONE', 'FLAG_WORK_PHONE', 'FLAG_CONT_MOBILE', 'FLAG_PHONE', 'FLAG_EMAIL', 'OCCUPATION_TYPE', 'CNT_FAM_MEMBERS', 'REGION_RATING_CLIENT', 'REGION_RATING_CLIENT_W_CITY', 'WEEKDAY_APPR_PROCESS_START', 'HOUR_APPR_PROCESS_START', 'REG_REGION_NOT_LIVE_REGION', 'REG_REGION_NOT_WORK_REGION', 'LIVE_REGION_NOT_WORK_REGION', 'REG_CITY_NOT_LIVE_CITY', 'REG_CITY_NOT_WORK_CITY', 'LIVE_CITY_NOT_WORK_CITY', 'ORGANIZATION_TYPE', 'EXT_SOURCE_1', 'EXT_SOURCE_2', 'EXT_SOURCE_3', 'APARTMENTS_AVG', 'BASEMENTAREA_AVG', 'YEARS_BEGINEXPLUATATION_AVG', 'YEARS_BUILD_AVG', 'COMMONAREA_AVG', 'ELEVATORS_AVG', 'ENTRANCES_AVG', 'FLOORSMAX_AVG', 'FLOORSMIN_AVG', 'LANDAREA_AVG', 'LIVINGAPARTMENTS_AVG', 'LIVINGAREA_AVG', 'NONLIVINGAPARTMENTS_AVG', 'NONLIVINGAREA_AVG', 'APARTMENTS_MODE', 'BASEMENTAREA_MODE', 'YEARS_BEGINEXPLUATATION_MODE', 'YEARS_BUILD_MODE', 'COMMONAREA_MODE', 'ELEVATORS_MODE', 'ENTRANCES_MODE', 'FLOORSMAX_MODE', 'FLOORSMIN_MODE', 'LANDAREA_MODE', 'LIVINGAPARTMENTS_MODE', 'LIVINGAREA_MODE', 'NONLIVINGAPARTMENTS_MODE', 'NONLIVINGAREA_MODE', 'APARTMENTS_MEDI', 'BASEMENTAREA_MEDI', 'YEARS_BEGINEXPLUATATION_MEDI', 'YEARS_BUILD_MEDI', 'COMMONAREA_MEDI', 'ELEVATORS_MEDI', 'ENTRANCES_MEDI', 'FLOORSMAX_MEDI', 'FLOORSMIN_MEDI', 'LANDAREA_MEDI', 'LIVINGAPARTMENTS_MEDI', 'LIVINGAREA_MEDI', 'NONLIVINGAPARTMENTS_MEDI', 'NONLIVINGAREA_MEDI', 'FONDKAPREMONT_MODE', 'HOUSETYPE_MODE', 'TOTALAREA_MODE', 'WALLSMATERIAL_MODE', 'EMERGENCYSTATE_MODE', 'OBS_30_CNT_SOCIAL_CIRCLE', 'DEF_30_CNT_SOCIAL_CIRCLE', 'OBS_60_CNT_SOCIAL_CIRCLE', 'DEF_60_CNT_SOCIAL_CIRCLE', 'DAYS_LAST_PHONE_CHANGE', 'FLAG_DOCUMENT_2', 'FLAG_DOCUMENT_3', 'FLAG_DOCUMENT_4', 'FLAG_DOCUMENT_5', 'FLAG_DOCUMENT_6', 'FLAG_DOCUMENT_7', 'FLAG_DOCUMENT_8', 'FLAG_DOCUMENT_9', 'FLAG_DOCUMENT_10', 'FLAG_DOCUMENT_11', 'FLAG_DOCUMENT_12', 'FLAG_DOCUMENT_13', 'FLAG_DOCUMENT_14', 'FLAG_DOCUMENT_15', 'FLAG_DOCUMENT_16', 'FLAG_DOCUMENT_17', 'FLAG_DOCUMENT_18', 'FLAG_DOCUMENT_19', 'FLAG_DOCUMENT_20', 'FLAG_DOCUMENT_21', 'AMT_REQ_CREDIT_BUREAU_HOUR', 'AMT_REQ_CREDIT_BUREAU_DAY', 'AMT_REQ_CREDIT_BUREAU_WEEK', 'AMT_REQ_CREDIT_BUREAU_MON', 'AMT_REQ_CREDIT_BUREAU_QRT', 'AMT_REQ_CREDIT_BUREAU_YEAR']\n"
     ]
    }
   ],
   "source": [
    "#Look for analmolies in data\n",
    "\n",
    "print(list(app_train_data.columns))"
   ]
  },
  {
   "cell_type": "code",
   "execution_count": 8,
   "metadata": {},
   "outputs": [
    {
     "data": {
      "text/plain": [
       "0     172441\n",
       "1      48771\n",
       "2      21392\n",
       "3       2974\n",
       "4        328\n",
       "5         69\n",
       "6         16\n",
       "7          7\n",
       "14         2\n",
       "12         2\n",
       "10         2\n",
       "19         1\n",
       "11         1\n",
       "9          1\n",
       "8          1\n",
       "Name: CNT_CHILDREN, dtype: int64"
      ]
     },
     "execution_count": 8,
     "metadata": {},
     "output_type": "execute_result"
    }
   ],
   "source": [
<<<<<<< HEAD
    "As previously mentioned our data contained a number of Nan values. In some cases, like the CREDIT_BUREAU Fields and OWN_CAR_AGE fields, the numbers were significant with ~66% and %15 respectively. As an initial measure, we will impute the median value for our Nan values. We also use Min-Max scaling to regularize our data to ensure that no one feature is given to much weight in our models. We do this because we anticipate using regression methods. In addition, large features may be given too much weight in PCA, which is based on variance capture, without proper scaling.\n",
    "\n",
    "Notably, we did attempt other feature engineering, but we did not see drastically changed results. Some efforts included using ratios of components. Dropping components after identifying the least influential by using LASSO linear regression methods, and different imputation strategies like the mean. We suspect that the lack of success with our other feature engineering efforts may be the result of a confluence of factors including the presence of Nan values and the necessity for highly specialized domain expertise. "
=======
    "#1. CNT_CHILDREN => Max 19 children??\n",
    "app_train_data['CNT_CHILDREN'].describe()\n",
    "app_train_data['CNT_CHILDREN'].value_counts()\n",
    "#Values above 6 are very few and should not affect our classifiers much. So can be ignored"
>>>>>>> master
   ]
  },
  {
   "cell_type": "code",
<<<<<<< HEAD
   "execution_count": 17,
   "metadata": {
    "collapsed": true
   },
   "outputs": [],
=======
   "execution_count": 9,
   "metadata": {},
   "outputs": [
    {
     "data": {
      "text/plain": [
       "count    246008.000000\n",
       "mean         43.958896\n",
       "std          11.965190\n",
       "min          20.517808\n",
       "25%          34.032877\n",
       "50%          43.175342\n",
       "75%          53.958904\n",
       "max          69.120548\n",
       "Name: DAYS_BIRTH, dtype: float64"
      ]
     },
     "execution_count": 9,
     "metadata": {},
     "output_type": "execute_result"
    }
   ],
>>>>>>> master
   "source": [
    "#2. DAYS_BIRTH => Looks ok, but do we really think need age in days? too much granularity?\n",
    "#Since we will use scaling, this the days scale should get shrunk. So no issues here\n",
    "(app_train_data['DAYS_BIRTH']/-365).describe()"
   ]
  },
  {
   "cell_type": "code",
<<<<<<< HEAD
   "execution_count": 18,
   "metadata": {
    "collapsed": true
   },
=======
   "execution_count": 10,
   "metadata": {},
>>>>>>> master
   "outputs": [],
   "source": [
    "def replace_anamoly_add_indicator(data, data_column_name, anamoly_value, replacement_value=np.nan\n",
    "                                  ,anamoly_column_prefix='ANOMOLY_'):\n",
    "    anamoly_column_name = anamoly_column_prefix + data_column_name\n",
    "    data[anamoly_column_name] = data[data_column_name] == anamoly_value\n",
    "    data[data_column_name].replace({anamoly_value: replacement_value}, inplace = True)\n",
    "    \n",
    "    #print(data[[data_column_name,anamoly_column_name]])\n",
    "    return data"
   ]
  },
  {
   "cell_type": "markdown",
   "metadata": {},
   "source": [
    "We next start to build our analysis tools and crate baseline measures. As a first measure, we create the Stat_Holder class, which begins to abstract away some of our coding tasks. The Stat_holder provides information about PCA components and parameters along with our target accuracy in a human readable format."
   ]
  },
  {
   "cell_type": "code",
<<<<<<< HEAD
   "execution_count": 19,
   "metadata": {
    "collapsed": true
   },
   "outputs": [],
=======
   "execution_count": 11,
   "metadata": {},
   "outputs": [
    {
     "data": {
      "text/html": [
       "<div>\n",
       "<style scoped>\n",
       "    .dataframe tbody tr th:only-of-type {\n",
       "        vertical-align: middle;\n",
       "    }\n",
       "\n",
       "    .dataframe tbody tr th {\n",
       "        vertical-align: top;\n",
       "    }\n",
       "\n",
       "    .dataframe thead th {\n",
       "        text-align: right;\n",
       "    }\n",
       "</style>\n",
       "<table border=\"1\" class=\"dataframe\">\n",
       "  <thead>\n",
       "    <tr style=\"text-align: right;\">\n",
       "      <th></th>\n",
       "      <th>DAYS_EMPLOYED</th>\n",
       "      <th>TARGET</th>\n",
       "      <th>ANOMOLY_DAYS_EMPLOYED</th>\n",
       "    </tr>\n",
       "  </thead>\n",
       "  <tbody>\n",
       "    <tr>\n",
       "      <th>DAYS_EMPLOYED</th>\n",
       "      <td>1.000000</td>\n",
       "      <td>-0.044661</td>\n",
       "      <td>0.999888</td>\n",
       "    </tr>\n",
       "    <tr>\n",
       "      <th>TARGET</th>\n",
       "      <td>-0.044661</td>\n",
       "      <td>1.000000</td>\n",
       "      <td>-0.045719</td>\n",
       "    </tr>\n",
       "    <tr>\n",
       "      <th>ANOMOLY_DAYS_EMPLOYED</th>\n",
       "      <td>0.999888</td>\n",
       "      <td>-0.045719</td>\n",
       "      <td>1.000000</td>\n",
       "    </tr>\n",
       "  </tbody>\n",
       "</table>\n",
       "</div>"
      ],
      "text/plain": [
       "                       DAYS_EMPLOYED    TARGET  ANOMOLY_DAYS_EMPLOYED\n",
       "DAYS_EMPLOYED               1.000000 -0.044661               0.999888\n",
       "TARGET                     -0.044661  1.000000              -0.045719\n",
       "ANOMOLY_DAYS_EMPLOYED       0.999888 -0.045719               1.000000"
      ]
     },
     "execution_count": 11,
     "metadata": {},
     "output_type": "execute_result"
    }
   ],
>>>>>>> master
   "source": [
    "#3. DAYS_EMPLOYED => 1000 years of employment doesn't look right. Check correkation of this 1000 years with target\n",
    "# Make these NaN and create indicator column.Also may want to convert to years?\n",
    "# Aanalyse again after removing 1000 years. \n",
    "app_train_data['DAYS_EMPLOYED'].describe() #max=365243\n",
    "(app_train_data['DAYS_EMPLOYED']/365).describe() #max > 1000 in years\n",
    "app_train_data_de = pd.DataFrame(app_train_data, columns=['DAYS_EMPLOYED'])\n",
    "app_train_data_de['TARGET'] = train_labels\n",
    "app_train_data_de.corr() #-0.044661 overall corr between two cols\n",
    "app_train_data_de['ANOMOLY_DAYS_EMPLOYED']=app_train_data_de.apply(lambda row: 1 if row['DAYS_EMPLOYED']==365243 else 0, axis=1)\n",
    "app_train_data_de.groupby(['ANOMOLY_DAYS_EMPLOYED']).agg(['sum','count'])\n",
    "app_train_data_de.corr()#-0.045719 slightly more correlated but not significant\n",
    "\n",
    "\n",
<<<<<<< HEAD
    "def print_stats(stats,top=10):\n",
    "    print('\\n')\n",
    "    print('{:^6}{:^12}{:^50}{:^10}{:^30}'\n",
    "          .format('Sr. No.','No. of PCA','Classifier','Accuracy','Classifier Params'))\n",
    "    print('_'*80)\n",
    "    for index,stat in enumerate(stats[:top]):\n",
    "        print('{:^6}{:^12}{:^50}{:>10.5}{:^30}'\n",
    "              .format(index+1,stat.pca_component_no,stat.classifier_name\n",
    "                      ,stat.accurancy,stat.classifier_params))"
   ]
  },
  {
   "cell_type": "markdown",
   "metadata": {},
   "source": [
    "The next layer of abstraction provides is obtained through a number of funtions, which performs our PCA transformations and fits and runs our classifiers. Here, we use a PCA count of 1 through 5 and use 4 different classifiers. We also vary the hyperparameters of our models for several different mixes within these ranges. The classifiers used included: Decision tree, Kmeans, Gaussian, and KNN. "
=======
    "\n"
>>>>>>> master
   ]
  },
  {
   "cell_type": "code",
<<<<<<< HEAD
   "execution_count": 20,
   "metadata": {
    "collapsed": true
   },
=======
   "execution_count": 12,
   "metadata": {},
>>>>>>> master
   "outputs": [],
   "source": [
    "#still lets fix it\n",
    "app_train_data = replace_anamoly_add_indicator(app_train_data,'DAYS_EMPLOYED',365243)\n",
    "app_test_data = replace_anamoly_add_indicator(app_test_data,'DAYS_EMPLOYED',365243)"
   ]
  },
  {
   "cell_type": "code",
   "execution_count": 21,
   "metadata": {},
   "outputs": [
    {
     "data": {
      "text/plain": [
       "<matplotlib.axes._subplots.AxesSubplot at 0x1a10651470>"
      ]
     },
     "execution_count": 13,
     "metadata": {},
     "output_type": "execute_result"
    },
    {
     "data": {
      "image/png": "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\n",
      "text/plain": [
       "<matplotlib.figure.Figure at 0x10a6bf6d8>"
      ]
     },
     "metadata": {},
     "output_type": "display_data"
    }
   ],
   "source": [
    "#4. DAYS_REGISTRATION => 4th quantile looks very wide (20.5 to 67.5).\n",
    "# Check for any outlier\n",
    "app_train_data['DAYS_REGISTRATION'].describe() #min=-24672, 25%       -7486.000000\n",
    "#(app_train_data['DAYS_REGISTRATION']/-365).describe()\n",
    "#(app_train_data['DAYS_REGISTRATION']/-365).hist(bins=50)\n",
    "(app_train_data['DAYS_REGISTRATION'][app_train_data['DAYS_REGISTRATION']<-10000]/-365).hist(bins=50)\n",
    "\n",
    "#There is no significant spike and distribution looks fine. No action needed"
   ]
  },
  {
   "cell_type": "markdown",
   "metadata": {},
   "source": [
    "After processing, we exmaine our top classifiers based on our ROC_AUC accuracy measure. Our top perfomers achieved our target accuracy metric of .65. Interestingly, although we met our metric and tested several different models, the data does not provide an especially high level of accuracy. Below we will examine some alternative methods and use different measures to attempt to analyze and augment our results."
   ]
  },
  {
   "cell_type": "code",
   "execution_count": 23,
   "metadata": {},
   "outputs": [
    {
<<<<<<< HEAD
     "name": "stdout",
     "output_type": "stream",
     "text": [
      "\n",
      "\n",
      "Sr. No. No. of PCA                     Classifier                     Accuracy       Classifier Params       \n",
      "________________________________________________________________________________\n",
      "  1        3                            KMeans                         0.54897         n_clusters=5         \n",
      "  2        3                       GaussianMixture                     0.54056        n_components=3        \n",
      "  3        1                            KMeans                         0.53397         n_clusters=5         \n",
      "  4        5                            KMeans                         0.53188         n_clusters=5         \n",
      "  5        2                            KMeans                         0.51954         n_clusters=5         \n",
      "  6        5                     KNeighborsClassifier                  0.50974        n_neighbors=3         \n",
      "  7        4                     KNeighborsClassifier                  0.50916        n_neighbors=3         \n",
      "  8        3                     KNeighborsClassifier                    0.504        n_neighbors=3         \n",
      "  9        2                     KNeighborsClassifier                   0.5038        n_neighbors=3         \n",
      "  10       1                     KNeighborsClassifier                  0.50111        n_neighbors=3         \n",
      "  11       1                       GaussianMixture                     0.50064        n_components=3        \n",
      "  12       1                    DecisionTreeClassifier                 0.49999         max_depth=5          \n",
      "  13       5                    DecisionTreeClassifier                 0.49999         max_depth=5          \n",
      "  14       3                    DecisionTreeClassifier                 0.49998         max_depth=5          \n",
      "  15       4                    DecisionTreeClassifier                 0.49998         max_depth=5          \n"
=======
     "data": {
      "text/html": [
       "<div>\n",
       "<style scoped>\n",
       "    .dataframe tbody tr th:only-of-type {\n",
       "        vertical-align: middle;\n",
       "    }\n",
       "\n",
       "    .dataframe tbody tr th {\n",
       "        vertical-align: top;\n",
       "    }\n",
       "\n",
       "    .dataframe thead th {\n",
       "        text-align: right;\n",
       "    }\n",
       "</style>\n",
       "<table border=\"1\" class=\"dataframe\">\n",
       "  <thead>\n",
       "    <tr style=\"text-align: right;\">\n",
       "      <th></th>\n",
       "      <th>DAYS_ID_PUBLISH</th>\n",
       "      <th>TARGET</th>\n",
       "      <th>ANOMOLY_DAYS_ID_PUBLISH</th>\n",
       "      <th>SPIKE_DAYS_ID_PUBLISH</th>\n",
       "    </tr>\n",
       "  </thead>\n",
       "  <tbody>\n",
       "    <tr>\n",
       "      <th>DAYS_ID_PUBLISH</th>\n",
       "      <td>1.000000</td>\n",
       "      <td>-0.050282</td>\n",
       "      <td>0.315599</td>\n",
       "      <td>0.665867</td>\n",
       "    </tr>\n",
       "    <tr>\n",
       "      <th>TARGET</th>\n",
       "      <td>-0.050282</td>\n",
       "      <td>1.000000</td>\n",
       "      <td>-0.011469</td>\n",
       "      <td>-0.041179</td>\n",
       "    </tr>\n",
       "    <tr>\n",
       "      <th>ANOMOLY_DAYS_ID_PUBLISH</th>\n",
       "      <td>0.315599</td>\n",
       "      <td>-0.011469</td>\n",
       "      <td>1.000000</td>\n",
       "      <td>-0.144574</td>\n",
       "    </tr>\n",
       "    <tr>\n",
       "      <th>SPIKE_DAYS_ID_PUBLISH</th>\n",
       "      <td>0.665867</td>\n",
       "      <td>-0.041179</td>\n",
       "      <td>-0.144574</td>\n",
       "      <td>1.000000</td>\n",
       "    </tr>\n",
       "  </tbody>\n",
       "</table>\n",
       "</div>"
      ],
      "text/plain": [
       "                         DAYS_ID_PUBLISH    TARGET  ANOMOLY_DAYS_ID_PUBLISH  \\\n",
       "DAYS_ID_PUBLISH                 1.000000 -0.050282                 0.315599   \n",
       "TARGET                         -0.050282  1.000000                -0.011469   \n",
       "ANOMOLY_DAYS_ID_PUBLISH         0.315599 -0.011469                 1.000000   \n",
       "SPIKE_DAYS_ID_PUBLISH           0.665867 -0.041179                -0.144574   \n",
       "\n",
       "                         SPIKE_DAYS_ID_PUBLISH  \n",
       "DAYS_ID_PUBLISH                       0.665867  \n",
       "TARGET                               -0.041179  \n",
       "ANOMOLY_DAYS_ID_PUBLISH              -0.144574  \n",
       "SPIKE_DAYS_ID_PUBLISH                 1.000000  "
      ]
     },
     "execution_count": 14,
     "metadata": {},
     "output_type": "execute_result"
    },
    {
     "data": {
      "image/png": "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\n",
      "text/plain": [
       "<matplotlib.figure.Figure at 0x1a22a329b0>"
      ]
     },
     "metadata": {},
     "output_type": "display_data"
    }
   ],
   "source": [
    "#5. DAYS_ID_PUBLISH => 4th quantile looks very wide (11 to 19).\n",
    "# Check for any outlier\n",
    "app_train_data['DAYS_ID_PUBLISH'].describe() #min -7197, -4299.000000\n",
    "#(app_train_data['DAYS_ID_PUBLISH']/-365).describe()\n",
    "app_train_data['DAYS_ID_PUBLISH'].hist(bins=50)\n",
    "app_train_data['DAYS_ID_PUBLISH'][app_train_data['DAYS_ID_PUBLISH']<-5000].hist(bins=50, color='r')\n",
    "\n",
    "# there is spike betwee -5k to -4k. Lets see the correlation\n",
    "\n",
    "app_train_data_dip = pd.DataFrame(app_train_data, columns=['DAYS_ID_PUBLISH'])\n",
    "app_train_data_dip['DAYS_ID_PUBLISH'] = -app_train_data_dip['DAYS_ID_PUBLISH']\n",
    "app_train_data_dip['TARGET'] = train_labels\n",
    "app_train_data_dip.corr() #0.050282\n",
    "\n",
    "# for abnormal values\n",
    "app_train_data_dip['ANOMOLY_DAYS_ID_PUBLISH']=app_train_data_dip['DAYS_ID_PUBLISH'] > 5000\n",
    "app_train_data_dip.groupby(['ANOMOLY_DAYS_ID_PUBLISH']).agg(['sum','count'])\n",
    "app_train_data_dip.corr() #-0.011469\n",
    "\n",
    "#So yes the tail affects correlation but it is more of a tail than spike so lets keep it. useful for model\n",
    "\n",
    "#lets observe spike between -4k to -5k\n",
    "app_train_data_dip['SPIKE_DAYS_ID_PUBLISH']= app_train_data_dip.apply(lambda row: row['DAYS_ID_PUBLISH'] <5000 and row['DAYS_ID_PUBLISH'] > 4000, axis=1)\n",
    "app_train_data_dip.groupby(['SPIKE_DAYS_ID_PUBLISH']).agg(['sum','count'])\n",
    "app_train_data_dip.corr() #-0.041179, 1% different.\n",
    "#Need more functional knowledge what this means"
   ]
  },
  {
   "cell_type": "code",
   "execution_count": 15,
   "metadata": {},
   "outputs": [
    {
     "data": {
      "image/png": "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\n",
      "text/plain": [
       "<matplotlib.figure.Figure at 0x1a22ab01d0>"
      ]
     },
     "metadata": {},
     "output_type": "display_data"
    }
   ],
   "source": [
    "plt.figure(figsize = (10, 8))\n",
    "\n",
    "# KDE plot of loans that were repaid on time\n",
    "sns.kdeplot(app_train_data_dip.loc[app_train_data_dip['TARGET'] == 0, 'DAYS_ID_PUBLISH'] , label = 'target == 0')\n",
    "\n",
    "# KDE plot of loans which were not repaid on time\n",
    "sns.kdeplot(app_train_data_dip.loc[app_train_data_dip['TARGET'] == 1, 'DAYS_ID_PUBLISH'] , label = 'target == 1')\n",
    "\n",
    "# Labeling of plot\n",
    "plt.xlabel('ID Published (Days)'); plt.ylabel('Density'); plt.title('Distribution of ID Published Age');\n",
    "# The mountain between 4k and 5k may mean something. need more business knowledge to make use of this finding"
   ]
  },
  {
   "cell_type": "code",
   "execution_count": 16,
   "metadata": {},
   "outputs": [
    {
     "data": {
      "text/plain": [
       "12.0    2\n",
       "16.0    2\n",
       "14.0    2\n",
       "13.0    1\n",
       "20.0    1\n",
       "11.0    1\n",
       "Name: CNT_FAM_MEMBERS, dtype: int64"
      ]
     },
     "execution_count": 16,
     "metadata": {},
     "output_type": "execute_result"
    }
   ],
   "source": [
    "#6. CNT_FAM_MEMBERS => more than 10 family members? not many records so can be ignored\n",
    "app_train_data['CNT_FAM_MEMBERS'].describe()\n",
    "(app_train_data[app_train_data['CNT_FAM_MEMBERS']>10])['CNT_FAM_MEMBERS'].value_counts()\n",
    "# Handful of records having large number of family members. Can be ignored"
   ]
  },
  {
   "cell_type": "code",
   "execution_count": 17,
   "metadata": {},
   "outputs": [
    {
     "data": {
      "text/html": [
       "<div>\n",
       "<style scoped>\n",
       "    .dataframe tbody tr th:only-of-type {\n",
       "        vertical-align: middle;\n",
       "    }\n",
       "\n",
       "    .dataframe tbody tr th {\n",
       "        vertical-align: top;\n",
       "    }\n",
       "\n",
       "    .dataframe thead tr th {\n",
       "        text-align: left;\n",
       "    }\n",
       "\n",
       "    .dataframe thead tr:last-of-type th {\n",
       "        text-align: right;\n",
       "    }\n",
       "</style>\n",
       "<table border=\"1\" class=\"dataframe\">\n",
       "  <thead>\n",
       "    <tr>\n",
       "      <th></th>\n",
       "      <th colspan=\"3\" halign=\"left\">TARGET</th>\n",
       "    </tr>\n",
       "    <tr>\n",
       "      <th></th>\n",
       "      <th>DefaultCount</th>\n",
       "      <th>TotalCount</th>\n",
       "      <th>%Default</th>\n",
       "    </tr>\n",
       "    <tr>\n",
       "      <th>WEEKDAY_APPR_PROCESS_START</th>\n",
       "      <th></th>\n",
       "      <th></th>\n",
       "      <th></th>\n",
       "    </tr>\n",
       "  </thead>\n",
       "  <tbody>\n",
       "    <tr>\n",
       "      <th>FRIDAY</th>\n",
       "      <td>3273</td>\n",
       "      <td>40297</td>\n",
       "      <td>0.081222</td>\n",
       "    </tr>\n",
       "    <tr>\n",
       "      <th>MONDAY</th>\n",
       "      <td>3175</td>\n",
       "      <td>40796</td>\n",
       "      <td>0.077826</td>\n",
       "    </tr>\n",
       "    <tr>\n",
       "      <th>SATURDAY</th>\n",
       "      <td>2142</td>\n",
       "      <td>27013</td>\n",
       "      <td>0.079295</td>\n",
       "    </tr>\n",
       "    <tr>\n",
       "      <th>SUNDAY</th>\n",
       "      <td>1025</td>\n",
       "      <td>13003</td>\n",
       "      <td>0.078828</td>\n",
       "    </tr>\n",
       "    <tr>\n",
       "      <th>THURSDAY</th>\n",
       "      <td>3284</td>\n",
       "      <td>40372</td>\n",
       "      <td>0.081344</td>\n",
       "    </tr>\n",
       "    <tr>\n",
       "      <th>TUESDAY</th>\n",
       "      <td>3599</td>\n",
       "      <td>43057</td>\n",
       "      <td>0.083587</td>\n",
       "    </tr>\n",
       "    <tr>\n",
       "      <th>WEDNESDAY</th>\n",
       "      <td>3391</td>\n",
       "      <td>41470</td>\n",
       "      <td>0.081770</td>\n",
       "    </tr>\n",
       "  </tbody>\n",
       "</table>\n",
       "</div>"
      ],
      "text/plain": [
       "                                 TARGET                     \n",
       "                           DefaultCount TotalCount  %Default\n",
       "WEEKDAY_APPR_PROCESS_START                                  \n",
       "FRIDAY                             3273      40297  0.081222\n",
       "MONDAY                             3175      40796  0.077826\n",
       "SATURDAY                           2142      27013  0.079295\n",
       "SUNDAY                             1025      13003  0.078828\n",
       "THURSDAY                           3284      40372  0.081344\n",
       "TUESDAY                            3599      43057  0.083587\n",
       "WEDNESDAY                          3391      41470  0.081770"
      ]
     },
     "execution_count": 17,
     "metadata": {},
     "output_type": "execute_result"
    }
   ],
   "source": [
    "#7. WEEKDAY_APPR_PROCESS_START => Nothing suspicious. \n",
    "# Weekdays columes quite averaged out while weekend counts go down as expected\n",
    "# also the default distribution looks proportionate to the volume for that day\n",
    "app_train_data['WEEKDAY_APPR_PROCESS_START'].describe()\n",
    "app_train_data['WEEKDAY_APPR_PROCESS_START'].value_counts()\n",
    "\n",
    "app_train_data_weekday = pd.DataFrame()\n",
    "app_train_data_weekday['WEEKDAY_APPR_PROCESS_START']=app_train_data['WEEKDAY_APPR_PROCESS_START']\n",
    "app_train_data_weekday['TARGET'] = train_labels\n",
    "app_train_data_weekday_grp=app_train_data_weekday.groupby(['WEEKDAY_APPR_PROCESS_START']).agg(['sum','count'])\n",
    "app_train_data_weekday_grp=app_train_data_weekday_grp.rename(index=str\n",
    "                , columns = {'sum':'DefaultCount','count':'TotalCount'})\n",
    "app_train_data_weekday_grp[('TARGET', '%Default')] = app_train_data_weekday_grp[('TARGET', 'DefaultCount')] / app_train_data_weekday_grp[('TARGET', 'TotalCount')]\n",
    "app_train_data_weekday_grp"
   ]
  },
  {
   "cell_type": "code",
   "execution_count": 18,
   "metadata": {},
   "outputs": [
    {
     "data": {
      "text/html": [
       "<div>\n",
       "<style scoped>\n",
       "    .dataframe tbody tr th:only-of-type {\n",
       "        vertical-align: middle;\n",
       "    }\n",
       "\n",
       "    .dataframe tbody tr th {\n",
       "        vertical-align: top;\n",
       "    }\n",
       "\n",
       "    .dataframe thead th {\n",
       "        text-align: right;\n",
       "    }\n",
       "</style>\n",
       "<table border=\"1\" class=\"dataframe\">\n",
       "  <thead>\n",
       "    <tr style=\"text-align: right;\">\n",
       "      <th></th>\n",
       "      <th>TARGET</th>\n",
       "    </tr>\n",
       "  </thead>\n",
       "  <tbody>\n",
       "    <tr>\n",
       "      <th>DAYS_LAST_PHONE_CHANGE</th>\n",
       "      <td>-0.055531</td>\n",
       "    </tr>\n",
       "    <tr>\n",
       "      <th>YEARS_LAST_PHONE_CHANGE</th>\n",
       "      <td>-0.055531</td>\n",
       "    </tr>\n",
       "    <tr>\n",
       "      <th>TARGET</th>\n",
       "      <td>1.000000</td>\n",
       "    </tr>\n",
       "    <tr>\n",
       "      <th>RECENT_DAYS_LAST_PHONE_CHANGE</th>\n",
       "      <td>0.052746</td>\n",
       "    </tr>\n",
       "    <tr>\n",
       "      <th>FIRST_QUANTILE_DAYS_LAST_PHONE_CHANGE</th>\n",
       "      <td>0.030804</td>\n",
       "    </tr>\n",
       "  </tbody>\n",
       "</table>\n",
       "</div>"
      ],
      "text/plain": [
       "                                         TARGET\n",
       "DAYS_LAST_PHONE_CHANGE                -0.055531\n",
       "YEARS_LAST_PHONE_CHANGE               -0.055531\n",
       "TARGET                                 1.000000\n",
       "RECENT_DAYS_LAST_PHONE_CHANGE          0.052746\n",
       "FIRST_QUANTILE_DAYS_LAST_PHONE_CHANGE  0.030804"
      ]
     },
     "execution_count": 18,
     "metadata": {},
     "output_type": "execute_result"
    }
   ],
   "source": [
    "#8. DAYS_LAST_PHONE_CHANGE => minimum 0 days is alarming. Someone just changed phone and applied for loan\n",
    "# Lets probe this further for smaller values of DAYS_LAST_PHONE_CHANGE\n",
    "app_train_data['DAYS_LAST_PHONE_CHANGE'].value_counts() #whooping 30k records with 0 days\n",
    "\n",
    "app_train_data_dlpc_stats=(app_train_data['DAYS_LAST_PHONE_CHANGE']*-1).describe()\n",
    "app_train_data_dlpc_stats['25%']\n",
    "\n",
    "\n",
    "app_train_data_dlpc=pd.DataFrame()\n",
    "app_train_data_dlpc['DAYS_LAST_PHONE_CHANGE']=app_train_data['DAYS_LAST_PHONE_CHANGE'] * -1\n",
    "app_train_data_dlpc['YEARS_LAST_PHONE_CHANGE']=app_train_data_dlpc['DAYS_LAST_PHONE_CHANGE'] /365\n",
    "app_train_data_dlpc['TARGET'] = train_labels\n",
    "app_train_data_dlpc['RECENT_DAYS_LAST_PHONE_CHANGE']= app_train_data_dlpc['DAYS_LAST_PHONE_CHANGE']<1000\n",
    "app_train_data_dlpc['FIRST_QUANTILE_DAYS_LAST_PHONE_CHANGE']= app_train_data_dlpc['DAYS_LAST_PHONE_CHANGE']<app_train_data_dlpc_stats['25%']\n",
    "app_train_data_dlpc.groupby(['FIRST_QUANTILE_DAYS_LAST_PHONE_CHANGE','RECENT_DAYS_LAST_PHONE_CHANGE']).agg(['sum','count'])\n",
    "app_train_data_dlpc.corr()[['TARGET']]\n",
    "\n",
    "\n",
    "\n",
    "# We can see significant "
   ]
  },
  {
   "cell_type": "code",
   "execution_count": 19,
   "metadata": {},
   "outputs": [
    {
     "data": {
      "image/png": "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\n",
      "text/plain": [
       "<matplotlib.figure.Figure at 0x1a4f1e59e8>"
      ]
     },
     "metadata": {},
     "output_type": "display_data"
    }
   ],
   "source": [
    "plt.figure(figsize = (10, 8))\n",
    "\n",
    "# KDE plot of loans that were repaid on time\n",
    "sns.kdeplot(app_train_data_dlpc.loc[app_train_data_dlpc['TARGET'] == 0, 'DAYS_LAST_PHONE_CHANGE'] , label = 'target == 0')\n",
    "\n",
    "# KDE plot of loans which were not repaid on time\n",
    "sns.kdeplot(app_train_data_dlpc.loc[app_train_data_dlpc['TARGET'] == 1, 'DAYS_LAST_PHONE_CHANGE'] , label = 'target == 1')\n",
    "\n",
    "# Labeling of plot\n",
    "plt.xlabel('Last Phone Changed (Days)'); plt.ylabel('Density'); plt.title('Distribution of Last Phone Changed');\n",
    "#The distribution looks fairly equal for both Target 0 and 1, so lets keep data as is"
   ]
  },
  {
   "cell_type": "code",
   "execution_count": 20,
   "metadata": {},
   "outputs": [
    {
     "name": "stdout",
     "output_type": "stream",
     "text": [
      "Before Shape (246008, 122) (61503, 122)\n",
      "After Shape (246008, 123) (61503, 123)\n"
     ]
    }
   ],
   "source": [
    "#Looks like first 1000 days mean something, so lets add this variable in main training and test data set\n",
    "print('Before Shape',app_train_data.shape,app_test_data.shape)\n",
    "app_train_data['RECENT_DAYS_LAST_PHONE_CHANGE']=(app_train_data['DAYS_LAST_PHONE_CHANGE']*-1)<1000\n",
    "app_test_data['RECENT_DAYS_LAST_PHONE_CHANGE']=(app_test_data['DAYS_LAST_PHONE_CHANGE']*-1)<1000\n",
    "print('After Shape',app_train_data.shape,app_test_data.shape)\n"
   ]
  },
  {
   "cell_type": "code",
   "execution_count": 21,
   "metadata": {},
   "outputs": [],
   "source": [
    "#9. AMT_REQ_CREDIT_BUREAU_YEAR => All the AMT_REQ_CREDIT_BUREAU_* columns have spike at the max values. \n",
    "#Need to probe further\n",
    "app_train_data['AMT_REQ_CREDIT_BUREAU_YEAR'].describe()\n",
    "app_train_data['AMT_REQ_CREDIT_BUREAU_YEAR'].value_counts()\n",
    "\n",
    "app_train_data_arcb = pd.DataFrame(data=app_train_data, columns=['AMT_REQ_CREDIT_BUREAU_HOUR'\n",
    "                    ,'AMT_REQ_CREDIT_BUREAU_DAY','AMT_REQ_CREDIT_BUREAU_WEEK','AMT_REQ_CREDIT_BUREAU_MON'\n",
    "                    ,'AMT_REQ_CREDIT_BUREAU_QRT','AMT_REQ_CREDIT_BUREAU_YEAR'])\n",
    "app_train_data_arcb['TARGET']=train_labels\n",
    "#Replace NAN with 0\n",
    "app_train_data_arcb.fillna(0, inplace=True)\n",
    "app_train_data_arcb['AMT_REQ_CREDIT_BUREAU_HOUR_ZERO'] = app_train_data_arcb['AMT_REQ_CREDIT_BUREAU_HOUR']==0\n",
    "app_train_data_arcb['AMT_REQ_CREDIT_BUREAU_DAY_ZERO'] = app_train_data_arcb['AMT_REQ_CREDIT_BUREAU_DAY']==0\n",
    "app_train_data_arcb['AMT_REQ_CREDIT_BUREAU_WEEK_ZERO'] = app_train_data_arcb['AMT_REQ_CREDIT_BUREAU_WEEK']==0\n",
    "app_train_data_arcb['AMT_REQ_CREDIT_BUREAU_MON_ZERO'] = app_train_data_arcb['AMT_REQ_CREDIT_BUREAU_MON']==0\n",
    "app_train_data_arcb['AMT_REQ_CREDIT_BUREAU_QRT_ZERO'] = app_train_data_arcb['AMT_REQ_CREDIT_BUREAU_QRT']==0\n",
    "app_train_data_arcb['AMT_REQ_CREDIT_BUREAU_YEAR_ZERO'] = app_train_data_arcb['AMT_REQ_CREDIT_BUREAU_YEAR']==0\n",
    "\n",
    "app_train_data_arcb['AMT_REQ_CREDIT_BUREAU_ALL_ZERO'] = app_train_data_arcb.apply(lambda row:\n",
    "            row['AMT_REQ_CREDIT_BUREAU_HOUR_ZERO'] ==0\n",
    "            and row['AMT_REQ_CREDIT_BUREAU_DAY_ZERO'] ==0\n",
    "            and row['AMT_REQ_CREDIT_BUREAU_WEEK_ZERO'] ==0\n",
    "            and row['AMT_REQ_CREDIT_BUREAU_MON_ZERO'] ==0\n",
    "            and row['AMT_REQ_CREDIT_BUREAU_QRT_ZERO'] ==0\n",
    "            and row['AMT_REQ_CREDIT_BUREAU_YEAR_ZERO'] ==0\n",
    "            , axis=1)\n",
    "\n",
    "app_train_data_arcb['AMT_REQ_CREDIT_BUREAU_ATLEAST_ONE_ZERO'] = app_train_data_arcb.apply(lambda row:\n",
    "            row['AMT_REQ_CREDIT_BUREAU_HOUR_ZERO'] ==0\n",
    "            or row['AMT_REQ_CREDIT_BUREAU_DAY_ZERO'] ==0\n",
    "            or row['AMT_REQ_CREDIT_BUREAU_WEEK_ZERO'] ==0\n",
    "            or row['AMT_REQ_CREDIT_BUREAU_MON_ZERO'] ==0\n",
    "            or row['AMT_REQ_CREDIT_BUREAU_QRT_ZERO'] ==0\n",
    "            or row['AMT_REQ_CREDIT_BUREAU_YEAR_ZERO'] ==0\n",
    "            , axis=1)"
   ]
  },
  {
   "cell_type": "code",
   "execution_count": 22,
   "metadata": {},
   "outputs": [
    {
     "data": {
      "text/html": [
       "<div>\n",
       "<style scoped>\n",
       "    .dataframe tbody tr th:only-of-type {\n",
       "        vertical-align: middle;\n",
       "    }\n",
       "\n",
       "    .dataframe tbody tr th {\n",
       "        vertical-align: top;\n",
       "    }\n",
       "\n",
       "    .dataframe thead th {\n",
       "        text-align: right;\n",
       "    }\n",
       "</style>\n",
       "<table border=\"1\" class=\"dataframe\">\n",
       "  <thead>\n",
       "    <tr style=\"text-align: right;\">\n",
       "      <th></th>\n",
       "      <th>TARGET</th>\n",
       "    </tr>\n",
       "  </thead>\n",
       "  <tbody>\n",
       "    <tr>\n",
       "      <th>AMT_REQ_CREDIT_BUREAU_HOUR</th>\n",
       "      <td>0.001220</td>\n",
       "    </tr>\n",
       "    <tr>\n",
       "      <th>AMT_REQ_CREDIT_BUREAU_DAY</th>\n",
       "      <td>0.002093</td>\n",
       "    </tr>\n",
       "    <tr>\n",
       "      <th>AMT_REQ_CREDIT_BUREAU_WEEK</th>\n",
       "      <td>-0.002082</td>\n",
       "    </tr>\n",
       "    <tr>\n",
       "      <th>AMT_REQ_CREDIT_BUREAU_MON</th>\n",
       "      <td>-0.014193</td>\n",
       "    </tr>\n",
       "    <tr>\n",
       "      <th>AMT_REQ_CREDIT_BUREAU_QRT</th>\n",
       "      <td>-0.004854</td>\n",
       "    </tr>\n",
       "    <tr>\n",
       "      <th>AMT_REQ_CREDIT_BUREAU_YEAR</th>\n",
       "      <td>0.005438</td>\n",
       "    </tr>\n",
       "    <tr>\n",
       "      <th>TARGET</th>\n",
       "      <td>1.000000</td>\n",
       "    </tr>\n",
       "    <tr>\n",
       "      <th>AMT_REQ_CREDIT_BUREAU_HOUR_ZERO</th>\n",
       "      <td>-0.001299</td>\n",
       "    </tr>\n",
       "    <tr>\n",
       "      <th>AMT_REQ_CREDIT_BUREAU_DAY_ZERO</th>\n",
       "      <td>-0.003560</td>\n",
       "    </tr>\n",
       "    <tr>\n",
       "      <th>AMT_REQ_CREDIT_BUREAU_WEEK_ZERO</th>\n",
       "      <td>0.002700</td>\n",
       "    </tr>\n",
       "    <tr>\n",
       "      <th>AMT_REQ_CREDIT_BUREAU_MON_ZERO</th>\n",
       "      <td>0.010241</td>\n",
       "    </tr>\n",
       "    <tr>\n",
       "      <th>AMT_REQ_CREDIT_BUREAU_QRT_ZERO</th>\n",
       "      <td>0.013957</td>\n",
       "    </tr>\n",
       "    <tr>\n",
       "      <th>AMT_REQ_CREDIT_BUREAU_YEAR_ZERO</th>\n",
       "      <td>0.006828</td>\n",
       "    </tr>\n",
       "    <tr>\n",
       "      <th>AMT_REQ_CREDIT_BUREAU_ALL_ZERO</th>\n",
       "      <td>NaN</td>\n",
       "    </tr>\n",
       "    <tr>\n",
       "      <th>AMT_REQ_CREDIT_BUREAU_ATLEAST_ONE_ZERO</th>\n",
       "      <td>-0.015720</td>\n",
       "    </tr>\n",
       "  </tbody>\n",
       "</table>\n",
       "</div>"
      ],
      "text/plain": [
       "                                          TARGET\n",
       "AMT_REQ_CREDIT_BUREAU_HOUR              0.001220\n",
       "AMT_REQ_CREDIT_BUREAU_DAY               0.002093\n",
       "AMT_REQ_CREDIT_BUREAU_WEEK             -0.002082\n",
       "AMT_REQ_CREDIT_BUREAU_MON              -0.014193\n",
       "AMT_REQ_CREDIT_BUREAU_QRT              -0.004854\n",
       "AMT_REQ_CREDIT_BUREAU_YEAR              0.005438\n",
       "TARGET                                  1.000000\n",
       "AMT_REQ_CREDIT_BUREAU_HOUR_ZERO        -0.001299\n",
       "AMT_REQ_CREDIT_BUREAU_DAY_ZERO         -0.003560\n",
       "AMT_REQ_CREDIT_BUREAU_WEEK_ZERO         0.002700\n",
       "AMT_REQ_CREDIT_BUREAU_MON_ZERO          0.010241\n",
       "AMT_REQ_CREDIT_BUREAU_QRT_ZERO          0.013957\n",
       "AMT_REQ_CREDIT_BUREAU_YEAR_ZERO         0.006828\n",
       "AMT_REQ_CREDIT_BUREAU_ALL_ZERO               NaN\n",
       "AMT_REQ_CREDIT_BUREAU_ATLEAST_ONE_ZERO -0.015720"
      ]
     },
     "execution_count": 22,
     "metadata": {},
     "output_type": "execute_result"
    }
   ],
   "source": [
    "app_train_data_arcb['AMT_REQ_CREDIT_BUREAU_ATLEAST_ONE_ZERO'].describe()\n",
    "app_train_data_arcb.corr()[['TARGET']]"
   ]
  },
  {
   "cell_type": "code",
   "execution_count": 23,
   "metadata": {},
   "outputs": [
    {
     "data": {
      "image/png": "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\n",
      "text/plain": [
       "<matplotlib.figure.Figure at 0x1a1064b668>"
      ]
     },
     "metadata": {},
     "output_type": "display_data"
    }
   ],
   "source": [
    "plt.figure(figsize = (10, 8))\n",
    "\n",
    "# KDE plot of loans that were repaid on time\n",
    "sns.kdeplot(app_train_data_arcb.loc[app_train_data_arcb['TARGET'] == 0, 'AMT_REQ_CREDIT_BUREAU_ATLEAST_ONE_ZERO'] , label = 'target == 0')\n",
    "\n",
    "# KDE plot of loans which were not repaid on time\n",
    "sns.kdeplot(app_train_data_arcb.loc[app_train_data_arcb['TARGET'] == 1, 'AMT_REQ_CREDIT_BUREAU_ATLEAST_ONE_ZERO'] , label = 'target == 1')\n",
    "\n",
    "# Labeling of plot\n",
    "plt.xlabel('Last Phone Changed (Days)'); plt.ylabel('Density'); plt.title('Distribution of Last Phone Changed');\n",
    "#The distribution looks fairly equal for both Target 0 and 1, so lets keep data as is"
   ]
  },
  {
   "cell_type": "code",
   "execution_count": 24,
   "metadata": {},
   "outputs": [
    {
     "name": "stdout",
     "output_type": "stream",
     "text": [
      "(246008, 3)\n",
      "              EXT_SOURCE_1  EXT_SOURCE_2  EXT_SOURCE_3    TARGET\n",
      "EXT_SOURCE_1      1.000000      0.113852      0.039925 -0.065360\n",
      "EXT_SOURCE_2      0.113852      1.000000      0.097264 -0.159892\n",
      "EXT_SOURCE_3      0.039925      0.097264      1.000000 -0.120021\n",
      "TARGET           -0.065360     -0.159892     -0.120021  1.000000\n"
     ]
    }
   ],
   "source": [
    "#Polynomial features\n",
    "ext_columns = ['EXT_SOURCE_1', 'EXT_SOURCE_2', 'EXT_SOURCE_3']\n",
    "app_train_data_ext = pd.DataFrame(data=app_train_data, columns=ext_columns)\n",
    "\n",
    "app_train_data_ext.fillna(0, inplace=True)\n",
    "print(app_train_data_ext.shape)\n",
    "#print(app_train_data_ext.head(5))\n",
    "#imputer = Imputer(strategy = 'median')\n",
    "#app_train_data_ext = imputer.fit_transform(app_train_data_ext)\n",
    "\n",
    "\n",
    "app_train_data_ext['TARGET'] = train_labels\n",
    "#print(app_train_data_ext.head(5))\n",
    "print(app_train_data_ext.corr()) #these fields are intercorrelated. Worth finding higher degree corr"
   ]
  },
  {
   "cell_type": "code",
   "execution_count": 25,
   "metadata": {},
   "outputs": [
    {
     "name": "stdout",
     "output_type": "stream",
     "text": [
      "(246008, 20)\n"
     ]
    }
   ],
   "source": [
    "app_train_data_ext=app_train_data_ext.drop('TARGET', axis=1)\n",
    "\n",
    "\n",
    "poly_transformer = PolynomialFeatures(degree = 3)\n",
    "poly_transformer.fit(app_train_data_ext)\n",
    "app_train_data_ext=poly_transformer.transform(app_train_data_ext)\n",
    "print(app_train_data_ext.shape)\n",
    "#print(app_train_data_ext[:5,])"
   ]
  },
  {
   "cell_type": "code",
   "execution_count": 26,
   "metadata": {},
   "outputs": [
    {
     "name": "stdout",
     "output_type": "stream",
     "text": [
      "ploy_feature_names=\n",
      "[   '1',\n",
      "    'EXT_SOURCE_1',\n",
      "    'EXT_SOURCE_2',\n",
      "    'EXT_SOURCE_3',\n",
      "    'EXT_SOURCE_1^2',\n",
      "    'EXT_SOURCE_1 EXT_SOURCE_2',\n",
      "    'EXT_SOURCE_1 EXT_SOURCE_3',\n",
      "    'EXT_SOURCE_2^2',\n",
      "    'EXT_SOURCE_2 EXT_SOURCE_3',\n",
      "    'EXT_SOURCE_3^2',\n",
      "    'EXT_SOURCE_1^3',\n",
      "    'EXT_SOURCE_1^2 EXT_SOURCE_2',\n",
      "    'EXT_SOURCE_1^2 EXT_SOURCE_3',\n",
      "    'EXT_SOURCE_1 EXT_SOURCE_2^2',\n",
      "    'EXT_SOURCE_1 EXT_SOURCE_2 EXT_SOURCE_3',\n",
      "    'EXT_SOURCE_1 EXT_SOURCE_3^2',\n",
      "    'EXT_SOURCE_2^3',\n",
      "    'EXT_SOURCE_2^2 EXT_SOURCE_3',\n",
      "    'EXT_SOURCE_2 EXT_SOURCE_3^2',\n",
      "    'EXT_SOURCE_3^3']\n",
      "(246008, 20)\n"
     ]
    }
   ],
   "source": [
    "ploy_feature_names = poly_transformer.get_feature_names(input_features = ext_columns)\n",
    "print('ploy_feature_names=')\n",
    "pp.pprint(ploy_feature_names)\n",
    "app_train_data_ext = pd.DataFrame(app_train_data_ext, \n",
    "                             columns = ploy_feature_names)\n",
    "#app_train_data_ext.head(5)\n",
    "print(app_train_data_ext.shape)"
   ]
  },
  {
   "cell_type": "code",
   "execution_count": null,
   "metadata": {},
   "outputs": [],
   "source": []
  },
  {
   "cell_type": "code",
   "execution_count": 27,
   "metadata": {},
   "outputs": [
    {
     "name": "stdout",
     "output_type": "stream",
     "text": [
      "EXT_SOURCE_2                             -0.159892\n",
      "EXT_SOURCE_2 EXT_SOURCE_3                -0.151018\n",
      "EXT_SOURCE_2^2                           -0.149866\n",
      "EXT_SOURCE_2 EXT_SOURCE_3^2              -0.146631\n",
      "EXT_SOURCE_2^2 EXT_SOURCE_3              -0.146023\n",
      "EXT_SOURCE_2^3                           -0.140803\n",
      "EXT_SOURCE_3^2                           -0.128649\n",
      "EXT_SOURCE_3^3                           -0.122689\n",
      "EXT_SOURCE_3                             -0.120021\n",
      "EXT_SOURCE_1 EXT_SOURCE_2 EXT_SOURCE_3   -0.089343\n",
      "EXT_SOURCE_1 EXT_SOURCE_2^2              -0.086495\n",
      "EXT_SOURCE_1^2 EXT_SOURCE_2              -0.086407\n",
      "EXT_SOURCE_1 EXT_SOURCE_2                -0.084288\n",
      "EXT_SOURCE_1 EXT_SOURCE_3^2              -0.083434\n",
      "EXT_SOURCE_1^2 EXT_SOURCE_3              -0.082643\n",
      "EXT_SOURCE_1 EXT_SOURCE_3                -0.082260\n",
      "EXT_SOURCE_1^3                           -0.075991\n",
      "EXT_SOURCE_1^2                           -0.075920\n",
      "EXT_SOURCE_1                             -0.065360\n",
      "TARGET                                    1.000000\n",
      "1                                              NaN\n",
      "Name: TARGET, dtype: float64\n"
     ]
    }
   ],
   "source": [
    "app_train_data_ext=app_train_data_ext.assign(TARGET=train_labels.values)\n",
    "app_train_data_ext_poly_corr=app_train_data_ext.corr()['TARGET'].sort_values()\n",
    "#print(app_train_data_ext_poly_corr.head(5))\n",
    "#print(app_train_data_ext_poly_corr.tail(5))\n",
    "print(app_train_data_ext_poly_corr)"
   ]
  },
  {
   "cell_type": "code",
   "execution_count": 28,
   "metadata": {},
   "outputs": [
    {
     "name": "stdout",
     "output_type": "stream",
     "text": [
      "ploy_feature_names=\n",
      "[   '1',\n",
      "    'EXT_SOURCE_1',\n",
      "    'EXT_SOURCE_2',\n",
      "    'EXT_SOURCE_3',\n",
      "    'EXT_SOURCE_1^2',\n",
      "    'EXT_SOURCE_1 EXT_SOURCE_2',\n",
      "    'EXT_SOURCE_1 EXT_SOURCE_3',\n",
      "    'EXT_SOURCE_2^2',\n",
      "    'EXT_SOURCE_2 EXT_SOURCE_3',\n",
      "    'EXT_SOURCE_3^2',\n",
      "    'EXT_SOURCE_1^3',\n",
      "    'EXT_SOURCE_1^2 EXT_SOURCE_2',\n",
      "    'EXT_SOURCE_1^2 EXT_SOURCE_3',\n",
      "    'EXT_SOURCE_1 EXT_SOURCE_2^2',\n",
      "    'EXT_SOURCE_1 EXT_SOURCE_2 EXT_SOURCE_3',\n",
      "    'EXT_SOURCE_1 EXT_SOURCE_3^2',\n",
      "    'EXT_SOURCE_2^3',\n",
      "    'EXT_SOURCE_2^2 EXT_SOURCE_3',\n",
      "    'EXT_SOURCE_2 EXT_SOURCE_3^2',\n",
      "    'EXT_SOURCE_3^3']\n"
     ]
    }
   ],
   "source": [
    "# add EXT columns polynomials in main data\n",
    "ext_columns = ['EXT_SOURCE_1', 'EXT_SOURCE_2', 'EXT_SOURCE_3']\n",
    "\n",
    "app_train_data_ext = pd.DataFrame(data=app_train_data, columns=ext_columns)\n",
    "app_train_data_ext.fillna(0, inplace=True)\n",
    "app_test_data_ext = pd.DataFrame(data=app_test_data, columns=ext_columns)\n",
    "app_test_data_ext.fillna(0, inplace=True)\n",
    "\n",
    "\n",
    "poly_transformer = PolynomialFeatures(degree = 3)\n",
    "poly_transformer.fit(app_train_data_ext)\n",
    "\n",
    "app_train_data_ext=poly_transformer.transform(app_train_data_ext)\n",
    "app_test_data_ext=poly_transformer.transform(app_test_data_ext)\n",
    "\n",
    "ploy_feature_names = poly_transformer.get_feature_names(input_features = ext_columns)\n",
    "print('ploy_feature_names=')\n",
    "pp.pprint(ploy_feature_names)\n",
    "\n",
    "app_train_data_ext = pd.DataFrame(app_train_data_ext, \n",
    "                             columns = ploy_feature_names)\n",
    "app_test_data_ext = pd.DataFrame(app_test_data_ext, \n",
    "                             columns = ploy_feature_names)\n",
    "\n",
    "app_train_data_ext=app_train_data_ext.assign(SK_ID_CURR=app_train_data_skid_curr.values)\n",
    "app_test_data_ext=app_test_data_ext.assign(SK_ID_CURR=app_test_data_skid_curr.values)\n",
    "\n",
    "#drop original columns otherwise while merging column name changes\n",
    "app_train_data_ext=app_train_data_ext.drop(ext_columns,axis=1)\n",
    "app_test_data_ext=app_test_data_ext.drop(ext_columns,axis=1)\n",
    "\n",
    "app_train_data=pd.DataFrame(data=app_train_data)\n",
    "app_test_data=pd.DataFrame(data=app_test_data)\n",
    "\n",
    "app_train_data = app_train_data.merge(app_train_data_ext, on = 'SK_ID_CURR', how = 'left')\n",
    "app_test_data = app_test_data.merge(app_test_data_ext, on = 'SK_ID_CURR', how = 'left')\n"
   ]
  },
  {
   "cell_type": "code",
   "execution_count": 29,
   "metadata": {},
   "outputs": [],
   "source": [
    "#"
   ]
  },
  {
   "cell_type": "code",
   "execution_count": null,
   "metadata": {},
   "outputs": [],
   "source": []
  },
  {
   "cell_type": "markdown",
   "metadata": {},
   "source": [
    "Align train and test so clumns match"
   ]
  },
  {
   "cell_type": "code",
   "execution_count": 30,
   "metadata": {},
   "outputs": [],
   "source": [
    "#app_train_data, app_test_data = app_train_data.align(app_test_data, join = 'inner', axis = 1)"
   ]
  },
  {
   "cell_type": "code",
   "execution_count": 31,
   "metadata": {},
   "outputs": [
    {
     "name": "stdout",
     "output_type": "stream",
     "text": [
      "(246008, 140)\n",
      "(61503, 140)\n"
     ]
    }
   ],
   "source": [
    "print(app_train_data.shape)\n",
    "print(app_test_data.shape)"
   ]
  },
  {
   "cell_type": "code",
   "execution_count": null,
   "metadata": {},
   "outputs": [],
   "source": []
  },
  {
   "cell_type": "markdown",
   "metadata": {},
   "source": [
    "Impute missing values, using the column mean"
   ]
  },
  {
   "cell_type": "code",
   "execution_count": 32,
   "metadata": {},
   "outputs": [
    {
     "name": "stdout",
     "output_type": "stream",
     "text": [
      "Data has 140 columns out of which 68 columns that have missing values\n",
      "First 30 columns with highest %Diff are\n",
      "\n",
      "                                 %Total  %Target=0  %Target=1     %Diff\n",
      "FLOORSMAX_AVG                 49.760577  49.140055  56.815325  7.675270\n",
      "FLOORSMAX_MEDI                49.760577  49.140055  56.815325  7.675270\n",
      "FLOORSMAX_MODE                49.760577  49.140055  56.815325  7.675270\n",
      "EMERGENCYSTATE_MODE           47.392361  46.772717  54.437126  7.664409\n",
      "ENTRANCES_MODE                50.333729  49.714973  57.368395  7.653422\n",
      "ENTRANCES_MEDI                50.333729  49.714973  57.368395  7.653422\n",
      "ENTRANCES_AVG                 50.333729  49.714973  57.368395  7.653422\n",
      "TOTALAREA_MODE                48.263065  47.644382  55.296898  7.652516\n",
      "YEARS_BEGINEXPLUATATION_MODE  48.770365  48.159155  55.719242  7.560087\n",
      "YEARS_BEGINEXPLUATATION_MEDI  48.770365  48.159155  55.719242  7.560087\n",
      "YEARS_BEGINEXPLUATATION_AVG   48.770365  48.159155  55.719242  7.560087\n",
      "ELEVATORS_MODE                53.268593  52.662094  60.163910  7.501816\n",
      "ELEVATORS_MEDI                53.268593  52.662094  60.163910  7.501816\n",
      "ELEVATORS_AVG                 53.268593  52.662094  60.163910  7.501816\n",
      "APARTMENTS_AVG                50.752821  50.149258  57.614762  7.465504\n",
      "APARTMENTS_MODE               50.752821  50.149258  57.614762  7.465504\n",
      "APARTMENTS_MEDI               50.752821  50.149258  57.614762  7.465504\n",
      "WALLSMATERIAL_MODE            50.833713  50.233726  57.654985  7.421259\n",
      "HOUSETYPE_MODE                50.163816  49.566379  56.956106  7.389728\n",
      "LIVINGAREA_AVG                50.171539  49.579646  56.900799  7.321153\n",
      "LIVINGAREA_MEDI               50.171539  49.579646  56.900799  7.321153\n",
      "LIVINGAREA_MODE               50.171539  49.579646  56.900799  7.321153\n",
      "NONLIVINGAREA_AVG             55.127882  54.549153  61.707476  7.158323\n",
      "NONLIVINGAREA_MODE            55.127882  54.549153  61.707476  7.158323\n",
      "NONLIVINGAREA_MEDI            55.127882  54.549153  61.707476  7.158323\n",
      "BASEMENTAREA_MEDI             58.458262  57.911984  64.668912  6.756928\n",
      "BASEMENTAREA_AVG              58.458262  57.911984  64.668912  6.756928\n",
      "BASEMENTAREA_MODE             58.458262  57.911984  64.668912  6.756928\n",
      "DAYS_EMPLOYED                 18.097379  18.619400  12.162502  6.456898\n",
      "OCCUPATION_TYPE               31.412800  31.931417  25.516617  6.414799\n"
>>>>>>> master
     ]
    }
   ],
   "source": [
<<<<<<< HEAD
    "sort_print_stats(stats,top=15)"
=======
    "# Function to calculate missing values by column \n",
    "def get_missing_values_stats(data, label):\n",
    "        # Total missing values\n",
    "        missing_values = data.isnull().sum()\n",
    "        \n",
    "        # Percentage of missing values\n",
    "        missing_values_percent = 100 * missing_values / len(data)\n",
    "        \n",
    "        # Percentage of missing values when Target = 0\n",
    "        missing_values_percent_target_0 = 100 * data[label.values==0].isnull().sum() / len(data[label.values==0])\n",
    "        \n",
    "        # Percentage of missing values when Target = 1\n",
    "        missing_values_percent_target_1 = 100 * data[label.values==1].isnull().sum() / len(data[label.values==1])       \n",
    "        \n",
    "        \n",
    "        # results table\n",
    "        status_table = pd.concat([missing_values, missing_values_percent\n",
    "                                  , missing_values_percent_target_0, missing_values_percent_target_1\n",
    "                                 , abs(missing_values_percent_target_0-missing_values_percent_target_1)]\n",
    "                                 , axis=1)\n",
    "        \n",
    "        # Give Headers\n",
    "        status_table = status_table.rename(\n",
    "        columns = {0 : 'Missing Count', 1 : '%Total'\n",
    "                  ,2 : '%Target=0', 3 : '%Target=1'\n",
    "                  ,4 : '%Diff'})\n",
    "        \n",
    "        \n",
    "        \n",
    "        # Remove columns not having any missing values\n",
    "        status_table = status_table[status_table['Missing Count'] != 0]\n",
    "        status_table = status_table.drop('Missing Count', axis=1)\n",
    "\n",
    "        \n",
    "        # Sort the table by percentage of missing descending\n",
    "        status_table = status_table.sort_values(\n",
    "        '%Diff', ascending=False)\n",
    "        \n",
    "        print (\"Data has {} columns out of which {} columns that have missing values\"\n",
    "               .format(str(data.shape[1]),str(status_table.shape[0])))\n",
    "        \n",
    "        return status_table\n",
    "    \n",
    "#print(app_train_data.shape,type(app_train_data))\n",
    "#print(train_labels.shape,type(train_labels))\n",
    "#app_train_data[train_labels.values==0]\n",
    "train_missing_values = get_missing_values_stats(app_train_data, train_labels)\n",
    "print('First 30 columns with highest %Diff are\\n')\n",
    "print(train_missing_values.head(30))"
   ]
  },
  {
   "cell_type": "code",
   "execution_count": 33,
   "metadata": {},
   "outputs": [
    {
     "name": "stdout",
     "output_type": "stream",
     "text": [
      "Number of columns with more than 3% difference in number of missing values when Target is 0 vs 1 = 58\n"
     ]
    }
   ],
   "source": [
    "print('Number of columns with more than 3% difference in number of missing values when Target is 0 vs 1 = {}'\n",
    "      .format(sum(train_missing_values['%Diff'] > 3)))"
>>>>>>> master
   ]
  },
  {
   "cell_type": "markdown",
   "metadata": {},
   "source": [
<<<<<<< HEAD
    "Again we utilize our abstraction process and shift our attention to Logistic Regression, Gradient Boosting, and Random Forest Classifiers. After evaulation, we do not see a change to our top performer."
=======
    "Out of 68 columns having missing values 58 columns have more than 3% difference between % of missing values for Target = 0 vs Target = 1\n",
    "Hence this looks like significant information. So while we impute the Nulls with 0 we need to capture that these values were Null in an indicator column"
>>>>>>> master
   ]
  },
  {
   "cell_type": "code",
<<<<<<< HEAD
   "execution_count": 24,
   "metadata": {
    "collapsed": true
   },
   "outputs": [],
=======
   "execution_count": 34,
   "metadata": {},
   "outputs": [
    {
     "name": "stdout",
     "output_type": "stream",
     "text": [
      "After creating indicator columns, Training Data shape=(246008, 208)\n",
      "Lets check how many columns still have NULL = 0\n"
     ]
    }
   ],
   "source": [
    "#Change Null to 0's and add indicator column for each column having Null value\n",
    "def replace_null_add_indicator(data):\n",
    "    missing_values = data.isnull().sum()\n",
    "    columns = list(data.columns)\n",
    "\n",
    "    #print(missing_values)\n",
    "    for i,missing_count in enumerate(missing_values):\n",
    "        if missing_count > 0:\n",
    "            original_column_name = columns[i]\n",
    "            indicator_column_name = 'Null_Indicator_'+original_column_name \n",
    "            data[indicator_column_name] = data[original_column_name].isnull()\n",
    "            data[original_column_name].fillna(value=0,inplace=True)\n",
    "    \n",
    "replace_null_add_indicator(app_train_data)\n",
    "print('After creating indicator columns, Training Data shape={}'.format(app_train_data.shape))\n",
    "print('Lets check how many columns still have NULL = {}'.format(app_train_data.isnull().sum().sum()))"
   ]
  },
  {
   "cell_type": "code",
   "execution_count": 35,
   "metadata": {},
   "outputs": [
    {
     "name": "stdout",
     "output_type": "stream",
     "text": [
      "After creating indicator columns, Training Data shape=(61503, 206)\n",
      "Lets check how many columns still have NULL = 0\n"
     ]
    }
   ],
   "source": [
    "#Perform same operation on test data\n",
    "replace_null_add_indicator(app_test_data)\n",
    "print('After creating indicator columns, Training Data shape={}'.format(app_test_data.shape))\n",
    "print('Lets check how many columns still have NULL = {}'.format(app_test_data.isnull().sum().sum()))"
   ]
  },
  {
   "cell_type": "code",
   "execution_count": 36,
   "metadata": {},
   "outputs": [
    {
     "name": "stdout",
     "output_type": "stream",
     "text": [
      "Training Features shape:  (246008, 207)\n",
      "Testing Features shape:  (61503, 205)\n"
     ]
    }
   ],
   "source": [
    "app_train_data = app_train_data.drop('SK_ID_CURR', axis=1)\n",
    "app_test_data = app_test_data.drop('SK_ID_CURR', axis=1)\n",
    "print('Training Features shape: ', app_train_data.shape)\n",
    "print('Testing Features shape: ', app_test_data.shape)"
   ]
  },
  {
   "cell_type": "markdown",
   "metadata": {},
   "source": [
    "Convert categorical columns to numeric.\n",
    "We will use Label Encoding for columsn having upto 2 distinct values\n",
    "And will use One Hot Encoding for other columns"
   ]
  },
  {
   "cell_type": "code",
   "execution_count": 37,
   "metadata": {},
   "outputs": [
    {
     "name": "stdout",
     "output_type": "stream",
     "text": [
      "3 columns were label encoded\n",
      "Training Features shape:  (246008, 207)\n",
      "Testing Features shape:  (61503, 205)\n"
     ]
    }
   ],
   "source": [
    "# Create a label encoder object\n",
    "le = LabelEncoder()\n",
    "le_count = 0\n",
    "\n",
    "# Iterate through the columns\n",
    "for col in list(app_train_data.columns):\n",
    "    #print(col,app_train_data[col].dtype)\n",
    "    if app_train_data[col].dtype == 'object':\n",
    "        # If 2 or fewer unique categories\n",
    "        if len(list(app_train_data[col].unique())) <= 2:\n",
    "            # Train on the training data\n",
    "            le.fit(app_train_data[col])\n",
    "            # Transform both training and testing data\n",
    "            app_train_data[col] = le.transform(app_train_data[col])\n",
    "            app_test_data[col] = le.transform(app_test_data[col])\n",
    "            \n",
    "            # Keep track of how many columns were label encoded\n",
    "            le_count += 1\n",
    "            \n",
    "print('{} columns were label encoded'.format(le_count))\n",
    "print('Training Features shape: ', app_train_data.shape)\n",
    "print('Testing Features shape: ', app_test_data.shape)"
   ]
  },
  {
   "cell_type": "code",
   "execution_count": 38,
   "metadata": {},
   "outputs": [
    {
     "name": "stdout",
     "output_type": "stream",
     "text": [
      "Training Features shape:  (246008, 334)\n",
      "Testing Features shape:  (61503, 331)\n"
     ]
    }
   ],
   "source": [
    "#use label encoding for unique values upto 2\n",
    "app_train_data = pd.get_dummies(app_train_data)\n",
    "app_test_data = pd.get_dummies(app_test_data)\n",
    "\n",
    "print('Training Features shape: ', app_train_data.shape)\n",
    "print('Testing Features shape: ', app_test_data.shape)"
   ]
  },
  {
   "cell_type": "code",
   "execution_count": 39,
   "metadata": {},
   "outputs": [
    {
     "name": "stdout",
     "output_type": "stream",
     "text": [
      "(246008, 331)\n",
      "(61503, 331)\n"
     ]
    }
   ],
   "source": [
    "\n",
    "\n",
    "app_train_data, app_test_data = app_train_data.align(app_test_data, join = 'inner', axis = 1)\n",
    "print(app_train_data.shape)\n",
    "print(app_test_data.shape)"
   ]
  },
  {
   "cell_type": "code",
   "execution_count": 40,
   "metadata": {},
   "outputs": [],
   "source": [
    "imputer = Imputer(strategy = 'median')\n",
    "\n",
    "app_train_data = imputer.fit_transform(app_train_data)\n",
    "app_test_data = imputer.transform(app_test_data)\n",
    "#app_train_data.fillna(0, inplace=True)\n",
    "#app_test_data.fillna(0, inplace=True)"
   ]
  },
  {
   "cell_type": "code",
   "execution_count": 41,
   "metadata": {},
   "outputs": [],
   "source": [
    "scaler = MinMaxScaler(feature_range = (0, 1))\n",
    "app_train_data = scaler.fit_transform(app_train_data)\n",
    "app_test_data = scaler.transform(app_test_data)"
   ]
  },
  {
   "cell_type": "code",
   "execution_count": 42,
   "metadata": {},
   "outputs": [
    {
     "name": "stdout",
     "output_type": "stream",
     "text": [
      "Iteration 1 explains 0.9815535743701986 variance with 100 PCA components\n",
      "To cover variance of 0.8 we will use PCA with 21 components\n"
     ]
    }
   ],
   "source": [
    "# get optimum PCA for faster execution\n",
    "cover_variance = .80\n",
    "def get_optimum_pca(data, cover_variance=cover_variance):\n",
    "    # Start with some large PCA number to speed up the calculation\n",
    "    start_pca_no = 100\n",
    "    \n",
    "    #increement by some small number\n",
    "    change_no_by = 20\n",
    "    \n",
    "    #max number of iterations to avoid infinite loops\n",
    "    max_iter = 10\n",
    "    \n",
    "    iter_counter = 1\n",
    "    current_pca_no = start_pca_no\n",
    "    \n",
    "    while True:\n",
    "        \n",
    "        pca = PCA(n_components=current_pca_no)\n",
    "        pca.fit(data)\n",
    "        var_ratios = pca.explained_variance_ratio_\n",
    "        var_ratios_cum_sum = [sum(var_ratios[:i+1]) for i in range(len(var_ratios))]\n",
    "        \n",
    "        print('Iteration {} explains {} variance with {} PCA components'\n",
    "              .format(iter_counter, var_ratios_cum_sum[-1], current_pca_no))\n",
    "        #print(var_ratios)\n",
    "        #print(var_ratios_cum_sum)\n",
    "        \n",
    "        if var_ratios_cum_sum[-1] >= cover_variance:\n",
    "            for i, ration_sum in enumerate(var_ratios_cum_sum):\n",
    "                if ration_sum >= cover_variance:\n",
    "                    return i+1\n",
    "                    \n",
    "        iter_counter = iter_counter + 1\n",
    "        if iter_counter > max_iter:\n",
    "            print('Did not reach targetted covariance ratio {} in {} iterations'\n",
    "                  .format(cover_variance, max_iter))\n",
    "            print('Current calculated PCA number {} will cover {} % variance'\n",
    "                  .format(current_pca_no, var_ratios_cum_sum[-1]))\n",
    "            break\n",
    "            \n",
    "        current_pca_no = current_pca_no + change_no_by\n",
    "\n",
    "    return current_pca_no\n",
    "\n",
    "pca_no = get_optimum_pca(app_train_data)\n",
    "print('To cover variance of {} we will use PCA with {} components'\n",
    "      .format(cover_variance,pca_no))"
   ]
  },
  {
   "cell_type": "code",
   "execution_count": 43,
   "metadata": {},
   "outputs": [],
   "source": [
    "# Reduce dimentions of training and test data using PCA\n",
    "pca = PCA(n_components=pca_no)\n",
    "app_train_data_pca = pca.fit_transform(app_train_data)\n",
    "app_test_data_pca = pca.transform(app_test_data)"
   ]
  },
  {
   "cell_type": "code",
   "execution_count": 44,
   "metadata": {},
   "outputs": [
    {
     "name": "stdout",
     "output_type": "stream",
     "text": [
      "(246008, 21)\n",
      "(61503, 21)\n"
     ]
    }
   ],
   "source": [
    "# After PCA lets see the shape\n",
    "print(app_train_data_pca.shape)\n",
    "print(app_test_data_pca.shape)"
   ]
  },
  {
   "cell_type": "code",
   "execution_count": 45,
   "metadata": {},
   "outputs": [],
   "source": [
    "#This tuple will be used by all classifiers\n",
    "\n",
    "#PCA\n",
    "train_test_data_pca = {\n",
    "    'train_data'   : app_train_data_pca,\n",
    "    'test_data'    : app_test_data_pca,\n",
    "    'train_labels' : train_labels,\n",
    "    'test_labels'  : test_labels\n",
    "}\n",
    "\n",
    "#Non PCA\n",
    "train_test_data_all = {\n",
    "    'train_data'   : app_train_data,\n",
    "    'test_data'    : app_test_data,\n",
    "    'train_labels' : train_labels,\n",
    "    'test_labels'  : test_labels\n",
    "}\n",
    "\n",
    "train_test_data = train_test_data_pca"
   ]
  },
  {
   "cell_type": "code",
   "execution_count": 63,
   "metadata": {},
   "outputs": [],
   "source": [
    "class Stat_Holder:\n",
    "    \n",
    "    def __init__(self, pca_component_no, classifier_name, classifier_params\n",
    "                 , roc_auc_score, recall_score, precision_score): \n",
    "        self.pca_component_no = pca_component_no\n",
    "        self.classifier_name = classifier_name\n",
    "        self.classifier_params = classifier_params\n",
    "        self.roc_auc_score = roc_auc_score\n",
    "        self.recall_score = recall_score\n",
    "        self.precision_score = precision_score\n",
    "        \n",
    "    def __str__(self):\n",
    "        return '{pca_component_no='+ str(self.pca_component_no) +\\\n",
    "                ' classifier_name=' + str(self.classifier_name) +\\\n",
    "                ' classifier_params=' + str(self.classifier_params) +\\\n",
    "                ' roc_auc=' + str(self.roc_auc_score) +\\\n",
    "                ' recall=' + str(self.recall_score) +\\\n",
    "                ' precision=' + str(self.precision_score) +\\\n",
    "                '}'\n",
    "        \n",
    "    def __lt__(self, other):\n",
    "\n",
    "        \n",
    "        # sort decending by roc_auc_score\n",
    "        return self.roc_auc_score > other.roc_auc_score \n",
    "# End of class Stat_Hlder   \n",
    "\n",
    "def sort_print_stats(stats,top=10):    \n",
    "    stats=sorted(stats)\n",
    "    print_stats(stats,top)\n",
    "\n",
    "def print_stats(stats,top=10):\n",
    "    print('\\n')\n",
    "    print('{:^6}{:^12}{:^40}{:^10}{:^30}{:^10}{:^10}'\n",
    "          .format('Sr. No.','No. of PCA','Classifier','ROC AUC','Classifier Params', 'Recall', 'Precision'))\n",
    "    print('_'*118)\n",
    "    for index,stat in enumerate(stats[:top]):\n",
    "        print('{:^6}{:^12}{:^40}{:>10.5}{:^30}{:>10.5}{:>10.5}'\n",
    "              .format(index+1,stat.pca_component_no,stat.classifier_name\n",
    "                      ,stat.roc_auc_score,stat.classifier_params,stat.recall_score,stat.precision_score))"
   ]
  },
  {
   "cell_type": "markdown",
   "metadata": {},
   "source": [
    "Now lets use various combinations of PCA and Random Forest to get baseline predictions"
   ]
  },
  {
   "cell_type": "code",
   "execution_count": 47,
   "metadata": {},
   "outputs": [],
   "source": [
    "def get_estimater_name(clf):\n",
    "    if type(clf).__name__ == 'GridSearchCV':\n",
    "        estimater_name = 'GridSearchCV:'+ type(clf.estimator).__name__\n",
    "    else:\n",
    "        estimater_name = type(clf).__name__\n",
    "    return estimater_name\n",
    "\n",
    "def get_estimater_param(clf,clf_params):\n",
    "    if type(clf).__name__ == 'GridSearchCV':\n",
    "        for i,param in enumerate(clf_params.split(',')):\n",
    "            if i > 0:\n",
    "                parameters = parameters + ','\n",
    "            parameters = param + '=' + str(clf.best_params_[param])    \n",
    "    else:\n",
    "        parameters = clf_params\n",
    "\n",
    "    return parameters\n",
    "\n",
    "def run_classifier(clf, train_data,train_labels,test_data,test_labels,pca_no,clf_params):\n",
    "    positive_probability_threashold = .06 #.09 calculated\n",
    "    '''\n",
    "    print('Train Data Shape',train_data.shape)\n",
    "    print('Train Label Shape',train_labels.shape)\n",
    "    print('Test Data Shape',test_data.shape)\n",
    "    print('Test Label Shape',test_labels.shape)\n",
    "    '''\n",
    "    clf = clf.fit(train_data,train_labels)\n",
    "    \n",
    "    test_labels_proba = clf.predict_proba(test_data)\n",
    "    print('Test Labels Predicted Probability Shape', test_labels_proba.shape)\n",
    "    test_labels_predicted = test_labels_proba[:,-1] > positive_probability_threashold\n",
    "    test_labels_predicted.astype(int)\n",
    "    \n",
    "    #test_labels_predicted = clf.predict(test_data)\n",
    "    '''\n",
    "    print('Train Labels unique values',np.unique(train_labels))\n",
    "    print('Test Labels unique values',np.unique(test_labels))\n",
    "    print('Test Labels predicted unique values',np.unique(test_labels_predicted))\n",
    "    '''\n",
    "    \n",
    "    roc_auc_score = metrics.roc_auc_score(test_labels,test_labels_predicted)\n",
    "    recall_score = metrics.recall_score(test_labels,test_labels_predicted)\n",
    "    precision_score = metrics.precision_score(test_labels,test_labels_predicted)\n",
    "   \n",
    "    st = Stat_Holder(pca_no,get_estimater_name(clf),get_estimater_param(clf,clf_params)\n",
    "                     ,roc_auc_score,recall_score,precision_score)\n",
    "    return st\n",
    "\n",
    "def run_classifiers(min_PCA, max_PCA, classifier_list, train_test_data = train_test_data):\n",
    "    stats = []\n",
    "    \n",
    "    train_data = train_test_data['train_data'][:limit_data,]\n",
    "    train_labels = train_test_data['train_labels'][:limit_data,]\n",
    "    test_data = train_test_data['test_data'][:limit_data]\n",
    "    test_labels = train_test_data['test_labels'][:limit_data]\n",
    "    \n",
    "    #print(train_data.shape)\n",
    "    #print(train_labels.shape)\n",
    "    #print(test_data.shape)\n",
    "    #print(test_labels.shape)\n",
    "    \n",
    "    for classifier in classifier_list:\n",
    "        clf = classifier.get('clf')\n",
    "        clf_params = classifier.get('params')\n",
    "        print('{} started with params {}'.format(get_estimater_name(clf),clf_params))\n",
    "        #print(clf)\n",
    "        \n",
    "        #print(clf_params)\n",
    "        if min_PCA is None:\n",
    "            st = run_classifier(clf, train_data,train_labels\n",
    "                                        ,test_data,test_labels\n",
    "                                ,'NA',clf_params)\n",
    "            print(st)\n",
    "            stats.append(st)\n",
    "        else:\n",
    "            pca_range = range(min_PCA,max_PCA+1)\n",
    "            for pca_no in pca_range:\n",
    "                    print('\\tPCA {} started'.format(pca_no), end=\" \")\n",
    "                    pca = PCA(n_components = pca_no,copy = True)\n",
    "                    train_data_pca = pca.fit_transform(train_data) \n",
    "                    test_data_pca = pca.transform(test_data) \n",
    "\n",
    "                    st = run_classifier(clf, train_data_pca,train_labels\n",
    "                                        ,test_data_pca,test_labels\n",
    "                                        ,pca_no,clf_params)\n",
    "                    stats.append(st)\n",
    "                    print('\\tPCA {} completed'.format(pca_no))\n",
    "                    #print_stats([st])\n",
    "        print('{} completed'.format(get_estimater_name(clf)))\n",
    "    return stats\n",
    "    \n"
   ]
  },
  {
   "cell_type": "code",
   "execution_count": 48,
   "metadata": {},
   "outputs": [],
   "source": [
    "all_stats=[] #stats across all algo, never overridden\n",
    "stats = [] #stats for specific group, overridden for each group\n",
    "\n",
    "minPCA = 1\n",
    "maxPCA = 5\n",
    "limit_data = None\n",
    "classifiers = []\n",
    "classifiers.append({'clf':DecisionTreeClassifier(max_depth=5), 'params':'max_depth=5'} )\n",
    "classifiers.append({'clf':KMeans(n_clusters=5), 'params':'n_clusters=5'} )\n",
    "classifiers.append({'clf':GaussianMixture(n_components=3), 'params':'n_components=3'} )\n",
    "classifiers.append({'clf':KNeighborsClassifier(n_neighbors=3), 'params':'n_neighbors=3'} )\n",
    "#classifiers\n",
    "#stats=run_classifiers(minPCA,maxPCA,classifiers)\n",
    "#all_stats.extend(stats)"
   ]
  },
  {
   "cell_type": "code",
   "execution_count": 49,
   "metadata": {},
   "outputs": [
    {
     "name": "stdout",
     "output_type": "stream",
     "text": [
      "\n",
      "\n",
      "Sr. No. No. of PCA                Classifier                ROC AUC        Classifier Params         Recall  Precision \n",
      "________________________________________________________________________________\n"
     ]
    }
   ],
   "source": [
    "sort_print_stats(stats,top=15)"
   ]
  },
  {
   "cell_type": "code",
   "execution_count": 50,
   "metadata": {},
   "outputs": [
    {
     "name": "stdout",
     "output_type": "stream",
     "text": [
      "LogisticRegression started with params C = 0.1\n",
      "Test Labels Predicted Probability Shape (61503, 2)\n",
      "{pca_component_no=NA classifier_name=LogisticRegression classifier_params=C = 0.1 roc_auc=0.6495942592022156 recall=0.8111831442463533 precision=0.12145847236546745}\n",
      "LogisticRegression completed\n",
      "LogisticRegression started with params C = 0.01\n",
      "Test Labels Predicted Probability Shape (61503, 2)\n",
      "{pca_component_no=NA classifier_name=LogisticRegression classifier_params=C = 0.01 roc_auc=0.6476843526783789 recall=0.8217179902755267 precision=0.11989358557493349}\n",
      "LogisticRegression completed\n",
      "LogisticRegression started with params C = 0.001\n",
      "Test Labels Predicted Probability Shape (61503, 2)\n",
      "{pca_component_no=NA classifier_name=LogisticRegression classifier_params=C = 0.001 roc_auc=0.6189006974675461 recall=0.8897893030794165 precision=0.1064133937440942}\n",
      "LogisticRegression completed\n",
      "LogisticRegression started with params C = 0.0001\n",
      "Test Labels Predicted Probability Shape (61503, 2)\n",
      "{pca_component_no=NA classifier_name=LogisticRegression classifier_params=C = 0.0001 roc_auc=0.5000883907578624 recall=1.0 precision=0.08026929894459532}\n",
      "LogisticRegression completed\n",
      "RandomForestClassifier started with params n_estimators = 50\n",
      "Test Labels Predicted Probability Shape (61503, 2)\n",
      "{pca_component_no=NA classifier_name=RandomForestClassifier classifier_params=n_estimators = 50 roc_auc=0.6281766968640248 recall=0.7327795786061588 precision=0.11833022540648412}\n",
      "RandomForestClassifier completed\n",
      "RandomForestClassifier started with params n_estimators = 100\n",
      "Test Labels Predicted Probability Shape (61503, 2)\n",
      "{pca_component_no=NA classifier_name=RandomForestClassifier classifier_params=n_estimators = 100 roc_auc=0.6291072405955457 recall=0.7694489465153971 precision=0.1160864382431152}\n",
      "RandomForestClassifier completed\n",
      "GradientBoostingClassifier started with params n_estimators = 100\n",
      "      Iter       Train Loss   Remaining Time \n",
      "         1           0.5512            2.36m\n",
      "         2           0.5425            2.17m\n",
      "         3           0.5361            2.08m\n",
      "         4           0.5303            1.94m\n",
      "         5           0.5256            1.84m\n",
      "         6           0.5214            1.74m\n",
      "         7           0.5179            1.60m\n",
      "         8           0.5147            1.48m\n",
      "         9           0.5118            1.35m\n",
      "        10           0.5093            1.22m\n",
      "        20           0.4934            0.00s\n",
      "Test Labels Predicted Probability Shape (61503, 2)\n",
      "{pca_component_no=NA classifier_name=GradientBoostingClassifier classifier_params=n_estimators = 100 roc_auc=0.6496472936569331 recall=0.8111831442463533 precision=0.12148058252427184}\n",
      "GradientBoostingClassifier completed\n",
      "GradientBoostingClassifier started with params n_estimators = 100\n",
      "      Iter       Train Loss   Remaining Time \n",
      "         1           0.5541            2.42m\n",
      "         2           0.5483            2.44m\n",
      "         3           0.5434            2.39m\n",
      "         4           0.5396            2.33m\n",
      "         5           0.5361            2.27m\n",
      "         6           0.5329            2.19m\n",
      "         7           0.5300            2.13m\n",
      "         8           0.5280            2.07m\n",
      "         9           0.5260            2.02m\n",
      "        10           0.5244            1.96m\n",
      "        20           0.5147            1.47m\n",
      "        30           0.5102           58.36s\n",
      "        40           0.5074           29.19s\n",
      "        50           0.5051            0.00s\n",
      "Test Labels Predicted Probability Shape (61503, 2)\n",
      "{pca_component_no=NA classifier_name=GradientBoostingClassifier classifier_params=n_estimators = 100 roc_auc=0.6522220809768792 recall=0.8020664505672609 precision=0.12330260371247041}\n",
      "GradientBoostingClassifier completed\n",
      "\n",
      "\n",
      "Sr. No. No. of PCA                Classifier                ROC AUC        Classifier Params         Recall  Precision \n",
      "________________________________________________________________________________\n",
      "  1        NA            GradientBoostingClassifier          0.65222      n_estimators = 100      0.80206645056726090.12330260371247041\n",
      "  2        NA            GradientBoostingClassifier          0.64965      n_estimators = 100      0.81118314424635330.12148058252427184\n",
      "  3        NA                LogisticRegression              0.64959           C = 0.1            0.81118314424635330.12145847236546745\n",
      "  4        NA                LogisticRegression              0.64768           C = 0.01           0.82171799027552670.11989358557493349\n",
      "  5        NA              RandomForestClassifier            0.62911      n_estimators = 100      0.76944894651539710.1160864382431152\n",
      "  6        NA              RandomForestClassifier            0.62818      n_estimators = 50       0.73277957860615880.11833022540648412\n",
      "  7        NA                LogisticRegression               0.6189          C = 0.001           0.88978930307941650.1064133937440942\n",
      "  8        NA                LogisticRegression              0.50009          C = 0.0001             1.0    0.08026929894459532\n"
     ]
    }
   ],
>>>>>>> master
   "source": [
    "limit_data = None\n",
    "classifiers = []\n",
    "classifiers.append({'clf':LogisticRegression(C = 0.1), 'params':'C = 0.1'} )\n",
    "classifiers.append({'clf':LogisticRegression(C = 0.01), 'params':'C = 0.01'} )\n",
    "classifiers.append({'clf':LogisticRegression(C = 0.001, n_jobs=-1), 'params':'C = 0.001'} )\n",
    "classifiers.append({'clf':LogisticRegression(C = 0.0001), 'params':'C = 0.0001'} )\n",
    "classifiers.append({'clf':RandomForestClassifier(n_estimators = 50), 'params':'n_estimators = 50'} )\n",
    "classifiers.append({'clf':RandomForestClassifier(n_estimators = 100, n_jobs=1), 'params':'n_estimators = 100'} )\n",
    "classifiers.append({'clf':GradientBoostingClassifier(n_estimators = 20,max_depth=7,verbose=True), 'params':'n_estimators = 100'} )\n",
    "classifiers.append({'clf':GradientBoostingClassifier(n_estimators = 50,max_depth=4,verbose=True), 'params':'n_estimators = 100'} )\n",
    "\n",
    "\n",
    "stats=run_classifiers(None,None,classifiers)\n",
    "all_stats.extend(stats)\n",
    "sort_print_stats(stats)"
   ]
  },
  {
   "cell_type": "code",
<<<<<<< HEAD
   "execution_count": 25,
=======
   "execution_count": 51,
   "metadata": {},
   "outputs": [
    {
     "data": {
      "text/plain": [
       "'clf =LogisticRegression(C = 0.01, n_jobs=-1)\\nclf = clf.fit(app_train_data_pca, train_labels)\\ntest_labels_proba = clf.predict_proba(app_test_data_pca)'"
      ]
     },
     "execution_count": 51,
     "metadata": {},
     "output_type": "execute_result"
    }
   ],
   "source": [
    "'''clf =LogisticRegression(C = 0.01, n_jobs=-1)\n",
    "clf = clf.fit(app_train_data_pca, train_labels)\n",
    "test_labels_proba = clf.predict_proba(app_test_data_pca)'''"
   ]
  },
  {
   "cell_type": "code",
   "execution_count": 52,
   "metadata": {},
   "outputs": [
    {
     "data": {
      "text/plain": [
       "\"k_range = np.arange(0,1,.01)\\nmax_roc_auc_score=-1\\nmax_k=-1\\nfor k in k_range:\\n    test_labels_predicted = test_labels_proba[:,-1] > k\\n    test_labels_predicted.astype(int)\\n    roc_auc_score = metrics.roc_auc_score(test_labels,test_labels_predicted)\\n    \\n    if roc_auc_score>max_roc_auc_score :\\n        max_roc_auc_score = roc_auc_score\\n        max_k = k\\nprint('max_roc_auc_score',max_roc_auc_score,' for k', max_k)\""
      ]
     },
     "execution_count": 52,
     "metadata": {},
     "output_type": "execute_result"
    }
   ],
   "source": [
    "'''k_range = np.arange(0,1,.01)\n",
    "max_roc_auc_score=-1\n",
    "max_k=-1\n",
    "for k in k_range:\n",
    "    test_labels_predicted = test_labels_proba[:,-1] > k\n",
    "    test_labels_predicted.astype(int)\n",
    "    roc_auc_score = metrics.roc_auc_score(test_labels,test_labels_predicted)\n",
    "    \n",
    "    if roc_auc_score>max_roc_auc_score :\n",
    "        max_roc_auc_score = roc_auc_score\n",
    "        max_k = k\n",
    "print('max_roc_auc_score',max_roc_auc_score,' for k', max_k)'''"
   ]
  },
  {
   "cell_type": "code",
   "execution_count": 53,
>>>>>>> master
   "metadata": {},
   "outputs": [
    {
     "name": "stdout",
     "output_type": "stream",
     "text": [
      "\n",
      "\n",
      "Sr. No. No. of PCA                Classifier                ROC AUC        Classifier Params         Recall  Precision \n",
      "________________________________________________________________________________\n",
<<<<<<< HEAD
      "  1        3                            KMeans                         0.54897         n_clusters=5         \n",
      "  2        3                       GaussianMixture                     0.54056        n_components=3        \n",
      "  3        1                            KMeans                         0.53397         n_clusters=5         \n",
      "  4        5                            KMeans                         0.53188         n_clusters=5         \n",
      "  5        2                            KMeans                         0.51954         n_clusters=5         \n",
      "  6        5                     KNeighborsClassifier                  0.50974        n_neighbors=3         \n",
      "  7        4                     KNeighborsClassifier                  0.50916        n_neighbors=3         \n",
      "  8        3                     KNeighborsClassifier                    0.504        n_neighbors=3         \n",
      "  9        2                     KNeighborsClassifier                   0.5038        n_neighbors=3         \n",
      "  10       1                     KNeighborsClassifier                  0.50111        n_neighbors=3         \n",
      "  11       1                       GaussianMixture                     0.50064        n_components=3        \n",
      "  12       1                    DecisionTreeClassifier                 0.49999         max_depth=5          \n",
      "  13       5                    DecisionTreeClassifier                 0.49999         max_depth=5          \n",
      "  14       3                    DecisionTreeClassifier                 0.49998         max_depth=5          \n",
      "  15       4                    DecisionTreeClassifier                 0.49998         max_depth=5          \n"
=======
      "  1        NA            GradientBoostingClassifier          0.65222      n_estimators = 100      0.80206645056726090.12330260371247041\n",
      "  2        NA            GradientBoostingClassifier          0.64965      n_estimators = 100      0.81118314424635330.12148058252427184\n",
      "  3        NA                LogisticRegression              0.64959           C = 0.1            0.81118314424635330.12145847236546745\n",
      "  4        NA                LogisticRegression              0.64768           C = 0.01           0.82171799027552670.11989358557493349\n",
      "  5        NA              RandomForestClassifier            0.62911      n_estimators = 100      0.76944894651539710.1160864382431152\n",
      "  6        NA              RandomForestClassifier            0.62818      n_estimators = 50       0.73277957860615880.11833022540648412\n",
      "  7        NA                LogisticRegression               0.6189          C = 0.001           0.88978930307941650.1064133937440942\n",
      "  8        NA                LogisticRegression              0.50009          C = 0.0001             1.0    0.08026929894459532\n"
>>>>>>> master
     ]
    }
   ],
   "source": [
    "# Summary of top 15 execution. \n",
    "sort_print_stats(all_stats,top=15)"
   ]
  },
  {
   "cell_type": "code",
   "execution_count": 54,
   "metadata": {},
   "outputs": [
    {
     "name": "stdout",
     "output_type": "stream",
     "text": [
      "GridSearchCV:KMeans started with params n_clusters\n"
     ]
    },
    {
     "ename": "AttributeError",
     "evalue": "'KMeans' object has no attribute 'predict_proba'",
     "output_type": "error",
     "traceback": [
      "\u001b[0;31m---------------------------------------------------------------------------\u001b[0m",
      "\u001b[0;31mAttributeError\u001b[0m                            Traceback (most recent call last)",
      "\u001b[0;32m<ipython-input-54-5eb5d7f977c3>\u001b[0m in \u001b[0;36m<module>\u001b[0;34m()\u001b[0m\n\u001b[1;32m     10\u001b[0m \u001b[0mclassifiers\u001b[0m\u001b[0;34m.\u001b[0m\u001b[0mappend\u001b[0m\u001b[0;34m(\u001b[0m\u001b[0;34m{\u001b[0m\u001b[0;34m'clf'\u001b[0m\u001b[0;34m:\u001b[0m\u001b[0mGridSearchCV\u001b[0m\u001b[0;34m(\u001b[0m\u001b[0mestimator\u001b[0m\u001b[0;34m=\u001b[0m\u001b[0mGaussianMixture\u001b[0m\u001b[0;34m(\u001b[0m\u001b[0mverbose\u001b[0m\u001b[0;34m=\u001b[0m\u001b[0;36m1\u001b[0m\u001b[0;34m)\u001b[0m\u001b[0;34m,\u001b[0m \u001b[0mparam_grid\u001b[0m\u001b[0;34m=\u001b[0m\u001b[0mcomponents\u001b[0m\u001b[0;34m)\u001b[0m\u001b[0;34m,\u001b[0m \u001b[0;34m'params'\u001b[0m\u001b[0;34m:\u001b[0m\u001b[0;34m'n_components'\u001b[0m\u001b[0;34m}\u001b[0m \u001b[0;34m)\u001b[0m\u001b[0;34m\u001b[0m\u001b[0m\n\u001b[1;32m     11\u001b[0m \u001b[0mclassifiers\u001b[0m\u001b[0;34m.\u001b[0m\u001b[0mappend\u001b[0m\u001b[0;34m(\u001b[0m\u001b[0;34m{\u001b[0m\u001b[0;34m'clf'\u001b[0m\u001b[0;34m:\u001b[0m\u001b[0mGridSearchCV\u001b[0m\u001b[0;34m(\u001b[0m\u001b[0mestimator\u001b[0m\u001b[0;34m=\u001b[0m\u001b[0mKNeighborsClassifier\u001b[0m\u001b[0;34m(\u001b[0m\u001b[0;34m)\u001b[0m\u001b[0;34m,\u001b[0m \u001b[0mparam_grid\u001b[0m\u001b[0;34m=\u001b[0m\u001b[0mneighbors\u001b[0m\u001b[0;34m)\u001b[0m\u001b[0;34m,\u001b[0m \u001b[0;34m'params'\u001b[0m\u001b[0;34m:\u001b[0m\u001b[0;34m'n_neighbors'\u001b[0m\u001b[0;34m}\u001b[0m \u001b[0;34m)\u001b[0m\u001b[0;34m\u001b[0m\u001b[0m\n\u001b[0;32m---> 12\u001b[0;31m \u001b[0mstats\u001b[0m\u001b[0;34m=\u001b[0m\u001b[0mrun_classifiers\u001b[0m\u001b[0;34m(\u001b[0m\u001b[0;32mNone\u001b[0m\u001b[0;34m,\u001b[0m\u001b[0;32mNone\u001b[0m\u001b[0;34m,\u001b[0m\u001b[0mclassifiers\u001b[0m\u001b[0;34m)\u001b[0m\u001b[0;34m\u001b[0m\u001b[0m\n\u001b[0m\u001b[1;32m     13\u001b[0m \u001b[0mall_stats\u001b[0m\u001b[0;34m.\u001b[0m\u001b[0mextend\u001b[0m\u001b[0;34m(\u001b[0m\u001b[0mstats\u001b[0m\u001b[0;34m)\u001b[0m\u001b[0;34m\u001b[0m\u001b[0m\n\u001b[1;32m     14\u001b[0m \u001b[0msort_print_stats\u001b[0m\u001b[0;34m(\u001b[0m\u001b[0mstats\u001b[0m\u001b[0;34m)\u001b[0m\u001b[0;34m\u001b[0m\u001b[0m\n",
      "\u001b[0;32m<ipython-input-47-0fa9153d5285>\u001b[0m in \u001b[0;36mrun_classifiers\u001b[0;34m(min_PCA, max_PCA, classifier_list, train_test_data)\u001b[0m\n\u001b[1;32m     70\u001b[0m             st = run_classifier(clf, train_data,train_labels\n\u001b[1;32m     71\u001b[0m                                         \u001b[0;34m,\u001b[0m\u001b[0mtest_data\u001b[0m\u001b[0;34m,\u001b[0m\u001b[0mtest_labels\u001b[0m\u001b[0;34m\u001b[0m\u001b[0m\n\u001b[0;32m---> 72\u001b[0;31m                                 ,'NA',clf_params)\n\u001b[0m\u001b[1;32m     73\u001b[0m             \u001b[0mprint\u001b[0m\u001b[0;34m(\u001b[0m\u001b[0mst\u001b[0m\u001b[0;34m)\u001b[0m\u001b[0;34m\u001b[0m\u001b[0m\n\u001b[1;32m     74\u001b[0m             \u001b[0mstats\u001b[0m\u001b[0;34m.\u001b[0m\u001b[0mappend\u001b[0m\u001b[0;34m(\u001b[0m\u001b[0mst\u001b[0m\u001b[0;34m)\u001b[0m\u001b[0;34m\u001b[0m\u001b[0m\n",
      "\u001b[0;32m<ipython-input-47-0fa9153d5285>\u001b[0m in \u001b[0;36mrun_classifier\u001b[0;34m(clf, train_data, train_labels, test_data, test_labels, pca_no, clf_params)\u001b[0m\n\u001b[1;32m     27\u001b[0m     \u001b[0mclf\u001b[0m \u001b[0;34m=\u001b[0m \u001b[0mclf\u001b[0m\u001b[0;34m.\u001b[0m\u001b[0mfit\u001b[0m\u001b[0;34m(\u001b[0m\u001b[0mtrain_data\u001b[0m\u001b[0;34m,\u001b[0m\u001b[0mtrain_labels\u001b[0m\u001b[0;34m)\u001b[0m\u001b[0;34m\u001b[0m\u001b[0m\n\u001b[1;32m     28\u001b[0m \u001b[0;34m\u001b[0m\u001b[0m\n\u001b[0;32m---> 29\u001b[0;31m     \u001b[0mtest_labels_proba\u001b[0m \u001b[0;34m=\u001b[0m \u001b[0mclf\u001b[0m\u001b[0;34m.\u001b[0m\u001b[0mpredict_proba\u001b[0m\u001b[0;34m(\u001b[0m\u001b[0mtest_data\u001b[0m\u001b[0;34m)\u001b[0m\u001b[0;34m\u001b[0m\u001b[0m\n\u001b[0m\u001b[1;32m     30\u001b[0m     \u001b[0mprint\u001b[0m\u001b[0;34m(\u001b[0m\u001b[0;34m'Test Labels Predicted Probability Shape'\u001b[0m\u001b[0;34m,\u001b[0m \u001b[0mtest_labels_proba\u001b[0m\u001b[0;34m.\u001b[0m\u001b[0mshape\u001b[0m\u001b[0;34m)\u001b[0m\u001b[0;34m\u001b[0m\u001b[0m\n\u001b[1;32m     31\u001b[0m     \u001b[0mtest_labels_predicted\u001b[0m \u001b[0;34m=\u001b[0m \u001b[0mtest_labels_proba\u001b[0m\u001b[0;34m[\u001b[0m\u001b[0;34m:\u001b[0m\u001b[0;34m,\u001b[0m\u001b[0;34m-\u001b[0m\u001b[0;36m1\u001b[0m\u001b[0;34m]\u001b[0m \u001b[0;34m>\u001b[0m \u001b[0mpositive_probability_threashold\u001b[0m\u001b[0;34m\u001b[0m\u001b[0m\n",
      "\u001b[0;32m~/anaconda3/lib/python3.6/site-packages/sklearn/utils/metaestimators.py\u001b[0m in \u001b[0;36m__get__\u001b[0;34m(self, obj, type)\u001b[0m\n\u001b[1;32m    107\u001b[0m                     \u001b[0;32mcontinue\u001b[0m\u001b[0;34m\u001b[0m\u001b[0m\n\u001b[1;32m    108\u001b[0m                 \u001b[0;32melse\u001b[0m\u001b[0;34m:\u001b[0m\u001b[0;34m\u001b[0m\u001b[0m\n\u001b[0;32m--> 109\u001b[0;31m                     \u001b[0mgetattr\u001b[0m\u001b[0;34m(\u001b[0m\u001b[0mdelegate\u001b[0m\u001b[0;34m,\u001b[0m \u001b[0mself\u001b[0m\u001b[0;34m.\u001b[0m\u001b[0mattribute_name\u001b[0m\u001b[0;34m)\u001b[0m\u001b[0;34m\u001b[0m\u001b[0m\n\u001b[0m\u001b[1;32m    110\u001b[0m                     \u001b[0;32mbreak\u001b[0m\u001b[0;34m\u001b[0m\u001b[0m\n\u001b[1;32m    111\u001b[0m             \u001b[0;32melse\u001b[0m\u001b[0;34m:\u001b[0m\u001b[0;34m\u001b[0m\u001b[0m\n",
      "\u001b[0;31mAttributeError\u001b[0m: 'KMeans' object has no attribute 'predict_proba'"
     ]
    }
   ],
   "source": [
    "limit_data = None\n",
    "clusters = {'n_clusters':list(range(8,10))}\n",
    "depths = {'max_depth':list(range(5,7))}\n",
    "components = {'n_components':list(range(5,6))}\n",
    "neighbors = {'n_neighbors':list(range(5,6))}\n",
    "\n",
    "classifiers = []\n",
    "#classifiers.append({'clf':GridSearchCV(estimator=KMeans(), param_grid=clusters), 'params':'n_clusters'} )\n",
    "classifiers.append({'clf':GridSearchCV(estimator=DecisionTreeClassifier(), param_grid=depths), 'params':'max_depth'} )\n",
    "classifiers.append({'clf':GridSearchCV(estimator=GaussianMixture(verbose=1), param_grid=components), 'params':'n_components'} )\n",
    "classifiers.append({'clf':GridSearchCV(estimator=KNeighborsClassifier(), param_grid=neighbors), 'params':'n_neighbors'} )\n",
    "stats=run_classifiers(None,None,classifiers)\n",
    "all_stats.extend(stats) \n",
    "sort_print_stats(stats)"
   ]
  },
  {
   "cell_type": "code",
   "execution_count": 55,
   "metadata": {},
   "outputs": [],
   "source": [
    "limit_data = None\n",
    "#Cs = {'C':[.1,.01,.001,.0001]}\n",
    "#estimators = {'n_estimators':[50,100,150]}\n",
    "\n",
    "Cs = {'C':[.001]}\n",
    "estimators = {'n_estimators':[50]}\n",
    "\n",
    "classifiers = []\n",
    "classifiers.append({'clf':GridSearchCV(estimator=LogisticRegression(), param_grid=Cs), 'params':'C'} )\n",
    "classifiers.append({'clf':GridSearchCV(estimator=RandomForestClassifier(), param_grid=estimators), 'params':'n_estimators'} )\n",
    "classifiers.append({'clf':GridSearchCV(estimator=GradientBoostingClassifier(), param_grid=estimators), 'params':'n_estimators'} )\n",
    "\n",
    "#stats=run_classifiers(None,None,classifiers)\n",
    "#all_stats.extend(stats)\n",
    "#sort_print_stats(stats)"
   ]
  },
  {
   "cell_type": "markdown",
   "metadata": {},
   "source": [
    "In our final configurations, we see that our best model is our Gaussian Mixture Model, which allows us to achieve our target.  "
   ]
  },
  {
   "cell_type": "code",
   "execution_count": 64,
   "metadata": {},
   "outputs": [
    {
     "name": "stdout",
     "output_type": "stream",
     "text": [
      "\n",
      "\n",
      "Sr. No. No. of PCA                Classifier                ROC AUC        Classifier Params         Recall  Precision \n",
      "______________________________________________________________________________________________________________________\n",
      "  1        NA            GradientBoostingClassifier          0.65222      n_estimators = 100         0.80207    0.1233\n",
      "  2        NA            GradientBoostingClassifier          0.64965      n_estimators = 100         0.81118   0.12148\n",
      "  3        NA                LogisticRegression              0.64959           C = 0.1               0.81118   0.12146\n",
      "  4        NA                LogisticRegression              0.64768           C = 0.01              0.82172   0.11989\n",
      "  5        NA              RandomForestClassifier            0.62911      n_estimators = 100         0.76945   0.11609\n",
      "  6        NA              RandomForestClassifier            0.62818      n_estimators = 50          0.73278   0.11833\n",
      "  7        NA                LogisticRegression               0.6189          C = 0.001              0.88979   0.10641\n",
      "  8        NA                LogisticRegression              0.50009          C = 0.0001                 1.0  0.080269\n"
     ]
    }
   ],
   "source": [
    "# Summary of top 15 execution. \n",
    "sort_print_stats(all_stats,top=15)"
   ]
  },
  {
   "cell_type": "markdown",
   "metadata": {},
   "source": [
    "In the code block below, we explore some alternative methods of prediction and explore the alternative metrics of precision and recall. The method of prediction provided by the Acorn class is to aggregate the 'votes' of several classifers and find a consensus on the ultimate classification of the target feature. Notably, we use 3 or 5 classifiers to avoid tie votes. The theory behind this method is that the aggregation of predictions is likely to be more accurate than any single prediction. This principle has been demonstrated in prediction markets as well as with mathematical examples.\n",
    "\n",
    "To test the point, we selected some of our lower performing classifers. The results below are interesting in that we obtain a relatively high precision and recall score with both being in the low 90s. In addition, we obtain a a ROC AUC score of .63, which is very close to our original target using three underperforming classifiers."
   ]
  },
  {
   "cell_type": "code",
<<<<<<< HEAD
   "execution_count": 61,
   "metadata": {},
   "outputs": [
    {
     "name": "stdout",
     "output_type": "stream",
     "text": [
      "Score: 0.919760011706746\n",
      "\n",
      "Precision:0.919760011706746 | Recall: 0.919760011706746\n",
      "\n"
     ]
    },
    {
     "data": {
      "image/png": "iVBORw0KGgoAAAANSUhEUgAAAYoAAAEWCAYAAAB42tAoAAAABHNCSVQICAgIfAhkiAAAAAlwSFlz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\n9DJaTAiTV4yGwgAAAABJRU5ErkJggg==\n",
      "text/plain": [
       "<matplotlib.figure.Figure at 0x1122d9400>"
      ]
     },
     "metadata": {},
     "output_type": "display_data"
    },
    {
     "data": {
      "text/plain": [
       "array([[ 0.92512276,  0.07487724],\n",
       "       [ 0.91929973,  0.08070027],\n",
       "       [ 0.90955937,  0.09044063],\n",
       "       ..., \n",
       "       [ 0.94302602,  0.05697398],\n",
       "       [ 0.89901303,  0.10098697],\n",
       "       [ 0.93006206,  0.06993794]])"
      ]
     },
     "execution_count": 61,
     "metadata": {},
     "output_type": "execute_result"
    }
   ],
=======
   "execution_count": null,
   "metadata": {},
   "outputs": [],
>>>>>>> master
   "source": [
    "class Acorn():\n",
    "\n",
    "    def __init__(self, classifiers, X):\n",
    "        self.classifiers = classifiers\n",
    "        self.votes = [clf.predict(X) for clf in self.classifiers]\n",
    "        self.election_results = None\n",
    "\n",
    "    def _get_votes(self):\n",
    "        # 3 and 5 clasifiers to avoid ties\n",
    "        if len(self.votes) == 3:\n",
    "            return np.c_[self.votes[0], self.votes[1], self.votes[2]]\n",
    "        if len(self.votes) == 5:\n",
    "            return np.c_[self.votes[0], self.votes[1], self.votes[2], self.votes[3], self.votes[4]]\n",
    "        else:\n",
    "            print('number of classiefiers must be 3 or 5')\n",
    "\n",
    "    def vote(self):\n",
    "        vote_pool = self._get_votes()\n",
    "        self.election_results = np.array([np.argmax(np.bincount(item)) for item in vote_pool])\n",
    "        return self.election_results\n",
    "    \n",
    "    def spf_score(self, y, average='micro'):\n",
    "        if np.shape(self.election_results) == np.shape(y):\n",
    "            print('Score: {}\\n'.format(np.sum(self.election_results == y)/np.shape(self.election_results)[0]))\n",
    "            print('Precision:{} | Recall: {}\\n'.format(precision_score(y, self.election_results, average=average),\n",
    "                                                      recall_score(y, self.election_results, average=average)))\n",
    "            #print('F1 score: {}'.format(f1_score(y, self.election_results)))\n",
    "    \n",
    "    def roc_it(self, X, y, plot=False):\n",
    "        p = np.array(None)\n",
    "        d = 0\n",
    "        for i, clf in enumerate(self.classifiers):\n",
    "            if i == 0:\n",
    "                p = clf.predict_proba(X)\n",
    "            else:\n",
    "                p = p + clf.predict_proba(X)\n",
    "                d = i\n",
    "        prob_pos = p/(d+1)\n",
    "        prob_pos = np.array([prob_pos[i,x] for i, x in enumerate(np.argmax(prob_pos, axis=1))])\n",
    "        \n",
    "        #code adapted from matplotlib\n",
    "        if plot == True:\n",
    "            fpr, tpr, _ = roc_curve(y, prob_pos)\n",
    "            roc_auc = auc(tpr, fpr)\n",
    "            plt.plot(tpr, fpr, color='orange',\n",
    "                    lw=1.5, label='ROC Curve (area = %0.2f)' % roc_auc)\n",
    "            plt.plot([0,1], [0,1], color='steelblue', lw=1, linestyle='--')\n",
    "            plt.xlim([0.0,1.0])\n",
    "            plt.ylim([0.0,1.0])\n",
    "            plt.xlabel('False Positive Rate')\n",
    "            plt.ylabel('True Positive Rate')\n",
    "            plt.title('Receiver Operating Characteristic')\n",
    "            plt.legend(loc='lower right')\n",
    "            plt.show()\n",
    "        else:\n",
    "            print('ROC_AUC score: {}'.format(roc_auc_score(y, prob_pos)))\n",
    "        return p/(d+1)\n",
    "\n",
    "pca = PCA(n_components = 5,copy = True)\n",
    "train_data_pca = pca.fit_transform(app_train_data) \n",
    "test_data_pca = pca.transform(app_test_data) \n",
    "    \n",
    "\n",
    "logreg = classifiers[1]['clf']\n",
    "#logreg.fit(app_train_data, train_labels)\n",
    "logreg.fit(train_data_pca , train_labels)\n",
    "randtree = classifiers[4]['clf']\n",
    "#randtree.fit(app_train_data, train_labels)\n",
    "randtree.fit(train_data_pca , train_labels)\n",
    "grad = classifiers[6]['clf']\n",
    "#grad.fit(app_train_data, train_labels)\n",
    "grad.fit(train_data_pca , train_labels)\n",
    "\n",
    "\n",
    "acorn = Acorn([logreg, randtree, grad],test_data_pca)\n",
    "acorn.vote()\n",
    "acorn.spf_score(test_labels)\n",
    "acorn.roc_it(test_data_pca, test_labels, plot=True)\n",
    "    \n",
    "#classifiers"
   ]
  },
  {
   "cell_type": "markdown",
   "metadata": {},
   "source": [
    "In the code and notes above, we demonstrated a process that hit our target accuracy metric. To accomplish, this we made some attempts at featuring engineering, but ultimately chose to reduce the dimenisonality after the feature engineering efforts were largely ineffective. We believe that this is due to the need for domain expertise to engineer additional features. As a result, we used PCA to reduce the dimensionality of our data and utilize only those features which captured the greatest amount of variance in our data. This technique proved effective and allowed us to achieve our goal of accuracy. Finally, we examined an alternative/experimental method of classification which aggregates the predictions of several classifiers to made a prediction. This method had interesting results in that the consensus prediction of three under-performing classifiers very nearly allowed us to achieve our accuracy goal without adjustment to our models."
   ]
  }
 ],
 "metadata": {
  "kernelspec": {
   "display_name": "Python 3",
   "language": "python",
   "name": "python3"
  },
  "language_info": {
   "codemirror_mode": {
    "name": "ipython",
    "version": 3
   },
   "file_extension": ".py",
   "mimetype": "text/x-python",
   "name": "python",
   "nbconvert_exporter": "python",
   "pygments_lexer": "ipython3",
   "version": "3.6.4"
  }
 },
 "nbformat": 4,
 "nbformat_minor": 2
}
